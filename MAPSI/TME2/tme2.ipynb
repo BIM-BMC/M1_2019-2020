{
 "cells": [
  {
   "cell_type": "code",
   "execution_count": 6,
   "metadata": {},
   "outputs": [],
   "source": [
    "import numpy as np"
   ]
  },
  {
   "cell_type": "markdown",
   "metadata": {},
   "source": [
    "# MAPSI - TME  - Rappels de Proba/stats"
   ]
  },
  {
   "cell_type": "markdown",
   "metadata": {},
   "source": [
    "## I- La planche de Galton (<font color=\"red\"> obligatoire</font>)"
   ]
  },
  {
   "cell_type": "markdown",
   "metadata": {},
   "source": [
    "### I.1- Loi de Bernouilli\n",
    "Écrire une fonction `bernouilli: float ->int` qui prend en argument la paramètre $p \\in [0,1]$ et qui renvoie aléatoirement $0$ (avec la probabilité $1-p$) ou $1$ (avec la probabilité $p$)."
   ]
  },
  {
   "cell_type": "code",
   "execution_count": 7,
   "metadata": {},
   "outputs": [],
   "source": [
    "from random import * \n",
    "def bernouilli(p):\n",
    "    if (random()<p):\n",
    "        n=1\n",
    "    else:\n",
    "        n=0\n",
    "    return n\n",
    "    # votre code\n",
    "    pass\n",
    "   "
   ]
  },
  {
   "cell_type": "markdown",
   "metadata": {},
   "source": [
    "### I.2- Loi binomiale\n",
    "Écrire une fonction `binomiale: int , float -> int` qui prend en argument un entier $n$ et $p \\in [0,1]$ et qui renvoie aléatoirement un nimbre tiré selon la distribution ${\\cal B}(n,p)$."
   ]
  },
  {
   "cell_type": "code",
   "execution_count": 8,
   "metadata": {},
   "outputs": [],
   "source": [
    "def binomiale(n,p):\n",
    "    count=0\n",
    "    for i in range(n):\n",
    "        count=count+bernouilli(p)\n",
    "    return count\n",
    "    \n",
    "    pass\n",
    "#print(binomiale(10,0.5))"
   ]
  },
  {
   "cell_type": "markdown",
   "metadata": {},
   "source": [
    "### I.3- Histogramme de la loi binomiale\n",
    "<img src=\"tme2_Galton.jpg\" title=\"Planche de Galton\" style=\"float: right;\">\n",
    "\n",
    "Dans cette question, on considère une planche de Galton de hauteur $n$. On rappelle que des bâtons horizontaux (oranges) sont cloués à cette planche comme le montre la figure ci-contre. \n",
    "\n",
    " Des billes bleues tombent du haut de la planche et, à chaque niveau, se retrouvent à la verticale d'un des bâtons. Elles vont alors tomber soit à gauche, soit à droite du bâton, jusqu'à atteindre le bas de la planche. Ce dernier est constitué de petites boites dont les bords sont symbolisés par les lignes verticales grises. \n",
    " \n",
    "Chaque boite renferme des billes qui sont passées exactement le même nombre de fois à droite des bâtons oranges. Par exemple, la boite la plus à gauche renferme les billes qui ne sont jamais passées à droite d'un bâton, celle juste à sa droite renferme les billes passées une seule fois à droite d'un bâton et toutes les autres fois à gauche, et ainsi de suite. \n",
    "\n",
    "La répartition des billes dans les boites suit donc une loi binomiale ${\\cal B}(n,0.5)$. \n",
    "\n",
    "Écrire un script qui crée un tableau de $1000$ cases dont le contenu correspond à $1000$ instanciations de la loi binomiale ${\\cal B}(n,0.5)$. Afin de voir la répartition des billes dans la planche de Galton, tracer l'histogramme de ce tableau. Vous pourrez utiliser la fonction hist de matplotlib.pyplot: "
   ]
  },
  {
   "cell_type": "code",
   "execution_count": 9,
   "metadata": {},
   "outputs": [
    {
     "name": "stdout",
     "output_type": "stream",
     "text": [
      "[501, 512, 523, 512, 509, 486, 469, 493, 498, 479, 525, 510, 475, 465, 505, 511, 493, 470, 520, 504, 503, 506, 499, 500, 510, 522, 467, 511, 479, 484, 478, 494, 474, 487, 495, 503, 487, 477, 519, 482, 497, 510, 520, 509, 508, 497, 491, 527, 479, 482, 501, 475, 502, 472, 510, 487, 511, 514, 495, 492, 477, 516, 503, 510, 493, 469, 508, 510, 523, 494, 515, 488, 527, 506, 503, 488, 494, 493, 465, 504, 486, 483, 485, 494, 508, 478, 469, 480, 495, 501, 523, 519, 491, 514, 514, 522, 527, 471, 488, 521, 496, 527, 508, 515, 496, 488, 481, 489, 511, 522, 506, 511, 473, 472, 509, 477, 508, 521, 512, 484, 505, 513, 512, 522, 496, 508, 478, 478, 504, 491, 515, 472, 525, 510, 491, 478, 512, 505, 496, 551, 504, 488, 506, 498, 493, 488, 502, 512, 509, 513, 513, 496, 491, 498, 474, 511, 505, 461, 507, 498, 512, 496, 491, 508, 495, 527, 496, 494, 480, 502, 486, 492, 490, 492, 513, 492, 489, 503, 508, 502, 517, 517, 528, 492, 487, 499, 499, 496, 514, 489, 509, 490, 509, 471, 505, 513, 518, 495, 502, 505, 531, 475, 513, 498, 518, 484, 502, 509, 507, 506, 485, 508, 509, 485, 512, 489, 498, 504, 487, 500, 482, 509, 497, 523, 508, 493, 496, 516, 525, 522, 516, 501, 489, 484, 504, 483, 506, 509, 496, 479, 487, 520, 487, 505, 528, 489, 476, 486, 505, 487, 505, 507, 474, 505, 506, 526, 487, 498, 508, 483, 490, 482, 497, 511, 472, 483, 481, 480, 490, 502, 490, 512, 488, 490, 503, 507, 483, 484, 493, 504, 506, 522, 487, 503, 521, 512, 497, 511, 477, 471, 496, 496, 485, 490, 491, 479, 519, 487, 511, 503, 502, 465, 525, 502, 515, 483, 529, 525, 503, 513, 503, 478, 514, 485, 508, 494, 508, 510, 487, 512, 472, 498, 511, 494, 487, 478, 513, 491, 484, 507, 459, 496, 537, 511, 492, 505, 483, 520, 482, 486, 514, 505, 504, 460, 499, 518, 505, 531, 499, 503, 500, 471, 518, 499, 517, 512, 514, 500, 493, 506, 531, 517, 488, 487, 491, 501, 494, 483, 498, 511, 506, 484, 502, 538, 491, 513, 475, 509, 487, 491, 513, 477, 500, 498, 502, 493, 484, 499, 495, 507, 525, 511, 491, 503, 488, 482, 500, 524, 476, 486, 472, 509, 497, 502, 515, 501, 479, 493, 507, 504, 518, 487, 520, 511, 508, 508, 515, 490, 485, 524, 524, 517, 499, 501, 509, 530, 522, 500, 483, 535, 520, 488, 508, 516, 458, 496, 495, 492, 488, 536, 474, 501, 515, 483, 494, 486, 515, 508, 497, 527, 516, 495, 494, 497, 497, 520, 503, 507, 518, 479, 470, 502, 511, 468, 523, 504, 520, 483, 492, 494, 476, 483, 496, 514, 491, 500, 531, 467, 520, 507, 531, 504, 480, 479, 478, 485, 500, 491, 483, 499, 508, 508, 505, 495, 497, 479, 512, 518, 495, 485, 500, 476, 493, 488, 486, 500, 521, 503, 475, 465, 503, 525, 519, 485, 493, 489, 484, 495, 471, 488, 491, 525, 514, 502, 501, 488, 520, 489, 470, 500, 500, 512, 521, 463, 502, 498, 528, 481, 492, 519, 507, 464, 496, 515, 537, 480, 528, 514, 481, 482, 503, 507, 489, 480, 501, 510, 510, 520, 495, 502, 501, 485, 506, 521, 498, 518, 484, 506, 491, 490, 512, 501, 497, 496, 487, 463, 493, 504, 502, 517, 511, 497, 501, 502, 503, 510, 488, 476, 483, 493, 527, 501, 496, 495, 476, 484, 489, 491, 495, 518, 509, 467, 487, 499, 497, 505, 474, 510, 509, 488, 517, 492, 484, 510, 523, 502, 510, 488, 498, 525, 492, 517, 502, 483, 507, 487, 487, 508, 487, 505, 510, 509, 513, 513, 476, 487, 477, 518, 504, 505, 521, 491, 505, 480, 524, 518, 519, 505, 497, 507, 503, 483, 484, 482, 497, 499, 491, 489, 507, 495, 470, 509, 507, 488, 497, 495, 502, 491, 529, 469, 502, 496, 496, 482, 524, 502, 504, 494, 508, 489, 486, 475, 507, 501, 512, 470, 499, 492, 522, 513, 478, 467, 495, 490, 495, 482, 491, 479, 508, 493, 495, 481, 497, 515, 494, 517, 498, 506, 473, 506, 488, 512, 480, 503, 520, 511, 516, 488, 515, 484, 471, 496, 484, 543, 498, 475, 500, 485, 508, 500, 498, 473, 502, 469, 514, 486, 488, 472, 478, 479, 499, 481, 484, 499, 474, 504, 502, 484, 505, 527, 491, 535, 487, 525, 484, 509, 517, 488, 516, 491, 502, 498, 493, 490, 518, 480, 492, 521, 487, 496, 493, 497, 482, 488, 520, 507, 501, 490, 499, 498, 507, 522, 505, 510, 510, 490, 492, 505, 494, 524, 477, 490, 484, 513, 514, 493, 490, 518, 482, 518, 498, 499, 504, 481, 481, 500, 508, 497, 471, 502, 501, 474, 492, 500, 501, 492, 481, 497, 515, 476, 525, 489, 504, 506, 489, 514, 503, 521, 498, 471, 493, 499, 517, 513, 480, 496, 509, 507, 486, 487, 514, 485, 493, 490, 492, 518, 487, 512, 492, 503, 500, 513, 490, 555, 494, 529, 537, 516, 478, 494, 526, 489, 501, 503, 490, 462, 513, 493, 512, 522, 509, 506, 500, 524, 488, 484, 488, 518, 480, 495, 508, 536, 493, 492, 483, 447, 485, 522, 513, 508, 488, 495, 515, 504, 508, 521, 482, 514, 493, 475, 498, 468, 496, 506, 509, 503, 521, 473, 476, 491, 483, 510, 507, 501, 504, 496, 511, 507, 487, 496, 509, 492, 494, 512, 513, 460, 530, 505, 506, 534, 487, 513, 494, 494, 474, 524, 494, 503, 474, 507, 491, 487, 480, 513, 486, 483, 527, 495, 471, 503, 521, 489, 495, 479, 492, 488, 507, 494, 496, 507, 509, 496, 502, 501, 493, 489, 501, 500, 479, 522, 485, 504, 499, 516, 472, 500, 507, 511, 535, 496, 498, 509, 514, 493, 521, 490, 512, 498, 508, 496, 517, 503, 493, 490, 547, 509, 521, 468, 484, 504]\n",
      "83\n"
     ]
    }
   ],
   "source": [
    "import matplotlib.pyplot as plt\n",
    "n=1000\n",
    "tableau=[]\n",
    "#for i in range (1000):\n",
    "#    tableau.append(0)\n",
    "#for i in range (1000):\n",
    "#    tableau[binomiale(1000,0.5)]=tableau[binomiale(1000,0.5)]+1\n",
    "\n",
    "#for i in range(n+1):\n",
    "##    tableau.append(0)\n",
    "#for i in range(1000):\n",
    "#    tableau[binomiale(n,0.5)]+=1\n",
    "#print (tableau)\n",
    "\n",
    "for i in range (1000):\n",
    "    tableau.append(binomiale(n,0.5))\n",
    "    \n",
    "print(tableau)\n",
    "\n",
    "liste=[]\n",
    "for i in tableau:\n",
    "    if not i in liste:\n",
    "        liste.append(i)\n",
    "bins=len(liste)\n",
    "print (bins)    \n",
    "        \n",
    "\n",
    "plt.hist (tableau,bins);\n",
    "\n",
    "#plt.hist ([0,1,2,10,12,13,4,56],4);"
   ]
  },
  {
   "cell_type": "markdown",
   "metadata": {},
   "source": [
    "Pour le nombre de bins, calculez le nombre de valeurs différentes dans votre tableau."
   ]
  },
  {
   "cell_type": "code",
   "execution_count": 10,
   "metadata": {},
   "outputs": [
    {
     "name": "stdout",
     "output_type": "stream",
     "text": [
      "83\n"
     ]
    }
   ],
   "source": [
    "liste=[]\n",
    "for i in tableau:\n",
    "    if not i in liste:\n",
    "        liste.append(i)\n",
    "bins=len(liste)\n",
    "print (bins)    \n",
    "        \n",
    "    \n",
    "    \n",
    "    \n",
    "    \n",
    "# votre code"
   ]
  },
  {
   "cell_type": "markdown",
   "metadata": {},
   "source": [
    "## II- Visualisation d'indépendances (<font color=\"red\"> obligatoire</font>)"
   ]
  },
  {
   "cell_type": "markdown",
   "metadata": {},
   "source": [
    "### II.1- Loi normale centrée réduite\n",
    "<img src=\"tme2_normale.jpg\" title=\"Planche de Galton\" style=\"float: right;\">\n",
    "\n",
    "On souhaite visualiser la fonction de densité de la loi normale. Pour cela, on va créer un ensemble de $k$ points $(x_i,y_i$), pour des $x_i$ équi-espacés variant de $-2σ$ à $2σ$, les $y_i$ correspondant à la valeur de la fonction de densité de la loi normale centrée de variance $σ^2$, autrement dit ${\\cal N}(0,σ^2)$.\n",
    "\n",
    "Écrire une fonction `normale : int , float -> float np.array` qui, étant donné un paramètre entier `k` impair et un paramètre réel `sigma` renvoie l'`array numpy` des $k$ valeurs $y_i$. Afin que l'`array numpy` soit bien symmétrique, on lèvera une exception si $k$ est pair."
   ]
  },
  {
   "cell_type": "code",
   "execution_count": 11,
   "metadata": {},
   "outputs": [],
   "source": [
    "import sys\n",
    "k=101\n",
    "\n",
    "def normale ( k, sigma ): \n",
    "    if (k%2==0):\n",
    "        sys.exit(\"k est pair\")\n",
    "    else:\n",
    "        x_tab=[]\n",
    "        y_tab=[]\n",
    "        x_tab=np.linspace(-2*sigma,2*sigma,k)\n",
    "        for i in x_tab:\n",
    "            valeur=(1/(sigma*((2*np.pi)**0.5)))*np.exp(-0.5*(i/sigma)**2)\n",
    "            y_tab.append(valeur)\n",
    "            mat=np.array([x_tab,y_tab])\n",
    "        return(mat)\n",
    "    \n",
    "    pass\n",
    "#test d'erreur\n",
    "#arr=normale(4,1)\n",
    "mat=normale(k,1)\n",
    "\n"
   ]
  },
  {
   "cell_type": "markdown",
   "metadata": {},
   "source": [
    "Vérfier la validité de votre fonction en affichant grâce à la fonction plot les points générés dans une figure. "
   ]
  },
  {
   "cell_type": "code",
   "execution_count": 12,
   "metadata": {},
   "outputs": [
    {
     "data": {
      "text/plain": [
       "[<matplotlib.lines.Line2D at 0x7f9377a254d0>]"
      ]
     },
     "execution_count": 12,
     "metadata": {},
     "output_type": "execute_result"
    },
    {
     "data": {
      "image/png": "[encoded data removed]",
      "text/plain": [
       "<matplotlib.figure.Figure at 0x7f9377a56450>"
      ]
     },
     "metadata": {
      "needs_background": "light"
     },
     "output_type": "display_data"
    }
   ],
   "source": [
    "#votre code\n",
    "plt.plot(mat[0],mat[1])"
   ]
  },
  {
   "cell_type": "markdown",
   "metadata": {},
   "source": [
    "### II.2- Distribution de probabilité affine\n",
    "<img src=\"tme2_lineaire.jpg\" title=\"Distribution affine\" style=\"float: right;\">\n",
    "\n",
    "Dans cette question, on considère une généralisation de la distribution uniforme: une distribution affine, c'est-à-dire que la fonction de densité est une droite, mais pas forcément horizontale, comme le montre la figure ci-contre. \n",
    "\n",
    "Écrire une fonction `proba_affine : int , float -> float np.array` qui, comme dans la question précédente, va générer un ensemble de $k$ points $y_i, i=0,...,k−1$, représentant cette distribution (paramétrée par sa pente `slope`). On vérifiera ici aussi que l'entier $k$ est impair. Si la pente est égale à $0$, c'est-à-dire si la distribution est uniforme, chaque point $y_i$ devrait être égal à $\\frac{1}{k}$ (afin que $\\sum y_i=1$). Si la pente est différente de $0$, il suffit de choisir, $\\forall i=0,...,k−1$,\n",
    "\n",
    "$$y_i=\\frac{1}{k}+(i−\\frac{k−1}{2})×slope$$\n",
    "\n",
    "Vous pourrez aisément vérifier que, ici aussi, $\\sum y_i=1$. Afin que la distribution soit toujours positive (c'est quand même un minimum pour une distribution de probabilité), il faut que la pente slope ne soit ni trop grande ni trop petite. Le bout de code ci-dessous lèvera une exception si la pente est trop élevée et indiquera la pente maximale possible. "
   ]
  },
  {
   "cell_type": "code",
   "execution_count": 13,
   "metadata": {},
   "outputs": [
    {
     "data": {
      "text/plain": [
       "[<matplotlib.lines.Line2D at 0x7f93779c9850>]"
      ]
     },
     "execution_count": 13,
     "metadata": {},
     "output_type": "execute_result"
    },
    {
     "data": {
      "image/png": "[encoded data removed]",
      "text/plain": [
       "<matplotlib.figure.Figure at 0x7f93779de390>"
      ]
     },
     "metadata": {
      "needs_background": "light"
     },
     "output_type": "display_data"
    }
   ],
   "source": [
    "k=101\n",
    "def proba_affine ( k, slope ):\n",
    "    y_tab=[]\n",
    "    if k % 2 == 0:\n",
    "        raise ValueError ( 'le nombre k doit etre impair' )\n",
    "    if abs ( slope  ) > 2. / ( k * k ):\n",
    "        raise ValueError ( 'la pente est trop raide : pente max = ' +\n",
    "        str ( 2. / ( k * k ) ) )\n",
    "    else:\n",
    "        x_tab=np.linspace(0,k-1,k)\n",
    "        for i in x_tab:\n",
    "            y_tab.append(1/k+(i-((k-1)/2))*slope)\n",
    "    mat=np.array([x_tab,y_tab])\n",
    "    return mat\n",
    "mat=proba_affine(k,0.0001)\n",
    "plt.plot(mat[0],mat[1])\n"
   ]
  },
  {
   "cell_type": "markdown",
   "metadata": {},
   "source": [
    "### II.3- Distribution jointe\n",
    "Écrire une fonction `Pxy : float np.array , float np.array -> float np.2D-array` qui, étant donné deux tableaux numpy de nombres réels à $1$ dimension générés par les fonctions des questions précédentes et représentant deux distributions de probabilités $P(A)$ et $P(B)$, renvoie la distribution jointe $P(A,B)$ sous forme d'un tableau numpy à $2$ dimensions de nombres réels, en supposant que $A$ et $B$ sont des variables aléatoires indépendantes. Par exemple, si:"
   ]
  },
  {
   "cell_type": "code",
   "execution_count": 14,
   "metadata": {},
   "outputs": [
    {
     "name": "stdout",
     "output_type": "stream",
     "text": [
      "[[0.2]\n",
      " [0.7]\n",
      " [0.1]]\n",
      "[[0.08 0.08 0.04]\n",
      " [0.28 0.28 0.14]\n",
      " [0.04 0.04 0.02]]\n"
     ]
    }
   ],
   "source": [
    "PA = np.array ( [[0.2, 0.7, 0.1]] )\n",
    "PB = np.array ( [[0.4, 0.4, 0.2]] )\n",
    "pAt=np.transpose(PA)\n",
    "print(pAt)\n",
    "print(np.dot(pAt,PB))"
   ]
  },
  {
   "cell_type": "markdown",
   "metadata": {},
   "source": [
    "alors `Pxy(A,B)` renverra le tableau :\n",
    "```\n",
    "np.array([[ 0.08,  0.08,  0.04],\n",
    "          [ 0.28,  0.28,  0.14],\n",
    "          [ 0.04,  0.04,  0.02]])\n",
    "```"
   ]
  },
  {
   "cell_type": "code",
   "execution_count": 15,
   "metadata": {},
   "outputs": [
    {
     "name": "stdout",
     "output_type": "stream",
     "text": [
      "[[-0.00026995 -0.00026456 -0.00025916 ...  0.00025916  0.00026456\n",
      "   0.00026995]\n",
      " [-0.0002922  -0.00028636 -0.00028052 ...  0.00028052  0.00028636\n",
      "   0.0002922 ]\n",
      " [-0.00031578 -0.00030947 -0.00030315 ...  0.00030315  0.00030947\n",
      "   0.00031578]\n",
      " ...\n",
      " [-0.00031578 -0.00030947 -0.00030315 ...  0.00030315  0.00030947\n",
      "   0.00031578]\n",
      " [-0.0002922  -0.00028636 -0.00028052 ...  0.00028052  0.00028636\n",
      "   0.0002922 ]\n",
      " [-0.00026995 -0.00026456 -0.00025916 ...  0.00025916  0.00026456\n",
      "   0.00026995]]\n"
     ]
    }
   ],
   "source": [
    "def Pxy(x,y):\n",
    "    xM=np.array([x])\n",
    "    yM=np.array([y])\n",
    "    pXt=np.transpose(xM)\n",
    "   \n",
    "    return(np.dot(pXt,yM))\n",
    "    pass\n",
    "\n",
    "\n",
    "k=101\n",
    "mat=normale(k,1)\n",
    "mat2=proba_affine(k,0.0001)\n",
    "#len(mat[1])\n",
    "#len(mat2[1])\n",
    "prodM=Pxy(mat[1],mat2[1])\n",
    "print(prodM)"
   ]
  },
  {
   "cell_type": "markdown",
   "metadata": {},
   "source": [
    "### II.4- Affichage de la distribution jointe\n",
    "<img src=\"tme2_jointe.jpg\" title=\"Distribution jointe\" style=\"float: right;\">\n",
    "\n",
    "Le code ci-dessous permet d'afficher en 3D une probabilité jointe générée par la fonction précédente. Exécutez-le avec une probabilité jointe résultant de la combinaison d'une loi normale et d'une distribution affine. \n",
    "\n",
    "Si la commande `%matplotlib notebook` fonctione, vous pouvez interagir avec la courbe. Si le contenu de la fenêtre est vide, redimensionnez celle-ci et le contenu devrait apparaître. Cliquez à la souris à l'intérieur de la fenêtre et bougez la souris en gardant le bouton appuyé afin de faire pivoter la courbe. Observez sous différents angles cette courbe. Refaites l'expérience avec une probaiblité jointe résultant de deux lois normales. Essayez de comprendre ce que signifie, visuellement, l'indépendance probabiliste. Vous pouvez également recommencer l'expérience avec le logarithme des lois jointes.\n"
   ]
  },
  {
   "cell_type": "code",
   "execution_count": 16,
   "metadata": {},
   "outputs": [],
   "source": [
    "from mpl_toolkits.mplot3d import Axes3D\n",
    "%matplotlib inline  \n",
    "#%matplotib notebook \n",
    "def dessine ( P_jointe ):\n",
    "    fig = plt.figure()\n",
    "    ax = fig.add_subplot(111, projection='3d')\n",
    "    x = np.linspace ( -3, 3, P_jointe.shape[0] )\n",
    "    y = np.linspace ( -3, 3, P_jointe.shape[1] )\n",
    "    X, Y = np.meshgrid(x, y)\n",
    "    ax.plot_surface(X, Y, P_jointe, rstride=1, cstride=1 )\n",
    "    ax.set_xlabel('A')\n",
    "    ax.set_ylabel('B')\n",
    "    ax.set_zlabel('P(A) * P(B)')\n",
    "    plt.show ()"
   ]
  },
  {
   "cell_type": "code",
   "execution_count": 17,
   "metadata": {},
   "outputs": [
    {
     "data": {
      "image/png": "[encoded data removed]",
      "text/plain": [
       "<matplotlib.figure.Figure at 0x7f9377a40650>"
      ]
     },
     "metadata": {
      "needs_background": "light"
     },
     "output_type": "display_data"
    }
   ],
   "source": [
    "dessine(np.array(prodM))"
   ]
  },
  {
   "cell_type": "code",
   "execution_count": 18,
   "metadata": {},
   "outputs": [
    {
     "data": {
      "image/png": "[encoded data removed]",
      "text/plain": [
       "<matplotlib.figure.Figure at 0x7f9377a405d0>"
      ]
     },
     "metadata": {
      "needs_background": "light"
     },
     "output_type": "display_data"
    }
   ],
   "source": [
    "#votre code\n",
    "k=101\n",
    "mat=normale(k,1)\n",
    "mat2=normale(k,10)\n",
    "prodM=Pxy(mat[1],mat2[1])\n",
    "dessine(np.array(prodM))"
   ]
  },
  {
   "cell_type": "markdown",
   "metadata": {},
   "source": [
    "## III- Indépendances conditionnelles (<font color=\"red\"> obligatoire</font>)\n",
    "\n",
    "Dans cet exercice, on considère quatre variables aléatoires booléennes $X$, $Y$, $Z$ et $T$ ainsi que leur distribution jointe $P(X,Y,Z,T)$ encodée en python de la manière suivante : "
   ]
  },
  {
   "cell_type": "code",
   "execution_count": 19,
   "metadata": {},
   "outputs": [],
   "source": [
    "# creation de P(X,Y,Z,T)\n",
    "P_XYZT = np.array([[[[ 0.0192,  0.1728],   \n",
    "                     [ 0.0384,  0.0096]],\n",
    "\n",
    "                    [[ 0.0768,  0.0512],   \n",
    "                     [ 0.016 ,  0.016 ]]],\n",
    "\n",
    "                   [[[ 0.0144,  0.1296],   \n",
    "                     [ 0.0288,  0.0072]],\n",
    "\n",
    "                    [[ 0.2016,  0.1344],   \n",
    "                     [ 0.042 ,  0.042 ]]]])"
   ]
  },
  {
   "cell_type": "markdown",
   "metadata": {},
   "source": [
    "Ainsi, $\\forall (x,y,z,t) \\in \\{0,1\\}^4$, `P_XYZT[x][y][z][t]` correspond à $P(X=x,Y=y,Z=z,T=t)$ ou, en version abrégée, à $P(x,y,z,t)$. "
   ]
  },
  {
   "cell_type": "markdown",
   "metadata": {},
   "source": [
    "### III.1- Indépendance de X et T conditionnellement à (Y,Z)\n",
    "On souhaite tester si les variables aléatoires $X$ et $T$ sont indépendantes conditionnellement à $(Y,Z)$. Il s'agit donc de vérifer que dans la loi $P$, $$P(X,T|Y,Z)=P(X|Y,Z)\\cdot P(T|Y,Z)$$\n",
    "\n",
    "\n",
    "Pour cela, tout d'abord, calculer à partir de `P_XYZT` le tableau `P_YZ` représentant la distribution $P(Y,Z)$. On rappelle que $$P(Y,Z)=\\sum_{X,T} P(X,Y,Z,T)$$\n",
    "\n",
    "Le tableau `P_YZ` est donc un tableau à deux dimensions, dont la première correspond à $Y$ et la deuxième à $Z$. Si vous ne vous êtes pas trompé(e)s, vous devez obtenir le tableau suivant : \n",
    "```\n",
    "np.array([[ 0.336,  0.084],\n",
    "          [ 0.464,  0.116]])\n",
    "```\n",
    "\n",
    "Ainsi $P(Y=0,Z=1)=$ `P_YZ[0][1]` $=0.084$"
   ]
  },
  {
   "cell_type": "code",
   "execution_count": 20,
   "metadata": {},
   "outputs": [
    {
     "name": "stdout",
     "output_type": "stream",
     "text": [
      "[[0.336 0.084]\n",
      " [0.464 0.116]]\n"
     ]
    }
   ],
   "source": [
    "\n",
    "P_YZ=np.zeros([2,2])\n",
    "for i in range(2):\n",
    "    for j in range(2):\n",
    "        for k in range(2):\n",
    "            for l in range(2):\n",
    "                P_YZ[j][k]+=P_XYZT[i][j][k][l] \n",
    "P_YZ=np.array(P_YZ)\n",
    "print (P_YZ)"
   ]
  },
  {
   "cell_type": "markdown",
   "metadata": {},
   "source": [
    "Ensuite, calculer le tableau `P_XTcondYZ` représentant la distribution $P(X,T|Y,Z)$. Ce tableau a donc 4 dimensions, chacune correspondant à une des variables aléatoires. De plus, les valeurs de `P_XTcondYZ` sont obtenues en utilisant la formule des probabilités conditionnelles: $$P(X,T|Y,Z)=\\frac{P(X,Y,Z,T)}{P(Y,Z)}$$"
   ]
  },
  {
   "cell_type": "code",
   "execution_count": 21,
   "metadata": {},
   "outputs": [
    {
     "name": "stdout",
     "output_type": "stream",
     "text": [
      "[[[[0.05714286 0.51428571]\n",
      "   [0.45714286 0.11428571]]\n",
      "\n",
      "  [[0.16551724 0.11034483]\n",
      "   [0.13793103 0.13793103]]]\n",
      "\n",
      "\n",
      " [[[0.04285714 0.38571429]\n",
      "   [0.34285714 0.08571429]]\n",
      "\n",
      "  [[0.43448276 0.28965517]\n",
      "   [0.36206897 0.36206897]]]]\n"
     ]
    }
   ],
   "source": [
    "P_XTcondYZ=np.zeros([2,2,2,2])\n",
    "for i in range(2):\n",
    "    for j in range(2):\n",
    "        for k in range(2):\n",
    "            for l in range(2):\n",
    "                P_XTcondYZ[i][j][k][l]+=P_XYZT[i][j][k][l]/P_YZ[j][k]\n",
    "                \n",
    "print(P_XTcondYZ)\n",
    "\n",
    "\n"
   ]
  },
  {
   "cell_type": "markdown",
   "metadata": {},
   "source": [
    "Calculer à partir de `P_XTcondYZ` les tableaux à 3 dimensions `P_XcondYZ` et `P_TcondYZ` représentant respectivement les distributions $P(X|Y,Z)$ et $P(T|Y,Z)$. On rappelle que $$P(X|Y,Z)=∑_T P(X,T|Y,Z)$$"
   ]
  },
  {
   "cell_type": "code",
   "execution_count": 22,
   "metadata": {},
   "outputs": [
    {
     "name": "stdout",
     "output_type": "stream",
     "text": [
      "('ind\\xc3\\xa9pendance =', True)\n"
     ]
    }
   ],
   "source": [
    "#votre code\n",
    "P_XcondYZ=np.zeros([2,2,2])\n",
    "P_TcondYZ=np.zeros([2,2,2])\n",
    "for i in range(2):\n",
    "    for j in range(2):\n",
    "        for k in range(2):\n",
    "            for l in range(2):\n",
    "                P_XcondYZ[i][j][k]+=P_XTcondYZ[i][j][k][l]\n",
    "                P_TcondYZ[j][k][l]+=P_XTcondYZ[i][j][k][l]             \n",
    "\n",
    "\n",
    "\n",
    "#P_XcondYZ*P_TcondYZ\n",
    "#test d'indépendance\n",
    "test=True\n",
    "for i in range(2):\n",
    "    for j in range(2):\n",
    "        for k in range(2):\n",
    "            if (abs(P_XTcondYZ[i][j][k][l]-P_XcondYZ[i][j][k]*P_TcondYZ[j][k][l])>=0.0001):\n",
    "                test=False\n",
    "                break\n",
    "print (\"indépendance =\", test)\n",
    "                \n",
    "                    "
   ]
  },
  {
   "cell_type": "markdown",
   "metadata": {},
   "source": [
    "Enfin, tester si $X$ et $T$ sont indépendantes conditionnellement à $(Y,Z)$: si c'est bien le cas, on doit avoir $$P(X,T|Y,Z)=P(X|Y,Z)×P(T|Y,Z)$$ "
   ]
  },
  {
   "cell_type": "markdown",
   "metadata": {},
   "source": [
    "### III.2- Indépendance de X et (Y,Z)\n",
    "\n",
    "On souhaite maintenant déterminer si $X$ et $(Y,Z)$ sont indépendantes. Pour cela, commencer par calculer à partir de `P_XYZT` le tableau `P_XYZ` représentant la distribution $P(X,Y,Z)$. \n",
    "\n",
    "Ensuite, calculer à partir de `P_XYZ` les tableaux `P_X` et `P_YZ` représentant respectivement les distributions $P(X)$ et $P(Y,Z)$. On rappelle que $$P(X)=∑_Y∑_Z P(X,Y,Z)$$\n",
    "\n",
    "Si vous ne vous êtes pas trompé(e), P_X doit être égal au tableau suivant : \n",
    "```\n",
    "np.array([ 0.4,  0.6])\n",
    "```"
   ]
  },
  {
   "cell_type": "code",
   "execution_count": 23,
   "metadata": {},
   "outputs": [
    {
     "name": "stdout",
     "output_type": "stream",
     "text": [
      "[[[0.192 0.048]\n",
      "  [0.128 0.032]]\n",
      "\n",
      " [[0.144 0.036]\n",
      "  [0.336 0.084]]]\n",
      "[0.4 0.6]\n",
      "[[0.336 0.084]\n",
      " [0.464 0.116]]\n"
     ]
    }
   ],
   "source": [
    "#votre code\n",
    "P_XYZ=np.zeros([2,2,2])\n",
    "P_X=np.zeros([2])\n",
    "P_YZ=np.zeros([2,2])\n",
    "for i in range(2):\n",
    "    for j in range(2):\n",
    "        for k in range(2):\n",
    "            for l in range(2):\n",
    "                P_XYZ[i][j][k]+=P_XYZT[i][j][k][l]\n",
    "print(P_XYZ)\n",
    "           \n",
    "for i in range(2):\n",
    "    for j in range(2):\n",
    "        for k in range(2):\n",
    "            P_X[i]+=P_XYZ[i][j][k]\n",
    "            \n",
    "print(P_X)\n",
    "\n",
    "for i in range(2):\n",
    "    for j in range(2):\n",
    "        for k in range(2):\n",
    "            P_YZ[j][k]+=P_XYZ[i][j][k]\n",
    "            \n",
    "print(P_YZ)"
   ]
  },
  {
   "cell_type": "markdown",
   "metadata": {},
   "source": [
    "Enfin, si $X$ et $(Y,Z)$ sont bien indépendantes, on doit avoir $$P(X,Y,Z)=P(X)×P(Y,Z)$$"
   ]
  },
  {
   "cell_type": "code",
   "execution_count": 24,
   "metadata": {},
   "outputs": [
    {
     "name": "stdout",
     "output_type": "stream",
     "text": [
      "('ind\\xc3\\xa9pendance =', False)\n"
     ]
    }
   ],
   "source": [
    "#votre code\n",
    "test=True\n",
    "for i in range(2):\n",
    "    for j in range(2):\n",
    "        for k in range(2):\n",
    "            if (abs(P_XYZ[i][j][k]-P_X[i]*P_YZ[j][k])>=0.0001):\n",
    "                test=False\n",
    "                break\n",
    "print (\"indépendance =\", test)\n",
    "                \n",
    "\n"
   ]
  },
  {
   "cell_type": "markdown",
   "metadata": {},
   "source": [
    "## IV- Indépendances conditionnelles et consommation mémoire  (<font color=\"red\"> obligatoire</font>)\n",
    "\n",
    "Le but de cet exercice est d'exploiter les probabilités conditionnelles et les indépendances conditionnelles afin de décomposer une probabilité jointe en un produit de \"petites probabilités conditionnelles\". Cela permet de stocker des probabilités jointes de grandes tailles sur des ordinateurs \"standards\". Au cours de l'exercice, vous allez donc partir d'une probabilité jointe et, progressivement, construire un programme qui identifie ces indépendances conditionnelles.\n",
    "\n",
    "Pour simplifier, dans la suite de cet exercice, nous allons considérer un ensemble $X_0,…,X_n$ de variables aléatoires binaires (elles ne peuvent prendre que 2 valeurs : 0 et 1). \n",
    "\n",
    "### Simplification du code : utilisation de pyAgrum\n",
    "\n",
    "Manipuler des probabilités et des opérations sur des probabilités complexes est difficiles avec les outils classiques. La difficulté principale est certainement le problème du mapping entre axe et variable aléatoire. `pyAgrum` propose une gestion de `Potential` qui sont des tableaux multidimensionnels dont les axes sont caractérisés par des variables et sont donc non ambigüs.\n",
    "\n",
    "Par exemple, après l'initiation du `Potential PABCD` :"
   ]
  },
  {
   "cell_type": "code",
   "execution_count": 5,
   "metadata": {},
   "outputs": [],
   "source": [
    "import pyAgrum as gum\n",
    "import pyAgrum.lib.notebook as gnb\n",
    "\n",
    "X,Y,Z,T=[gum.LabelizedVariable(x,x,2) for x in \"XYZT\"]\n",
    "pXYZT=gum.Potential().add(T).add(Z).add(Y).add(X)\n",
    "pXYZT[:]=[[[[ 0.0192,  0.1728],\n",
    "            [ 0.0384,  0.0096]],\n",
    "           [[ 0.0768,  0.0512],\n",
    "            [ 0.016 ,  0.016 ]]],\n",
    "          [[[ 0.0144,  0.1296],\n",
    "            [ 0.0288,  0.0072]],\n",
    "           [[ 0.2016,  0.1344],\n",
    "            [ 0.042 ,  0.042 ]]]]"
   ]
  },
  {
   "cell_type": "markdown",
   "metadata": {},
   "source": [
    "On peut alors utiliser la méthode `margSumOut` qui supprime les variables par sommations: `p.margSumOut(['X','Y'])` correspond à calculer $\\sum_{X,Y} p$\n",
    "\n",
    "La réponse a question III.1 se calcule donc ainsi :"
   ]
  },
  {
   "cell_type": "code",
   "execution_count": 6,
   "metadata": {},
   "outputs": [
    {
     "name": "stdout",
     "output_type": "stream",
     "text": [
      "=> X et T sont indépendants conditionnellemnt à Y et Z\n"
     ]
    }
   ],
   "source": [
    "pXT_YZ=pXYZT/pXYZT.margSumOut(['X','T'])\n",
    "pX_YZ=pXT_YZ.margSumOut(['T'])\n",
    "pT_YZ=pXT_YZ.margSumOut(['X'])\n",
    "\n",
    "if pXT_YZ==pX_YZ*pT_YZ:\n",
    "    print(\"=> X et T sont indépendants conditionnellemnt à Y et Z\")\n",
    "else:\n",
    "    print(\"=> pas d'indépendance trouvée\")\n"
   ]
  },
  {
   "cell_type": "markdown",
   "metadata": {},
   "source": [
    "La réponse à la question III.2 se calcule ainsi :"
   ]
  },
  {
   "cell_type": "code",
   "execution_count": 7,
   "metadata": {},
   "outputs": [
    {
     "name": "stdout",
     "output_type": "stream",
     "text": [
      "=> pas d'indépendance trouvée\n"
     ]
    }
   ],
   "source": [
    "pXYZ=pXYZT.margSumOut(\"T\")\n",
    "pYZ=pXYZ.margSumOut(\"X\")\n",
    "pX=pXYZ.margSumOut([\"Y\",\"Z\"])\n",
    "if pXYZ==pX*pYZ:\n",
    "    print(\"=> X et YZ sont indépendants\")\n",
    "else:\n",
    "    print(\"=> pas d'indépendance trouvée\")"
   ]
  },
  {
   "cell_type": "code",
   "execution_count": 8,
   "metadata": {},
   "outputs": [
    {
     "data": {
      "text/html": [
       "<table style=\"border-style: hidden; border-collapse: collapse;\" width=\"100%\"><tr><td style=\"border-top:hidden;border-bottom:hidden;\"><div align=\"center\" style=\"\"><table style=\"border:1px solid black;\">\n",
       "<tr><th colspan='2'></th><th colspan='2' style='border:1px solid black;color:black;background-color:#808080;'><center>Z</center></th></tr>\n",
       "<tr><th style='border:1px solid black;color:black;background-color:#808080'><center>X</center></th><th style='border:1px solid black;color:black;background-color:#808080'><center>Y</center></th><th style='border:1px solid black;border-bottom-style: double;color:black;background-color:#BBBBBB'><center>0</center></th><th style='border:1px solid black;border-bottom-style: double;color:black;background-color:#BBBBBB'><center>1</center></th></tr>\n",
       "<tr><th style='border:1px solid black;color:black;background-color:#BBBBBB;' rowspan = '2'><center>0</center></th><th style='border:1px solid black;color:black;background-color:#BBBBBB'><center>0</center></th><td style='color:black;background-color:#e69764;text-align:right;'>0.1920</td><td style='color:black;background-color:#f88564;text-align:right;'>0.0480</td></tr>\n",
       "<tr><th style='border:1px solid black;color:black;background-color:#BBBBBB'><center>1</center></th><td style='color:black;background-color:#ee8f64;text-align:right;'>0.1280</td><td style='color:black;background-color:#fa8364;text-align:right;'>0.0320</td></tr>\n",
       "<tr><th style='border:1px solid black;color:black;background-color:#BBBBBB;' rowspan = '2'><center>1</center></th><th style='border:1px solid black;color:black;background-color:#BBBBBB'><center>0</center></th><td style='color:black;background-color:#ec9164;text-align:right;'>0.1440</td><td style='color:black;background-color:#fa8364;text-align:right;'>0.0360</td></tr>\n",
       "<tr><th style='border:1px solid black;color:black;background-color:#BBBBBB'><center>1</center></th><td style='color:black;background-color:#d3aa64;text-align:right;'>0.3360</td><td style='color:black;background-color:#f48964;text-align:right;'>0.0840</td></tr>\n",
       "</table></div></td><td style=\"border-top:hidden;border-bottom:hidden;\"><div align=\"center\" style=\"\"><table style=\"border:1px solid black;\">\n",
       "<tr style='border:1px solid black;color:black;background-color:#808080'><th colspan='2'><center>X</center></th></tr>\n",
       "<tr><th style='border:1px solid black;border-bottom-style: double;color:black;background-color:#BBBBBB'><center>0</center></th><th style='border:1px solid black;border-bottom-style: double;color:black;background-color:#BBBBBB'><center>1</center></th></tr>\n",
       "<tr><td style='color:black;background-color:#cbb264;text-align:right;'>0.4000</td><td style='color:black;background-color:#b2cb64;text-align:right;'>0.6000</td></tr>\n",
       "</table></div></td><td style=\"border-top:hidden;border-bottom:hidden;\"><div align=\"center\" style=\"\"><table style=\"border:1px solid black;\">\n",
       "<tr><th colspan='1'></th><th colspan='2' style='border:1px solid black;color:black;background-color:#808080;'><center>Z</center></th></tr>\n",
       "<tr><th style='border:1px solid black;color:black;background-color:#808080'><center>Y</center></th><th style='border:1px solid black;border-bottom-style: double;color:black;background-color:#BBBBBB'><center>0</center></th><th style='border:1px solid black;border-bottom-style: double;color:black;background-color:#BBBBBB'><center>1</center></th></tr>\n",
       "<tr><th style='border:1px solid black;color:black;background-color:#BBBBBB'><center>0</center></th><td style='color:black;background-color:#d3aa64;text-align:right;'>0.3360</td><td style='color:black;background-color:#f48964;text-align:right;'>0.0840</td></tr>\n",
       "<tr><th style='border:1px solid black;color:black;background-color:#BBBBBB'><center>1</center></th><td style='color:black;background-color:#c3ba64;text-align:right;'>0.4640</td><td style='color:black;background-color:#f08d64;text-align:right;'>0.1160</td></tr>\n",
       "</table></div></td><td style=\"border-top:hidden;border-bottom:hidden;\"><div align=\"center\" style=\"\"><table style=\"border:1px solid black;\">\n",
       "<tr><th colspan='2'></th><th colspan='2' style='border:1px solid black;color:black;background-color:#808080;'><center>Z</center></th></tr>\n",
       "<tr><th style='border:1px solid black;color:black;background-color:#808080'><center>X</center></th><th style='border:1px solid black;color:black;background-color:#808080'><center>Y</center></th><th style='border:1px solid black;border-bottom-style: double;color:black;background-color:#BBBBBB'><center>0</center></th><th style='border:1px solid black;border-bottom-style: double;color:black;background-color:#BBBBBB'><center>1</center></th></tr>\n",
       "<tr><th style='border:1px solid black;color:black;background-color:#BBBBBB;' rowspan = '2'><center>0</center></th><th style='border:1px solid black;color:black;background-color:#BBBBBB'><center>0</center></th><td style='color:black;background-color:#ed9064;text-align:right;'>0.1344</td><td style='color:black;background-color:#fa8364;text-align:right;'>0.0336</td></tr>\n",
       "<tr><th style='border:1px solid black;color:black;background-color:#BBBBBB'><center>1</center></th><td style='color:black;background-color:#e79664;text-align:right;'>0.1856</td><td style='color:black;background-color:#f98464;text-align:right;'>0.0464</td></tr>\n",
       "<tr><th style='border:1px solid black;color:black;background-color:#BBBBBB;' rowspan = '2'><center>1</center></th><th style='border:1px solid black;color:black;background-color:#BBBBBB'><center>0</center></th><td style='color:black;background-color:#e59864;text-align:right;'>0.2016</td><td style='color:black;background-color:#f88564;text-align:right;'>0.0504</td></tr>\n",
       "<tr><th style='border:1px solid black;color:black;background-color:#BBBBBB'><center>1</center></th><td style='color:black;background-color:#dba264;text-align:right;'>0.2784</td><td style='color:black;background-color:#f68764;text-align:right;'>0.0696</td></tr>\n",
       "</table></div></td></tr><tr><td style=\"border-top:hidden;border-bottom:hidden;\"><div align=\"center\"><small>$P(X,Y,Z)$</small></div></td><td style=\"border-top:hidden;border-bottom:hidden;\"><div align=\"center\"><small>$P(X)$</small></div></td><td style=\"border-top:hidden;border-bottom:hidden;\"><div align=\"center\"><small>$P(Y,Z)$</small></div></td><td style=\"border-top:hidden;border-bottom:hidden;\"><div align=\"center\"><small>$P(X)\\cdot P(Y,Z)$</small></div></td></tr></table>"
      ],
      "text/plain": [
       "<IPython.core.display.HTML object>"
      ]
     },
     "metadata": {},
     "output_type": "display_data"
    }
   ],
   "source": [
    "gnb.sideBySide(pXYZ,pX,pYZ,pX*pYZ,\n",
    "               captions=['$P(X,Y,Z)$','$P(X)$','$P(Y,Z)$','$P(X)\\cdot P(Y,Z)$'])"
   ]
  },
  {
   "cell_type": "markdown",
   "metadata": {},
   "source": [
    "`asia.txt` contient la description d'une probabilité jointe sur un ensemble de $8$ variables aléatoires binaires (256 paramètres). Le fichier est produit à partir du site web suivant `http://www.bnlearn.com/bnrepository/`.\n",
    "\n",
    "Le code suivant permet de lire ce fichier et d'en récupérer la probabilité jointe (sous forme d'une `gum.Potential`) qu'il contient : "
   ]
  },
  {
   "cell_type": "code",
   "execution_count": 9,
   "metadata": {},
   "outputs": [
    {
     "name": "stdout",
     "output_type": "stream",
     "text": [
      "[[[[[[[[1.30977000e-05 2.59334460e-04]\n",
      "       [2.48856300e-04 2.56741115e-02]]\n",
      "\n",
      "      [[6.54885000e-07 1.29667230e-05]\n",
      "       [1.24428150e-05 1.28370558e-03]]]\n",
      "\n",
      "\n",
      "     [[[1.17879300e-04 2.33401014e-03]\n",
      "       [2.26233000e-05 2.33401014e-03]]\n",
      "\n",
      "      [[6.48336150e-05 1.28370558e-03]\n",
      "       [1.24428150e-05 1.28370558e-03]]]]\n",
      "\n",
      "\n",
      "\n",
      "    [[[[5.25000000e-09 1.03950000e-07]\n",
      "       [9.97500000e-08 1.02910500e-05]]\n",
      "\n",
      "      [[2.62500000e-10 5.19750000e-09]\n",
      "       [4.98750000e-09 5.14552500e-07]]]\n",
      "\n",
      "\n",
      "     [[[4.72500000e-08 9.35550000e-07]\n",
      "       [8.88772500e-05 9.16932555e-03]]\n",
      "\n",
      "      [[2.59875000e-08 5.14552500e-07]\n",
      "       [4.88824875e-05 5.04312905e-03]]]]]\n",
      "\n",
      "\n",
      "\n",
      "\n",
      "   [[[[[7.76160000e-06 1.53679680e-04]\n",
      "       [1.47470400e-04 1.52142883e-02]]\n",
      "\n",
      "      [[1.35828000e-06 2.68939440e-05]\n",
      "       [2.58073200e-05 2.66250046e-03]]]\n",
      "\n",
      "\n",
      "     [[[6.98544000e-05 1.38311712e-03]\n",
      "       [1.34064000e-05 1.38311712e-03]]\n",
      "\n",
      "      [[1.34469720e-04 2.66250046e-03]\n",
      "       [2.58073200e-05 2.66250046e-03]]]]\n",
      "\n",
      "\n",
      "\n",
      "    [[[[5.00000000e-10 9.90000000e-09]\n",
      "       [9.50000000e-09 9.80100000e-07]]\n",
      "\n",
      "      [[8.75000000e-11 1.73250000e-09]\n",
      "       [1.66250000e-09 1.71517500e-07]]]\n",
      "\n",
      "\n",
      "     [[[4.50000000e-09 8.91000000e-08]\n",
      "       [8.46450000e-06 8.73269100e-04]]\n",
      "\n",
      "      [[8.66250000e-09 1.71517500e-07]\n",
      "       [1.62941625e-05 1.68104302e-03]]]]]]\n",
      "\n",
      "\n",
      "\n",
      "\n",
      "\n",
      "  [[[[[[2.67300000e-07 5.29254000e-06]\n",
      "       [5.07870000e-06 5.23961460e-04]]\n",
      "\n",
      "      [[1.33650000e-08 2.64627000e-07]\n",
      "       [2.53935000e-07 2.61980730e-05]]]\n",
      "\n",
      "\n",
      "     [[[2.40570000e-06 4.76328600e-05]\n",
      "       [4.61700000e-07 4.76328600e-05]]\n",
      "\n",
      "      [[1.32313500e-06 2.61980730e-05]\n",
      "       [2.53935000e-07 2.61980730e-05]]]]\n",
      "\n",
      "\n",
      "\n",
      "    [[[[9.97500000e-08 1.97505000e-06]\n",
      "       [1.89525000e-06 1.95529950e-04]]\n",
      "\n",
      "      [[4.98750000e-09 9.87525000e-08]\n",
      "       [9.47625000e-08 9.77649750e-06]]]\n",
      "\n",
      "\n",
      "     [[[8.97750000e-07 1.77754500e-05]\n",
      "       [1.68866775e-03 1.74217185e-01]]\n",
      "\n",
      "      [[4.93762500e-07 9.77649750e-06]\n",
      "       [9.28767262e-04 9.58194520e-02]]]]]\n",
      "\n",
      "\n",
      "\n",
      "\n",
      "   [[[[[1.58400000e-07 3.13632000e-06]\n",
      "       [3.00960000e-06 3.10495680e-04]]\n",
      "\n",
      "      [[2.77200000e-08 5.48856000e-07]\n",
      "       [5.26680000e-07 5.43367440e-05]]]\n",
      "\n",
      "\n",
      "     [[[1.42560000e-06 2.82268800e-05]\n",
      "       [2.73600000e-07 2.82268800e-05]]\n",
      "\n",
      "      [[2.74428000e-06 5.43367440e-05]\n",
      "       [5.26680000e-07 5.43367440e-05]]]]\n",
      "\n",
      "\n",
      "\n",
      "    [[[[9.50000000e-09 1.88100000e-07]\n",
      "       [1.80500000e-07 1.86219000e-05]]\n",
      "\n",
      "      [[1.66250000e-09 3.29175000e-08]\n",
      "       [3.15875000e-08 3.25883250e-06]]]\n",
      "\n",
      "\n",
      "     [[[8.55000000e-08 1.69290000e-06]\n",
      "       [1.60825500e-04 1.65921129e-02]]\n",
      "\n",
      "      [[1.64587500e-07 3.25883250e-06]\n",
      "       [3.09589087e-04 3.19398173e-02]]]]]]]\n",
      "\n",
      "\n",
      "\n",
      "\n",
      "\n",
      "\n",
      " [[[[[[[1.45530000e-06 2.88149400e-05]\n",
      "       [2.76507000e-05 2.85267906e-03]]\n",
      "\n",
      "      [[7.27650000e-08 1.44074700e-06]\n",
      "       [1.38253500e-06 1.42633953e-04]]]\n",
      "\n",
      "\n",
      "     [[[1.30977000e-05 2.59334460e-04]\n",
      "       [2.51370000e-06 2.59334460e-04]]\n",
      "\n",
      "      [[7.20373500e-06 1.42633953e-04]\n",
      "       [1.38253500e-06 1.42633953e-04]]]]\n",
      "\n",
      "\n",
      "\n",
      "    [[[[2.25000000e-09 4.45500000e-08]\n",
      "       [4.27500000e-08 4.41045000e-06]]\n",
      "\n",
      "      [[1.12500000e-10 2.22750000e-09]\n",
      "       [2.13750000e-09 2.20522500e-07]]]\n",
      "\n",
      "\n",
      "     [[[2.02500000e-08 4.00950000e-07]\n",
      "       [3.80902500e-05 3.92971095e-03]]\n",
      "\n",
      "      [[1.11375000e-08 2.20522500e-07]\n",
      "       [2.09496375e-05 2.16134102e-03]]]]]\n",
      "\n",
      "\n",
      "\n",
      "\n",
      "   [[[[[1.94040000e-06 3.84199200e-05]\n",
      "       [3.68676000e-05 3.80357208e-03]]\n",
      "\n",
      "      [[3.39570000e-07 6.72348600e-06]\n",
      "       [6.45183000e-06 6.65625114e-04]]]\n",
      "\n",
      "\n",
      "     [[[1.74636000e-05 3.45779280e-04]\n",
      "       [3.35160000e-06 3.45779280e-04]]\n",
      "\n",
      "      [[3.36174300e-05 6.65625114e-04]\n",
      "       [6.45183000e-06 6.65625114e-04]]]]\n",
      "\n",
      "\n",
      "\n",
      "    [[[[4.50000000e-09 8.91000000e-08]\n",
      "       [8.55000000e-08 8.82090000e-06]]\n",
      "\n",
      "      [[7.87500000e-10 1.55925000e-08]\n",
      "       [1.49625000e-08 1.54365750e-06]]]\n",
      "\n",
      "\n",
      "     [[[4.05000000e-08 8.01900000e-07]\n",
      "       [7.61805000e-05 7.85942190e-03]]\n",
      "\n",
      "      [[7.79625000e-08 1.54365750e-06]\n",
      "       [1.46647463e-04 1.51293872e-02]]]]]]\n",
      "\n",
      "\n",
      "\n",
      "\n",
      "\n",
      "  [[[[[[2.97000000e-08 5.88060000e-07]\n",
      "       [5.64300000e-07 5.82179400e-05]]\n",
      "\n",
      "      [[1.48500000e-09 2.94030000e-08]\n",
      "       [2.82150000e-08 2.91089700e-06]]]\n",
      "\n",
      "\n",
      "     [[[2.67300000e-07 5.29254000e-06]\n",
      "       [5.13000000e-08 5.29254000e-06]]\n",
      "\n",
      "      [[1.47015000e-07 2.91089700e-06]\n",
      "       [2.82150000e-08 2.91089700e-06]]]]\n",
      "\n",
      "\n",
      "\n",
      "    [[[[4.27500000e-08 8.46450000e-07]\n",
      "       [8.12250000e-07 8.37985500e-05]]\n",
      "\n",
      "      [[2.13750000e-09 4.23225000e-08]\n",
      "       [4.06125000e-08 4.18992750e-06]]]\n",
      "\n",
      "\n",
      "     [[[3.84750000e-07 7.61805000e-06]\n",
      "       [7.23714750e-04 7.46645080e-02]]\n",
      "\n",
      "      [[2.11612500e-07 4.18992750e-06]\n",
      "       [3.98043112e-04 4.10654794e-02]]]]]\n",
      "\n",
      "\n",
      "\n",
      "\n",
      "   [[[[[3.96000000e-08 7.84080000e-07]\n",
      "       [7.52400000e-07 7.76239200e-05]]\n",
      "\n",
      "      [[6.93000000e-09 1.37214000e-07]\n",
      "       [1.31670000e-07 1.35841860e-05]]]\n",
      "\n",
      "\n",
      "     [[[3.56400000e-07 7.05672000e-06]\n",
      "       [6.84000000e-08 7.05672000e-06]]\n",
      "\n",
      "      [[6.86070000e-07 1.35841860e-05]\n",
      "       [1.31670000e-07 1.35841860e-05]]]]\n",
      "\n",
      "\n",
      "\n",
      "    [[[[8.55000000e-08 1.69290000e-06]\n",
      "       [1.62450000e-06 1.67597100e-04]]\n",
      "\n",
      "      [[1.49625000e-08 2.96257500e-07]\n",
      "       [2.84287500e-07 2.93294925e-05]]]\n",
      "\n",
      "\n",
      "     [[[7.69500000e-07 1.52361000e-05]\n",
      "       [1.44742950e-03 1.49329016e-01]]\n",
      "\n",
      "      [[1.48128750e-06 2.93294925e-05]\n",
      "       [2.78630179e-03 2.87458356e-01]]]]]]]]\n",
      "Les variables : ['visit_to_Asia?', 'tuberculosis?', 'smoking?', 'lung_cancer?', 'tuberculosis_or_lung_cancer?', 'bronchitis?', 'positive_Xray?', 'dyspnoea?']\n"
     ]
    }
   ],
   "source": [
    "def read_file ( filename ):\n",
    "    \"\"\"\n",
    "    Renvoie les variables aléatoires et la probabilité contenues dans le\n",
    "    fichier dont le nom est passé en argument.\n",
    "    \"\"\"\n",
    "    Pres = gum.Potential ()\n",
    "    vars=[]\n",
    "\n",
    "    with open ( filename, 'r' ) as fic:\n",
    "        # on rajoute les variables dans le potentiel\n",
    "        nb_vars = int ( fic.readline () )\n",
    "        for i in range ( nb_vars ):\n",
    "            name, domsize = fic.readline ().split ()\n",
    "            vars.append(name)\n",
    "            variable = gum.LabelizedVariable(name,name,int (domsize))\n",
    "            Pres.add(variable)\n",
    "\n",
    "        # on rajoute les valeurs de proba dans le potentiel\n",
    "        cpt = []\n",
    "        for line in fic:\n",
    "            cpt.append ( float(line) )\n",
    "        Pres.fillWith( cpt )\n",
    "    return vars,Pres\n",
    "\n",
    "vars,Pjointe=read_file('asia.txt')\n",
    "# afficher Pjointe est un peu délicat (retire le commentaire de la ligne suivante)\n",
    "print(Pjointe[:])\n",
    "\n",
    "print('Les variables : '+str(vars))\n"
   ]
  },
  {
   "cell_type": "code",
   "execution_count": 19,
   "metadata": {
    "scrolled": true
   },
   "outputs": [
    {
     "name": "stdout",
     "output_type": "stream",
     "text": [
      "['dyspnoea?', 'positive_Xray?', 'bronchitis?', 'tuberculosis_or_lung_cancer?', 'lung_cancer?', 'smoking?', 'tuberculosis?', 'visit_to_Asia?']\n"
     ]
    },
    {
     "data": {
      "text/html": [
       "<table style=\"border:1px solid black;\">\n",
       "<tr><th colspan='1'></th><th colspan='2' style='border:1px solid black;color:black;background-color:#808080;'><center>tuberculosis?</center></th></tr>\n",
       "<tr><th style='border:1px solid black;color:black;background-color:#808080'><center>lung_cancer?</center></th><th style='border:1px solid black;border-bottom-style: double;color:black;background-color:#BBBBBB'><center>0</center></th><th style='border:1px solid black;border-bottom-style: double;color:black;background-color:#BBBBBB'><center>1</center></th></tr>\n",
       "<tr><th style='border:1px solid black;color:black;background-color:#BBBBBB'><center>0</center></th><td style='color:black;background-color:#fe7f64;text-align:right;'>0.0006</td><td style='color:black;background-color:#f88564;text-align:right;'>0.0544</td></tr>\n",
       "<tr><th style='border:1px solid black;color:black;background-color:#BBBBBB'><center>1</center></th><td style='color:black;background-color:#fd8064;text-align:right;'>0.0098</td><td style='color:black;background-color:#87f664;text-align:right;'>0.9352</td></tr>\n",
       "</table>"
      ],
      "text/plain": [
       "(gum::Potential<double>@0x55676e6020b0) <tuberculosis?:0|lung_cancer?:0> :: 0.000572 /<tuberculosis?:1|lung_cancer?:0> :: 0.054428 /<tuberculosis?:0|lung_cancer?:1> :: 0.009828 /<tuberculosis?:1|lung_cancer?:1> :: 0.935172"
      ]
     },
     "execution_count": 19,
     "metadata": {},
     "output_type": "execute_result"
    }
   ],
   "source": [
    "# Noter qu'il existe une fonction margSumIn qui, à l'inverse de MargSumOut, élimine \n",
    "# toutes les variables qui ne sont pas dans les arguments\n",
    "print(Pjointe.var_names)\n",
    "Pjointe.margSumIn(['dyspnoea?', 'positive_Xray?', \n",
    "                   'bronchitis?','tuberculosis_or_lung_cancer?',\n",
    "                   'lung_cancer?','smoking?', \n",
    "                   'tuberculosis?', 'visit_to_Asia?'\n",
    "                  ])/Pjointe.margSumIn(['dyspnoea?', 'positive_Xray?', \n",
    "                                                          'bronchitis?', 'tuberculosis_or_lung_cancer?',\n",
    "                                                          'lung_cancer?', 'smoking?', 'tuberculosis?'])\n",
    "Pjointe.margSumIn(['tuberculosis?','lung_cancer?'])\n",
    "#Pjointe"
   ]
  },
  {
   "cell_type": "markdown",
   "metadata": {},
   "source": [
    "### IV.1- test d'indépendance conditionnelle\n",
    "\n",
    "En utilisant la méthode `margSumIn` (voir juste au dessus), écrire une fonction `conditional_indep: Potential,str,str,list[str]->bool` qui rend vrai si dans le `Potential`, on peut lire l'indépendance conditionnelle.\n",
    "\n",
    "Par exemple, l'appel\n",
    "\n",
    "`conditional_indep(Pjointe,'bronchitis?', 'positive_Xray?',['tuberculosis?','lung_cancer?'])` \n",
    "\n",
    "vérifie si bronchitis est indépendant de `posititve_Xray` conditionnellement à `tuberculosis?` et `lung_cancer?`\n",
    "\n",
    "D'un point de vue général, on vérifie que $X$ et $Y$ sont indépendants conditionnellement à $Z_1,\\cdots,Z_d$ par l'égalité :\n",
    "$$P(X,Y|Z_1,\\cdots,Z_d)=P(X|Z_1,\\cdot,Z_d)\\cdot P(Y|Z_1,\\cdots,Z_d)$$\n",
    "\n",
    "Ces trois probabilités sont calculables à partir de la loi jointe de $P(X,Y,Z_1,\\cdots,Z_d)$.\n",
    "\n",
    "<em>Remarque</em> Vérifier l'égalité `P==Q` de 2 `Potential` peut être problématique si les 2 sont des résultats de calcul : il peut exister une petite variation. Un meilleur test est de vérifier `(P-Q).abs().max()<epsilon` avec `epsilon` assez petit."
   ]
  },
  {
   "cell_type": "code",
   "execution_count": 69,
   "metadata": {},
   "outputs": [],
   "source": [
    "def conditional_indep(P,X,Y,Zs):\n",
    "    if len(Zs)==0:\n",
    "        PXY_Zs=P\n",
    "    \n",
    "    else:\n",
    "        PXY_Zs=P/P.margSumIn(Zs)\n",
    "        \n",
    "        \n",
    "    PX_Zs=PXY_Zs.margSumOut(Y)\n",
    "    PY_Zs=PXY_Zs.margSumOut(X)\n",
    "    #print((PXY_Zs-(PX_Zs*PY_Zs)).abs().max())\n",
    "    if (PXY_Zs-(PX_Zs*PY_Zs)).abs().max()<0.001:\n",
    "        #print((PXY_Zs-(PX_Zs*PY_Zs)).abs().max())\n",
    "        test=True\n",
    "    else:\n",
    "        test=False\n",
    "    return test\n",
    "       \n",
    "    pass"
   ]
  },
  {
   "cell_type": "code",
   "execution_count": 46,
   "metadata": {},
   "outputs": [
    {
     "name": "stdout",
     "output_type": "stream",
     "text": [
      "0.193718329338\n",
      "False\n",
      "['dyspnoea?', 'positive_Xray?', 'bronchitis?', 'tuberculosis_or_lung_cancer?', 'lung_cancer?', 'smoking?', 'visit_to_Asia?']\n"
     ]
    }
   ],
   "source": [
    "print(conditional_indep(Pjointe,\n",
    "                  'bronchitis?', \n",
    "                  'positive_Xray?',\n",
    "                  ['tuberculosis?','lung_cancer?']))\n",
    "print(Pjointe.margSumOut('tuberculosis?').var_names)"
   ]
  },
  {
   "cell_type": "code",
   "execution_count": 47,
   "metadata": {},
   "outputs": [
    {
     "name": "stdout",
     "output_type": "stream",
     "text": [
      "0.160683154657\n"
     ]
    },
    {
     "data": {
      "text/plain": [
       "False"
      ]
     },
     "execution_count": 47,
     "metadata": {},
     "output_type": "execute_result"
    }
   ],
   "source": [
    "conditional_indep(Pjointe,\n",
    "                  'smoking?', \n",
    "                  'visit_to_Asia?',\n",
    "                  [])"
   ]
  },
  {
   "cell_type": "markdown",
   "metadata": {},
   "source": [
    "### IV.2- Factorisation compacte de loi jointe\n",
    "\n",
    "On sait que si un ensemble de variables aléatoires ${\\cal S} = \\{X_{i_0},\\ldots,X_{i_{n-1}}\\}$ peut être partitionné en deux sous-ensembles $\\cal K$ et $\\cal L$ (c'est-à-dire tels que ${\\cal K} \\cap {\\cal L} = \\emptyset$ et ${\\cal K} \\cup {\\cal L} = \\{X_{i_0},\\ldots,X_{i_{n-1}}\\}$) tels qu'une variable $X_{i_n}$ est indépendante de ${\\cal L}$ conditionnellement à ${\\cal K}$, alors:\n",
    "\n",
    "$$P(X_{i_n}|X_{i_0},\\ldots,X_{i_{n-1}}) = P(X_{i_n} | {\\cal K},{\\cal L}) = P(X_{i_n} | {\\cal K})$$\n",
    "\n",
    "C'est ce que nous avons vu au cours n°2 (cf. définition des probabilités conditionnelles). Cette formule est intéressante car elle permet de réduire la taille mémoire consommée pour stocker $P(X_{i_n}|X_{i_0},\\ldots,X_{i_{n-1}})$: il suffit en effet de stocker uniquement $P(X_{i_n} | {\\cal K})$ pour obtenir la même information."
   ]
  },
  {
   "cell_type": "markdown",
   "metadata": {},
   "source": [
    "Écrire une fonction `compact_conditional_proba: Potential,str-> Potential` qui, étant donné une probabilité jointe $P(X_{i_0},\\ldots,X_{i_n})$, une variable aléatoire $X_{i_n}$, retourne cette probabilité conditionnelle $P(X_{i_n} | {\\cal K})$. Pour cela, nous vous proposons l'algorithme itératif suivant:\n",
    "\n",
    "```\n",
    "K=S\n",
    "Pour tout X in K:\n",
    "  Si X indépendante de Xin conditionnellement à K\\{X) alors\n",
    "    Supprimer X de K\n",
    "retourner P(Xin|K)$\n",
    "```\n",
    "\n",
    "Trois petites aides :\n",
    "\n",
    "1- La fonction precédente `conditional_indep` devrait vous servir...\n",
    "\n",
    "2- Obtenir la liste des noms des variables dans un `Potential` se fait par l'attribut  \n",
    "```\n",
    "P.var_names\n",
    "```\n",
    "\n",
    "3- Afin que l'affichage soit plus facile à comprendre, il peut être judicieux de placer la variable $X_{i_n}$ en premier dans la liste des variables du Potential, ce que l'on peut faire avec le code suivant : \n",
    "```\n",
    "proba = proba.putFirst(Xin)\n",
    "```\n",
    "\n"
   ]
  },
  {
   "cell_type": "code",
   "execution_count": 128,
   "metadata": {},
   "outputs": [],
   "source": [
    "def compact_conditional_proba(P,X):\n",
    "    K=P.margSumOut(X).var_names\n",
    "    k_compacted=[]\n",
    "    for Xin in K:\n",
    "        P_new=P.margSumOut([X,Xin])\n",
    "        K_new=P_new.var_names\n",
    "        print(conditional_indep(P,Xin,X,K_new))\n",
    "        if (conditional_indep(P,Xin,X,K_new)==False):  \n",
    "                k_compacted.append(Xin)\n",
    "    #print(k_compacted)\n",
    "    \n",
    "    #print(X)\n",
    "    k_compacted.append(X)\n",
    "    print(k_compacted)\n",
    "    new_P=P.margSumIn(k_compacted)\n",
    "    return new_P/new_P.margSumOut(X)\n",
    "    \n",
    "    #return P(Xin|K)$\n",
    "    #pass"
   ]
  },
  {
   "cell_type": "code",
   "execution_count": 134,
   "metadata": {},
   "outputs": [
    {
     "name": "stdout",
     "output_type": "stream",
     "text": [
      "True\n",
      "True\n",
      "True\n",
      "True\n",
      "True\n",
      "True\n",
      "False\n",
      "['tuberculosis?']\n",
      "visit_to_Asia?\n",
      "['tuberculosis?', 'visit_to_Asia?']\n"
     ]
    },
    {
     "data": {
      "text/html": [
       "<table style=\"border:1px solid black;\">\n",
       "<tr><th colspan='1'></th><th colspan='2' style='border:1px solid black;color:black;background-color:#808080;'><center>tuberculosis?</center></th></tr>\n",
       "<tr><th style='border:1px solid black;color:black;background-color:#808080'><center>visit_to_Asia?</center></th><th style='border:1px solid black;border-bottom-style: double;color:black;background-color:#BBBBBB'><center>0</center></th><th style='border:1px solid black;border-bottom-style: double;color:black;background-color:#BBBBBB'><center>1</center></th></tr>\n",
       "<tr><th style='border:1px solid black;color:black;background-color:#BBBBBB'><center>0</center></th><td style='text-align:right;'>0.0481</td><td style='text-align:right;'>0.0096</td></tr>\n",
       "<tr><th style='border:1px solid black;color:black;background-color:#BBBBBB'><center>1</center></th><td style='text-align:right;'>0.9519</td><td style='text-align:right;'>0.9904</td></tr>\n",
       "</table>"
      ],
      "text/plain": [
       "(gum::Potential<double>@0x55676e34da40) <tuberculosis?:0|visit_to_Asia?:0> :: 0.0480769 /<tuberculosis?:1|visit_to_Asia?:0> :: 0.00959984 /<tuberculosis?:0|visit_to_Asia?:1> :: 0.951923 /<tuberculosis?:1|visit_to_Asia?:1> :: 0.9904"
      ]
     },
     "execution_count": 134,
     "metadata": {},
     "output_type": "execute_result"
    }
   ],
   "source": [
    "(compact_conditional_proba(Pjointe,\"visit_to_Asia?\"))"
   ]
  },
  {
   "cell_type": "code",
   "execution_count": 135,
   "metadata": {},
   "outputs": [
    {
     "name": "stdout",
     "output_type": "stream",
     "text": [
      "True\n",
      "False\n",
      "False\n",
      "True\n",
      "True\n",
      "True\n",
      "True\n",
      "['bronchitis?', 'tuberculosis_or_lung_cancer?']\n",
      "dyspnoea?\n",
      "['bronchitis?', 'tuberculosis_or_lung_cancer?', 'dyspnoea?']\n"
     ]
    },
    {
     "data": {
      "text/html": [
       "<table style=\"border:1px solid black;\">\n",
       "<tr><th colspan='2'></th><th colspan='2' style='border:1px solid black;color:black;background-color:#808080;'><center>tuberculosis_or_lung_cancer?</center></th></tr>\n",
       "<tr><th style='border:1px solid black;color:black;background-color:#808080'><center>dyspnoea?</center></th><th style='border:1px solid black;color:black;background-color:#808080'><center>bronchitis?</center></th><th style='border:1px solid black;border-bottom-style: double;color:black;background-color:#BBBBBB'><center>0</center></th><th style='border:1px solid black;border-bottom-style: double;color:black;background-color:#BBBBBB'><center>1</center></th></tr>\n",
       "<tr><th style='border:1px solid black;color:black;background-color:#BBBBBB;' rowspan = '2'><center>0</center></th><th style='border:1px solid black;color:black;background-color:#BBBBBB'><center>0</center></th><td style='text-align:right;'>0.9000</td><td style='text-align:right;'>0.7000</td></tr>\n",
       "<tr><th style='border:1px solid black;color:black;background-color:#BBBBBB'><center>1</center></th><td style='text-align:right;'>0.8000</td><td style='text-align:right;'>0.1000</td></tr>\n",
       "<tr><th style='border:1px solid black;color:black;background-color:#BBBBBB;' rowspan = '2'><center>1</center></th><th style='border:1px solid black;color:black;background-color:#BBBBBB'><center>0</center></th><td style='text-align:right;'>0.1000</td><td style='text-align:right;'>0.3000</td></tr>\n",
       "<tr><th style='border:1px solid black;color:black;background-color:#BBBBBB'><center>1</center></th><td style='text-align:right;'>0.2000</td><td style='text-align:right;'>0.9000</td></tr>\n",
       "</table>"
      ],
      "text/plain": [
       "(gum::Potential<double>@0x55676e3279d0) <tuberculosis_or_lung_cancer?:0|bronchitis?:0|dyspnoea?:0> :: 0.9 /<tuberculosis_or_lung_cancer?:1|bronchitis?:0|dyspnoea?:0> :: 0.7 /<tuberculosis_or_lung_cancer?:0|bronchitis?:1|dyspnoea?:0> :: 0.8 /<tuberculosis_or_lung_cancer?:1|bronchitis?:1|dyspnoea?:0> :: 0.1 /<tuberculosis_or_lung_cancer?:0|bronchitis?:0|dyspnoea?:1> :: 0.1 /<tuberculosis_or_lung_cancer?:1|bronchitis?:0|dyspnoea?:1> :: 0.3 /<tuberculosis_or_lung_cancer?:0|bronchitis?:1|dyspnoea?:1> :: 0.2 /<tuberculosis_or_lung_cancer?:1|bronchitis?:1|dyspnoea?:1> :: 0.9"
      ]
     },
     "execution_count": 135,
     "metadata": {},
     "output_type": "execute_result"
    }
   ],
   "source": [
    "compact_conditional_proba(Pjointe,\"dyspnoea?\")"
   ]
  },
  {
   "cell_type": "markdown",
   "metadata": {},
   "source": [
    "### IV.3- Création d'un réseau bayésien\n",
    "\n",
    "Un réseau bayésien est simplement la décomposition d'une distribution de probabilité jointe en un produit de probabilités conditionnelles: vous avez vu en cours que $P(A,B) = P(A|B)P(B)$, et ce quel que soient les ensembles de variables aléatoires disjoints $A$ et $B$. En posant $A = X_n$ et $B = \\{X_0,\\ldots,X_{n-1}\\}$, on obtient donc:\n",
    "\n",
    "$$P(X_0,\\ldots,X_n) = P(X_n | X_0,\\ldots,X_{n-1}) P(X_0,\\ldots,X_{n-1})$$\n",
    "\n",
    "On peut réitérer cette opération pour le terme de droite en posant $A = X_{n-1}$ et $B=\\{X_0,\\ldots,X_{n-2}\\}$, et ainsi de suite. Donc, par récurrence, on a:\n",
    "\n",
    "$$P(X_0,\\ldots,X_n) = P(X_0) \\times \\prod_{i=1}^n P(X_i | X_0,\\ldots,X_{i-1} )$$\n",
    "\n",
    "Si on applique à chaque terme $P(X_i | X_0,\\ldots,X_{i-1} )$ la fonction `compact_conditional_proba`, on obtient une décomposition:\n",
    "\n",
    "$$P(X_0,\\ldots,X_n) = P(X_0) \\times \\prod_{i=1}^n P(X_i | {\\cal K_i})$$\n",
    "\n",
    "avec $K_i \\subseteq \\{X_0,\\ldots,X_{i-1}\\}$}. Cette décomposition est dite ''compacte'' car son stockage nécessite en pratique beaucoup moins de mémoire que celui de la distribution jointe. C'est ce que l'on appelle un réseau bayésien.\n",
    "\n",
    "Écrire une fonction `create_bayesian_network : Potential -> Potential list` qui, étant donné une probabilité jointe, vous renvoie la liste des $P(X_i | {\\cal K_i})$. Pour cela, il vous suffit d'appliquer l'algorithme suivant:\n",
    "\n",
    "```\n",
    "liste = [] \n",
    "P = P(X_0,...,X_n)\n",
    "Pour i de n à 0 faire:\n",
    "  calculer Q = compact_conditional_proba(P,X_i)\n",
    "  afficher la liste des variables de Q\n",
    "  rajouter Q à liste\n",
    "  supprimer X_i de P par marginalisation\n",
    "\n",
    "retourner liste\n",
    "```\n",
    "\n",
    "Il est intéressant ici de noter les affichages des variables de Q: comme toutes les variables sont binaires, Q nécessite uniquement (2 puissance le nombre de ces variables) nombres réels. Ainsi une probabilité sur 3 variables ne nécessite que {$2^3=8$} nombres réels. \n"
   ]
  },
  {
   "cell_type": "code",
   "execution_count": 32,
   "metadata": {},
   "outputs": [],
   "source": [
    "def create_bayesian_network(P):\n",
    "    #votre code\n",
    "    pass"
   ]
  },
  {
   "cell_type": "code",
   "execution_count": 33,
   "metadata": {},
   "outputs": [],
   "source": [
    "create_bayesian_network(Pjointe)"
   ]
  },
  {
   "cell_type": "markdown",
   "metadata": {},
   "source": [
    "### IV.4- Gain en compression\n",
    "\n",
    "On souhaite observer le gain en termes de consommation mémoire obtenu par votre décomposition. Si `P` est un `Potential`, alors `P.toarray().size` est égal à la taille (le nombre de paramètres) de la table `P`. Calculez donc le nombre de paramètres nécessaires pour stocker la probabilité jointe lue dans le fichier `asia.txt` ainsi que la somme des nombres de paramètres des tables que vous avez créées grâce à votre fonction `create_bayesian_network`. "
   ]
  },
  {
   "cell_type": "code",
   "execution_count": 34,
   "metadata": {},
   "outputs": [],
   "source": [
    "# votre code"
   ]
  },
  {
   "cell_type": "markdown",
   "metadata": {},
   "source": [
    "## V- Applications pratiques (optionnelle)"
   ]
  },
  {
   "cell_type": "markdown",
   "metadata": {},
   "source": [
    "La technique de décomposition que vous avez vue est effectivement utilisée en pratique. Vous pouvez voir le gain que l'on peut obtenir sur différentes distributions de probabilité du site :\n",
    "\n",
    "http://www.bnlearn.com/bnrepository/\n",
    "\n",
    "Cliquez sur le nom du dataset que vous voulez visualiser et téléchargez son .bif ou .dsl. Afin de visualiser le contenu du fichier, vous allez utiliser pyAgrum. Le code suivant vous permettra alors de visualiser votre dataset: la valeur indiquée après \"domainSize\" est la taille de la probabilité jointe d'origine (en nombre de paramètres) et celle après \"dim\" est la taille de la probabilité sous forme compacte (somme des tailles des probabilités conditionnelles compactes). "
   ]
  },
  {
   "cell_type": "code",
   "execution_count": 136,
   "metadata": {},
   "outputs": [
    {
     "name": "stdout",
     "output_type": "stream",
     "text": [
      "BN{nodes: 8, arcs: 8, domainSize: 256, dim: 36}\n"
     ]
    },
    {
     "ename": "InvocationException",
     "evalue": "GraphViz's executables not found",
     "output_type": "error",
     "traceback": [
      "\u001b[0;31m---------------------------------------------------------------------------\u001b[0m",
      "\u001b[0;31mInvocationException\u001b[0m                       Traceback (most recent call last)",
      "\u001b[0;32m/usr/local/lib/python2.7/dist-packages/IPython/core/formatters.pyc\u001b[0m in \u001b[0;36m__call__\u001b[0;34m(self, obj)\u001b[0m\n\u001b[1;32m    336\u001b[0m             \u001b[0mmethod\u001b[0m \u001b[0;34m=\u001b[0m \u001b[0mget_real_method\u001b[0m\u001b[0;34m(\u001b[0m\u001b[0mobj\u001b[0m\u001b[0;34m,\u001b[0m \u001b[0mself\u001b[0m\u001b[0;34m.\u001b[0m\u001b[0mprint_method\u001b[0m\u001b[0;34m)\u001b[0m\u001b[0;34m\u001b[0m\u001b[0;34m\u001b[0m\u001b[0m\n\u001b[1;32m    337\u001b[0m             \u001b[0;32mif\u001b[0m \u001b[0mmethod\u001b[0m \u001b[0;32mis\u001b[0m \u001b[0;32mnot\u001b[0m \u001b[0mNone\u001b[0m\u001b[0;34m:\u001b[0m\u001b[0;34m\u001b[0m\u001b[0;34m\u001b[0m\u001b[0m\n\u001b[0;32m--> 338\u001b[0;31m                 \u001b[0;32mreturn\u001b[0m \u001b[0mmethod\u001b[0m\u001b[0;34m(\u001b[0m\u001b[0;34m)\u001b[0m\u001b[0;34m\u001b[0m\u001b[0;34m\u001b[0m\u001b[0m\n\u001b[0m\u001b[1;32m    339\u001b[0m             \u001b[0;32mreturn\u001b[0m \u001b[0mNone\u001b[0m\u001b[0;34m\u001b[0m\u001b[0;34m\u001b[0m\u001b[0m\n\u001b[1;32m    340\u001b[0m         \u001b[0;32melse\u001b[0m\u001b[0;34m:\u001b[0m\u001b[0;34m\u001b[0m\u001b[0;34m\u001b[0m\u001b[0m\n",
      "\u001b[0;32m/home/adrien/.local/lib/python2.7/site-packages/pyAgrum/lib/notebook.pyc\u001b[0m in \u001b[0;36m<lambda>\u001b[0;34m(self)\u001b[0m\n\u001b[1;32m    958\u001b[0m \u001b[0;34m\u001b[0m\u001b[0m\n\u001b[1;32m    959\u001b[0m \u001b[0;31m# adding _repr_html_ to some pyAgrum classes !\u001b[0m\u001b[0;34m\u001b[0m\u001b[0;34m\u001b[0m\u001b[0;34m\u001b[0m\u001b[0m\n\u001b[0;32m--> 960\u001b[0;31m \u001b[0mgum\u001b[0m\u001b[0;34m.\u001b[0m\u001b[0mBayesNet\u001b[0m\u001b[0;34m.\u001b[0m\u001b[0m_repr_html_\u001b[0m \u001b[0;34m=\u001b[0m \u001b[0;32mlambda\u001b[0m \u001b[0mself\u001b[0m\u001b[0;34m:\u001b[0m \u001b[0mgetBN\u001b[0m\u001b[0;34m(\u001b[0m\u001b[0mself\u001b[0m\u001b[0;34m)\u001b[0m\u001b[0;34m\u001b[0m\u001b[0;34m\u001b[0m\u001b[0m\n\u001b[0m\u001b[1;32m    961\u001b[0m \u001b[0mgum\u001b[0m\u001b[0;34m.\u001b[0m\u001b[0mPotential\u001b[0m\u001b[0;34m.\u001b[0m\u001b[0m_repr_html_\u001b[0m \u001b[0;34m=\u001b[0m \u001b[0;32mlambda\u001b[0m \u001b[0mself\u001b[0m\u001b[0;34m:\u001b[0m \u001b[0mgetPotential\u001b[0m\u001b[0;34m(\u001b[0m\u001b[0mself\u001b[0m\u001b[0;34m)\u001b[0m\u001b[0;34m\u001b[0m\u001b[0;34m\u001b[0m\u001b[0m\n\u001b[1;32m    962\u001b[0m gum.LazyPropagation._repr_html_ = lambda self: getInferenceEngine(\n",
      "\u001b[0;32m/home/adrien/.local/lib/python2.7/site-packages/pyAgrum/lib/notebook.pyc\u001b[0m in \u001b[0;36mgetBN\u001b[0;34m(bn, size, nodeColor, arcWidth, arcColor, cmap, cmapArc)\u001b[0m\n\u001b[1;32m    504\u001b[0m     \u001b[0mcmapArc\u001b[0m \u001b[0;34m=\u001b[0m \u001b[0mcmap\u001b[0m\u001b[0;34m\u001b[0m\u001b[0;34m\u001b[0m\u001b[0m\n\u001b[1;32m    505\u001b[0m \u001b[0;34m\u001b[0m\u001b[0m\n\u001b[0;32m--> 506\u001b[0;31m   \u001b[0;32mreturn\u001b[0m \u001b[0mgetGraph\u001b[0m\u001b[0;34m(\u001b[0m\u001b[0mBN2dot\u001b[0m\u001b[0;34m(\u001b[0m\u001b[0mbn\u001b[0m\u001b[0;34m,\u001b[0m \u001b[0msize\u001b[0m\u001b[0;34m,\u001b[0m \u001b[0mnodeColor\u001b[0m\u001b[0;34m,\u001b[0m \u001b[0marcWidth\u001b[0m\u001b[0;34m,\u001b[0m \u001b[0marcColor\u001b[0m\u001b[0;34m,\u001b[0m \u001b[0mcmap\u001b[0m\u001b[0;34m,\u001b[0m \u001b[0mcmapArc\u001b[0m\u001b[0;34m)\u001b[0m\u001b[0;34m,\u001b[0m \u001b[0msize\u001b[0m\u001b[0;34m)\u001b[0m\u001b[0;34m\u001b[0m\u001b[0;34m\u001b[0m\u001b[0m\n\u001b[0m\u001b[1;32m    507\u001b[0m \u001b[0;34m\u001b[0m\u001b[0m\n\u001b[1;32m    508\u001b[0m \u001b[0;34m\u001b[0m\u001b[0m\n",
      "\u001b[0;32m/home/adrien/.local/lib/python2.7/site-packages/pyAgrum/lib/notebook.pyc\u001b[0m in \u001b[0;36mgetGraph\u001b[0;34m(gr, size)\u001b[0m\n\u001b[1;32m    170\u001b[0m   \u001b[0;32mif\u001b[0m \u001b[0msize\u001b[0m \u001b[0;32mis\u001b[0m \u001b[0mNone\u001b[0m\u001b[0;34m:\u001b[0m\u001b[0;34m\u001b[0m\u001b[0;34m\u001b[0m\u001b[0m\n\u001b[1;32m    171\u001b[0m     \u001b[0msize\u001b[0m \u001b[0;34m=\u001b[0m \u001b[0mgum\u001b[0m\u001b[0;34m.\u001b[0m\u001b[0mconfig\u001b[0m\u001b[0;34m[\u001b[0m\u001b[0;34m\"notebook\"\u001b[0m\u001b[0;34m,\u001b[0m \u001b[0;34m\"default_graph_size\"\u001b[0m\u001b[0;34m]\u001b[0m\u001b[0;34m\u001b[0m\u001b[0;34m\u001b[0m\u001b[0m\n\u001b[0;32m--> 172\u001b[0;31m   \u001b[0;32mreturn\u001b[0m \u001b[0m_reprGraph\u001b[0m\u001b[0;34m(\u001b[0m\u001b[0mgr\u001b[0m\u001b[0;34m,\u001b[0m \u001b[0msize\u001b[0m\u001b[0;34m,\u001b[0m \u001b[0masString\u001b[0m\u001b[0;34m=\u001b[0m\u001b[0mTrue\u001b[0m\u001b[0;34m)\u001b[0m\u001b[0;34m\u001b[0m\u001b[0;34m\u001b[0m\u001b[0m\n\u001b[0m\u001b[1;32m    173\u001b[0m \u001b[0;34m\u001b[0m\u001b[0m\n\u001b[1;32m    174\u001b[0m \u001b[0;34m\u001b[0m\u001b[0m\n",
      "\u001b[0;32m/home/adrien/.local/lib/python2.7/site-packages/pyAgrum/lib/notebook.pyc\u001b[0m in \u001b[0;36m_reprGraph\u001b[0;34m(gr, size, asString)\u001b[0m\n\u001b[1;32m    132\u001b[0m   \u001b[0mgr\u001b[0m\u001b[0;34m.\u001b[0m\u001b[0mset_size\u001b[0m\u001b[0;34m(\u001b[0m\u001b[0msize\u001b[0m\u001b[0;34m)\u001b[0m\u001b[0;34m\u001b[0m\u001b[0;34m\u001b[0m\u001b[0m\n\u001b[1;32m    133\u001b[0m   \u001b[0;32mif\u001b[0m \u001b[0mgum\u001b[0m\u001b[0;34m.\u001b[0m\u001b[0mconfig\u001b[0m\u001b[0;34m[\u001b[0m\u001b[0;34m\"notebook\"\u001b[0m\u001b[0;34m,\u001b[0m \u001b[0;34m\"graph_format\"\u001b[0m\u001b[0;34m]\u001b[0m \u001b[0;34m==\u001b[0m \u001b[0;34m\"svg\"\u001b[0m\u001b[0;34m:\u001b[0m\u001b[0;34m\u001b[0m\u001b[0;34m\u001b[0m\u001b[0m\n\u001b[0;32m--> 134\u001b[0;31m     \u001b[0mgsvg\u001b[0m \u001b[0;34m=\u001b[0m \u001b[0mSVG\u001b[0m\u001b[0;34m(\u001b[0m\u001b[0m__insertLinkedSVGs\u001b[0m\u001b[0;34m(\u001b[0m\u001b[0mgr\u001b[0m\u001b[0;34m.\u001b[0m\u001b[0mcreate_svg\u001b[0m\u001b[0;34m(\u001b[0m\u001b[0;34m)\u001b[0m\u001b[0;34m.\u001b[0m\u001b[0mdecode\u001b[0m\u001b[0;34m(\u001b[0m\u001b[0;34m'utf-8'\u001b[0m\u001b[0;34m)\u001b[0m\u001b[0;34m)\u001b[0m\u001b[0;34m)\u001b[0m\u001b[0;34m\u001b[0m\u001b[0;34m\u001b[0m\u001b[0m\n\u001b[0m\u001b[1;32m    135\u001b[0m     \u001b[0;32mif\u001b[0m \u001b[0masString\u001b[0m\u001b[0;34m:\u001b[0m\u001b[0;34m\u001b[0m\u001b[0;34m\u001b[0m\u001b[0m\n\u001b[1;32m    136\u001b[0m       \u001b[0;32mreturn\u001b[0m \u001b[0mgsvg\u001b[0m\u001b[0;34m.\u001b[0m\u001b[0mdata\u001b[0m\u001b[0;34m\u001b[0m\u001b[0;34m\u001b[0m\u001b[0m\n",
      "\u001b[0;32m/home/adrien/.local/lib/python2.7/site-packages/pydotplus/graphviz.pyc\u001b[0m in \u001b[0;36m<lambda>\u001b[0;34m(f, prog)\u001b[0m\n\u001b[1;32m   1795\u001b[0m             self.__setattr__(\n\u001b[1;32m   1796\u001b[0m                 \u001b[0;34m'create_'\u001b[0m \u001b[0;34m+\u001b[0m \u001b[0mfrmt\u001b[0m\u001b[0;34m,\u001b[0m\u001b[0;34m\u001b[0m\u001b[0;34m\u001b[0m\u001b[0m\n\u001b[0;32m-> 1797\u001b[0;31m                 \u001b[0;32mlambda\u001b[0m \u001b[0mf\u001b[0m\u001b[0;34m=\u001b[0m\u001b[0mfrmt\u001b[0m\u001b[0;34m,\u001b[0m \u001b[0mprog\u001b[0m\u001b[0;34m=\u001b[0m\u001b[0mself\u001b[0m\u001b[0;34m.\u001b[0m\u001b[0mprog\u001b[0m\u001b[0;34m:\u001b[0m \u001b[0mself\u001b[0m\u001b[0;34m.\u001b[0m\u001b[0mcreate\u001b[0m\u001b[0;34m(\u001b[0m\u001b[0mformat\u001b[0m\u001b[0;34m=\u001b[0m\u001b[0mf\u001b[0m\u001b[0;34m,\u001b[0m \u001b[0mprog\u001b[0m\u001b[0;34m=\u001b[0m\u001b[0mprog\u001b[0m\u001b[0;34m)\u001b[0m\u001b[0;34m\u001b[0m\u001b[0;34m\u001b[0m\u001b[0m\n\u001b[0m\u001b[1;32m   1798\u001b[0m             )\n\u001b[1;32m   1799\u001b[0m             \u001b[0mf\u001b[0m \u001b[0;34m=\u001b[0m \u001b[0mself\u001b[0m\u001b[0;34m.\u001b[0m\u001b[0m__dict__\u001b[0m\u001b[0;34m[\u001b[0m\u001b[0;34m'create_'\u001b[0m \u001b[0;34m+\u001b[0m \u001b[0mfrmt\u001b[0m\u001b[0;34m]\u001b[0m\u001b[0;34m\u001b[0m\u001b[0;34m\u001b[0m\u001b[0m\n",
      "\u001b[0;32m/home/adrien/.local/lib/python2.7/site-packages/pydotplus/graphviz.pyc\u001b[0m in \u001b[0;36mcreate\u001b[0;34m(self, prog, format)\u001b[0m\n\u001b[1;32m   1958\u001b[0m             \u001b[0;32mif\u001b[0m \u001b[0mself\u001b[0m\u001b[0;34m.\u001b[0m\u001b[0mprogs\u001b[0m \u001b[0;32mis\u001b[0m \u001b[0mNone\u001b[0m\u001b[0;34m:\u001b[0m\u001b[0;34m\u001b[0m\u001b[0;34m\u001b[0m\u001b[0m\n\u001b[1;32m   1959\u001b[0m                 raise InvocationException(\n\u001b[0;32m-> 1960\u001b[0;31m                     'GraphViz\\'s executables not found')\n\u001b[0m\u001b[1;32m   1961\u001b[0m \u001b[0;34m\u001b[0m\u001b[0m\n\u001b[1;32m   1962\u001b[0m         \u001b[0;32mif\u001b[0m \u001b[0mprog\u001b[0m \u001b[0;32mnot\u001b[0m \u001b[0;32min\u001b[0m \u001b[0mself\u001b[0m\u001b[0;34m.\u001b[0m\u001b[0mprogs\u001b[0m\u001b[0;34m:\u001b[0m\u001b[0;34m\u001b[0m\u001b[0;34m\u001b[0m\u001b[0m\n",
      "\u001b[0;31mInvocationException\u001b[0m: GraphViz's executables not found"
     ]
    },
    {
     "data": {
      "text/plain": [
       "(gum::BayesNet<double>@0x55676e7109b0) BN{nodes: 8, arcs: 8, domainSize: 256, dim: 36}"
      ]
     },
     "execution_count": 136,
     "metadata": {},
     "output_type": "execute_result"
    }
   ],
   "source": [
    "# chargement de pyAgrum\n",
    "import pyAgrum as gum\n",
    "import pyAgrum.lib.notebook as gnb\n",
    "\n",
    "# chargement du fichier bif ou dsl\n",
    "bn = gum.loadBN ( \"asia.bif\" )\n",
    "\n",
    "# affichage de la taille des probabilités jointes compacte et non compacte\n",
    "print(bn)\n",
    "\n",
    "# affichage graphique du réseau bayésien\n",
    "bn"
   ]
  },
  {
   "cell_type": "code",
   "execution_count": null,
   "metadata": {},
   "outputs": [],
   "source": []
  }
 ],
 "metadata": {
  "kernelspec": {
   "display_name": "Python 2",
   "language": "python",
   "name": "python2"
  },
  "language_info": {
   "codemirror_mode": {
    "name": "ipython",
    "version": 2
   },
   "file_extension": ".py",
   "mimetype": "text/x-python",
   "name": "python",
   "nbconvert_exporter": "python",
   "pygments_lexer": "ipython2",
   "version": "2.7.15+"
  }
 },
 "nbformat": 4,
 "nbformat_minor": 4
}
