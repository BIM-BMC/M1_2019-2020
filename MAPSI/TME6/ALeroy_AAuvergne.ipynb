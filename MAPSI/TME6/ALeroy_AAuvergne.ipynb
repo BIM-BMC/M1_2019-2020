{
 "cells": [
  {
   "cell_type": "markdown",
   "metadata": {},
   "source": [
    "# TME sur la classification de lettres manuscrites\n",
    "## Format des données\n",
    "Nous travaillerons sur des lettres manuscrites.\n",
    "Les données sont fournies au format pickle (le standard de sérialisation python, particulièrement convivial). Pour les charger : "
   ]
  },
  {
   "cell_type": "code",
   "execution_count": 60,
   "metadata": {},
   "outputs": [],
   "source": [
    "import numpy as np\n",
    "import pickle as pkl\n",
    "import matplotlib.pyplot as plt\n",
    "\n",
    "with open('ressources/lettres.pkl', 'rb') as f:\n",
    "    data = pkl.load(f, encoding='latin1') \n",
    "X = np.array(data.get('letters')) # récupération des données sur les lettres\n",
    "Y = np.array(data.get('labels')) # récupération des étiquettes associées "
   ]
  },
  {
   "cell_type": "markdown",
   "metadata": {},
   "source": [
    "Les données sont dans un format original: une lettre est en fait une série d'angles (exprimés en degrés). Un exemple: "
   ]
  },
  {
   "cell_type": "code",
   "execution_count": 61,
   "metadata": {},
   "outputs": [
    {
     "data": {
      "text/plain": [
       "array([ 36.214493, 347.719116, 322.088898, 312.230957, 314.851013,\n",
       "       315.487213, 313.556702, 326.534973, 141.288971, 167.606689,\n",
       "       199.321594, 217.911087, 226.443298, 235.002472, 252.354492,\n",
       "       270.045654, 291.665161, 350.934723,  17.892815,  20.281025,\n",
       "        28.207161,  43.883423,  53.459026])"
      ]
     },
     "execution_count": 61,
     "metadata": {},
     "output_type": "execute_result"
    }
   ],
   "source": [
    "X[0]"
   ]
  },
  {
   "cell_type": "markdown",
   "metadata": {},
   "source": [
    "Lors de l'acquisition, un stylo intelligent a pris des mesures régulièrement dans le temps: chaque période correspond à un segment de droite et le stylo a calculé l'angle entre deux segments consécutifs... C'est l'information qui vous est fournie.\n",
    "\n",
    "Pour afficher une lettre, il faut reconstruire la trajectoire enregistrée... C'est ce que fait la méthode ci-dessous: "
   ]
  },
  {
   "cell_type": "code",
   "execution_count": 62,
   "metadata": {},
   "outputs": [],
   "source": [
    "# affichage d'une lettre\n",
    "def tracerLettre(let):\n",
    "    a = -let*np.pi/180; # conversion en rad\n",
    "    coord = np.array([[0, 0]]); # point initial\n",
    "    for i in range(len(a)):\n",
    "        x = np.array([[1, 0]]);\n",
    "        rot = np.array([[np.cos(a[i]), -np.sin(a[i])],[ np.sin(a[i]),np.cos(a[i])]])\n",
    "        xr = x.dot(rot) # application de la rotation\n",
    "        coord = np.vstack((coord,xr+coord[-1,:]))\n",
    "    plt.figure()\n",
    "    plt.plot(coord[:,0],coord[:,1])\n",
    "    plt.savefig(\"exlettre.png\")\n",
    "    return"
   ]
  },
  {
   "cell_type": "code",
   "execution_count": 63,
   "metadata": {},
   "outputs": [
    {
     "data": {
      "image/png": "[encoded data removed]",
      "text/plain": [
       "<Figure size 432x288 with 1 Axes>"
      ]
     },
     "metadata": {
      "needs_background": "light"
     },
     "output_type": "display_data"
    }
   ],
   "source": [
    "tracerLettre(X[0])"
   ]
  },
  {
   "cell_type": "markdown",
   "metadata": {},
   "source": [
    "##  Apprentissage d'un modèle CM (max de vraisemblance)\n",
    "### 1. Discrétisation\n",
    "\n",
    "**1 état = 1 angle**\n",
    "\n",
    "Il est nécessaire de regrouper les angles en un nombre fini d'états (par exemple 20)\n",
    "- définir un `intervalle = 360 / n_etats`\n",
    "- discrétiser tous les signaux à l'aide de la formule `np.floor(x / intervalle)`\n",
    "\n",
    "Donner le code de la méthode `discretise(x, d)` qui prend la base des signaux et retourne une base de signaux discrétisés."
   ]
  },
  {
   "cell_type": "code",
   "execution_count": 64,
   "metadata": {},
   "outputs": [
    {
     "data": {
      "text/plain": [
       "array([array([0., 2., 2., 2., 2., 2., 2., 2., 1., 1., 1., 1., 1., 1., 2., 2., 2.,\n",
       "       2., 0., 0., 0., 0., 0.]),\n",
       "       array([2., 2., 2., 2., 2., 2., 2., 1., 1., 1., 1., 1., 1., 1., 2., 2., 2.,\n",
       "       2., 2., 0., 0.]),\n",
       "       array([2., 2., 2., 2., 2., 2., 2., 2., 1., 1., 1., 1., 1., 1., 2., 2., 2.,\n",
       "       2., 0., 0., 0., 0., 0.]),\n",
       "       array([2., 2., 2., 2., 2., 0., 0., 1., 1., 1., 1., 2., 2., 2., 2., 2., 0.,\n",
       "       0., 0., 0.]),\n",
       "       array([0., 2., 2., 2., 2., 2., 2., 1., 1., 1., 1., 1., 1., 2., 2., 2., 2.,\n",
       "       0., 0., 0., 0., 0., 0.]),\n",
       "       array([2., 2., 2., 2., 2., 2., 2., 0., 1., 1., 1., 1., 2., 2., 2., 2., 2.,\n",
       "       0., 0., 0., 0., 0., 0.]),\n",
       "       array([2., 2., 2., 2., 2., 2., 2., 1., 1., 1., 1., 1., 1., 1., 2., 2., 2.,\n",
       "       2., 0., 0., 0., 0.]),\n",
       "       array([0., 2., 2., 2., 2., 2., 2., 2., 1., 1., 1., 1., 1., 1., 1., 1., 2.,\n",
       "       2., 2., 2., 2., 0., 0., 0.]),\n",
       "       array([2., 2., 2., 2., 2., 2., 2., 1., 1., 1., 1., 2., 2., 2., 2., 0., 0.,\n",
       "       0., 0.]),\n",
       "       array([2., 2., 2., 2., 2., 2., 2., 2., 0., 0., 1., 1., 1., 1., 1., 1., 2.,\n",
       "       2., 2., 2., 0., 0.]),\n",
       "       array([0., 2., 2., 2., 2., 2., 2., 2., 1., 1., 1., 1., 1., 1., 1., 1., 2.,\n",
       "       2., 2., 0., 0., 0., 0., 0., 0.]),\n",
       "       array([2., 2., 2., 2., 2., 2., 2., 2., 0., 0., 0., 0., 0., 2., 2., 2., 2.,\n",
       "       1., 1., 1., 1.]),\n",
       "       array([2., 2., 2., 2., 2., 2., 2., 2., 0., 0., 0., 0., 0., 2., 2., 2., 2.,\n",
       "       1., 1., 1., 1., 1.]),\n",
       "       array([2., 2., 2., 2., 2., 2., 0., 0., 0., 0., 2., 2., 2., 2., 1., 1., 1.,\n",
       "       1.]),\n",
       "       array([2., 2., 2., 2., 2., 2., 2., 2., 2., 0., 0., 0., 0., 0., 0., 2., 2.,\n",
       "       2., 2., 2., 2., 1., 1., 1., 1., 1.]),\n",
       "       array([2., 2., 2., 2., 2., 2., 2., 2., 0., 0., 0., 0., 0., 2., 2., 2., 2.,\n",
       "       2., 1., 1., 1., 1.]),\n",
       "       array([2., 2., 2., 2., 2., 2., 2., 2., 0., 0., 0., 0., 0., 0., 2., 2., 2.,\n",
       "       2., 2., 1., 1., 1., 1., 1.]),\n",
       "       array([2., 2., 2., 2., 2., 2., 2., 2., 0., 0., 0., 0., 0., 0., 0., 2., 2.,\n",
       "       2., 2., 2., 2., 2., 1., 1., 1., 1., 1., 1.]),\n",
       "       array([2., 2., 2., 2., 2., 2., 2., 2., 0., 0., 0., 0., 0., 0., 2., 2., 2.,\n",
       "       2., 2., 1., 1., 1., 1., 1.]),\n",
       "       array([2., 2., 2., 2., 2., 2., 2., 2., 0., 0., 0., 0., 0., 0., 0., 2., 2.,\n",
       "       2., 2., 2., 2., 1., 1., 1., 1.]),\n",
       "       array([2., 2., 2., 2., 2., 2., 0., 0., 0., 2., 2., 2., 2., 2., 2., 1.]),\n",
       "       array([2., 2., 2., 2., 2., 2., 2., 0., 0., 0., 0., 0., 2., 2., 2., 2., 1.,\n",
       "       1., 1., 1., 1., 1.]),\n",
       "       array([1., 1., 1., 1., 1., 1., 2., 2., 2., 2., 2., 2., 2., 2., 0., 0., 0.,\n",
       "       0., 0., 0.]),\n",
       "       array([1., 1., 1., 2., 2., 2., 2., 2., 2., 2., 2., 2., 0., 0., 0., 0.]),\n",
       "       array([0., 1., 1., 1., 1., 2., 1., 2., 2., 2., 2., 2., 2., 2., 0., 0., 0.,\n",
       "       0., 0., 0.]),\n",
       "       array([1., 1., 1., 1., 2., 1., 2., 2., 2., 2., 2., 2., 0., 0., 0., 0.]),\n",
       "       array([1., 1., 2., 2., 2., 2., 2., 2., 2., 2., 0., 0., 0., 0., 0., 0., 0.,\n",
       "       0., 0.]),\n",
       "       array([1., 1., 1., 1., 2., 2., 2., 2., 2., 2., 2., 2., 0., 0., 0., 0., 0.,\n",
       "       0.]),\n",
       "       array([1., 1., 1., 1., 1., 2., 2., 2., 2., 2., 2., 2., 0., 0., 0., 0., 0.,\n",
       "       0.]),\n",
       "       array([1., 1., 1., 1., 1., 2., 2., 2., 2., 2., 2., 0., 0., 0., 0., 0., 0.,\n",
       "       0., 0.]),\n",
       "       array([0., 1., 1., 1., 1., 1., 2., 2., 2., 2., 2., 2., 2., 2., 0., 0., 0.,\n",
       "       0.]),\n",
       "       array([0., 1., 1., 1., 1., 1., 1., 2., 2., 2., 2., 2., 2., 2., 0., 0., 0.,\n",
       "       0., 0., 0., 0.]),\n",
       "       array([1., 1., 1., 1., 1., 1., 1., 2., 2., 2., 2., 2., 2., 0., 0., 0., 0.,\n",
       "       0.]),\n",
       "       array([2., 2., 2., 2., 2., 2., 2., 2., 0., 1., 1., 1., 1., 1., 2., 2., 2.,\n",
       "       2., 0., 0., 0.]),\n",
       "       array([2., 2., 2., 2., 2., 2., 2., 0., 1., 1., 1., 1., 1., 2., 2., 2., 2.,\n",
       "       0., 0., 0.]),\n",
       "       array([2., 2., 2., 2., 2., 2., 2., 0., 1., 1., 1., 1., 2., 2., 2., 2., 0.,\n",
       "       0.]),\n",
       "       array([2., 2., 2., 2., 2., 2., 0., 1., 1., 1., 2., 2., 2., 2., 2., 0., 0.,\n",
       "       0., 0.]),\n",
       "       array([2., 2., 2., 2., 2., 2., 1., 1., 1., 1., 1., 1., 2., 2., 2., 0., 0.]),\n",
       "       array([2., 2., 2., 2., 2., 2., 0., 1., 1., 1., 2., 2., 2., 0., 0., 0., 0.]),\n",
       "       array([2., 2., 2., 2., 2., 2., 2., 2., 0., 1., 1., 1., 1., 1., 2., 2., 2.,\n",
       "       2., 0., 0., 0., 0.]),\n",
       "       array([2., 2., 2., 2., 2., 2., 2., 0., 1., 1., 1., 1., 1., 2., 2., 2., 2.,\n",
       "       0., 0., 0.]),\n",
       "       array([2., 2., 2., 2., 2., 2., 2., 1., 1., 1., 1., 2., 2., 2., 2., 0., 0.,\n",
       "       0.]),\n",
       "       array([2., 2., 2., 2., 2., 2., 2., 1., 1., 1., 1., 2., 2., 2., 2., 0., 0.]),\n",
       "       array([2., 2., 2., 2., 2., 2., 1., 1., 1., 1., 1., 1., 2., 2., 2., 0., 0.,\n",
       "       0., 0., 0.]),\n",
       "       array([0., 0., 0., 0., 0., 0., 0., 1., 1., 1., 2., 2., 2., 2., 2., 2., 2.,\n",
       "       2., 2., 0., 0.]),\n",
       "       array([0., 0., 0., 0., 0., 0., 0., 0., 0., 0., 1., 1., 1., 1., 1., 1., 1.,\n",
       "       2., 2., 2., 2., 2., 2., 2., 2., 0., 0.]),\n",
       "       array([0., 0., 0., 0., 0., 0., 0., 0., 1., 1., 1., 1., 1., 1., 1., 2., 2.,\n",
       "       2., 2., 2., 2., 2., 2., 2., 0., 0., 0., 0.]),\n",
       "       array([0., 0., 0., 0., 0., 0., 1., 1., 1., 1., 1., 2., 2., 2., 2., 2., 2.,\n",
       "       2., 2., 2., 0.]),\n",
       "       array([0., 0., 0., 0., 0., 0., 0., 0., 1., 1., 1., 1., 1., 2., 2., 2., 2.,\n",
       "       2., 2., 2., 2., 2., 0., 0.]),\n",
       "       array([0., 0., 0., 0., 0., 0., 0., 0., 0., 0., 0., 0., 1., 1., 1., 1., 1.,\n",
       "       1., 1., 1., 2., 2., 2., 2., 2., 2., 2., 0., 0., 0., 0., 0.]),\n",
       "       array([0., 0., 0., 0., 0., 0., 1., 1., 1., 1., 2., 2., 2., 2., 2., 2., 2.,\n",
       "       2., 2., 0.]),\n",
       "       array([2., 0., 0., 0., 0., 0., 0., 1., 1., 1., 1., 2., 2., 2., 2., 2., 2.,\n",
       "       2., 2., 0., 0.]),\n",
       "       array([0., 0., 0., 0., 0., 0., 0., 0., 1., 1., 1., 1., 2., 2., 2., 2., 2.,\n",
       "       2., 2., 2., 2., 0., 0.]),\n",
       "       array([0., 0., 0., 0., 0., 0., 0., 0., 1., 1., 1., 1., 1., 1., 2., 2., 2.,\n",
       "       2., 2., 2., 2., 0., 0., 0., 0.]),\n",
       "       array([0., 0., 0., 0., 0., 0., 0., 0., 0., 0., 0., 1., 1., 1., 1., 1., 1.,\n",
       "       1., 1., 2., 2., 2., 2., 2., 2., 2., 2., 0.]),\n",
       "       array([0., 1., 1., 1., 2.]), array([1., 1., 1., 1.]),\n",
       "       array([1., 1., 1., 1., 1., 2.]), array([0., 1., 1., 1.]),\n",
       "       array([1., 1., 2., 2., 2.]), array([1., 1., 1., 1.]),\n",
       "       array([1., 1., 1., 2., 2., 2.]), array([0., 1., 1., 1., 2., 2.]),\n",
       "       array([1., 2., 2., 2., 2.]), array([1., 1., 2., 2.]),\n",
       "       array([1., 1., 2., 2.]), array([1., 1.]), array([1., 1.]),\n",
       "       array([1., 1.]), array([1., 1.]), array([1., 1., 2.]),\n",
       "       array([1., 2., 2.]), array([1., 1., 1.]), array([1., 1., 1.]),\n",
       "       array([1., 1., 1., 2.]), array([1., 1., 1.]), array([1., 1.]),\n",
       "       array([2., 2., 2., 2., 2., 2., 2., 2., 2., 0., 0., 0., 0., 0., 0., 0., 2.,\n",
       "       2., 2., 2., 2., 2.]),\n",
       "       array([2., 2., 2., 2., 2., 2., 2., 2., 2., 0., 0., 0., 0., 0., 2., 2., 2.,\n",
       "       2., 2.]),\n",
       "       array([2., 2., 2., 2., 2., 2., 2., 2., 2., 0., 0., 0., 2., 2., 2., 2., 2.]),\n",
       "       array([2., 2., 2., 2., 2., 2., 2., 2., 0., 0., 0., 0., 2., 2., 2., 2., 2.]),\n",
       "       array([2., 2., 2., 2., 2., 2., 2., 2., 2., 0., 0., 0., 0., 2., 2., 2., 2.]),\n",
       "       array([2., 2., 2., 2., 2., 2., 2., 2., 2., 0., 0., 0., 0., 0., 0., 0., 0.,\n",
       "       2., 2., 2., 2., 2., 2., 2.]),\n",
       "       array([2., 2., 2., 2., 2., 2., 2., 2., 2., 0., 0., 0., 0., 0., 2., 2., 2.,\n",
       "       2., 2., 2.]),\n",
       "       array([2., 2., 2., 2., 2., 2., 2., 2., 0., 0., 0., 0., 0., 0., 2., 2., 2.,\n",
       "       2., 2.]),\n",
       "       array([2., 2., 2., 2., 2., 2., 2., 2., 2., 0., 0., 0., 0., 2., 2., 2., 2.]),\n",
       "       array([2., 2., 2., 2., 2., 2., 2., 2., 0., 0., 0., 0., 0., 0., 2., 2., 2.,\n",
       "       2., 2., 2., 2.]),\n",
       "       array([2., 2., 2., 2., 2., 2., 2., 2., 2., 0., 0., 0., 0., 0., 2., 2., 2.]),\n",
       "       array([2., 2., 2., 2., 2., 2., 2., 2., 2., 2.]),\n",
       "       array([2., 2., 2., 2., 2., 2., 2., 2., 2., 2.]),\n",
       "       array([2., 2., 2., 2., 2., 2., 2., 2., 2., 2.]),\n",
       "       array([2., 2., 2., 2., 2., 2., 2., 2., 2., 2.]),\n",
       "       array([2., 2., 2., 2., 2., 2., 2., 2., 2., 2., 2.]),\n",
       "       array([2., 2., 2., 2., 2., 2., 2., 2., 2., 2.]),\n",
       "       array([2., 2., 2., 2., 2., 2., 2., 2., 2.]),\n",
       "       array([2., 2., 2., 2., 2., 2., 2., 2., 2., 2., 2.]),\n",
       "       array([2., 2., 2., 2., 2., 2., 2., 2., 2., 2.]),\n",
       "       array([2., 2., 2., 2., 2., 2., 2., 2., 2.]),\n",
       "       array([2., 2., 2., 2., 2., 2., 2., 2., 1., 1., 1., 1., 1.]),\n",
       "       array([2., 2., 2., 2., 2., 2., 2., 2., 1., 1., 1., 1.]),\n",
       "       array([2., 2., 2., 2., 2., 2., 2., 2., 1., 1., 1., 1., 1.]),\n",
       "       array([2., 2., 2., 2., 2., 2., 2., 2., 1., 1., 1., 1.]),\n",
       "       array([2., 2., 2., 2., 2., 2., 2., 2., 1., 1., 1., 1.]),\n",
       "       array([2., 2., 2., 2., 2., 2., 2., 2., 1., 1., 1., 1.]),\n",
       "       array([2., 2., 2., 2., 2., 2., 2., 2., 1., 1., 1., 1.]),\n",
       "       array([2., 2., 2., 2., 2., 2., 2., 2., 1., 1., 1., 1.]),\n",
       "       array([2., 2., 2., 2., 2., 2., 2., 2., 1., 1., 1., 1., 1.]),\n",
       "       array([2., 2., 2., 2., 2., 2., 2., 2., 1., 1., 1., 1.]),\n",
       "       array([2., 2., 2., 2., 2., 2., 2., 2., 2., 2.]),\n",
       "       array([2., 2., 2., 2., 2., 2., 2., 2., 2., 2., 1., 1.]),\n",
       "       array([2., 2., 2., 2., 2., 2., 2., 2., 2., 1., 1., 1., 1., 1., 1., 1., 1.,\n",
       "       2.]),\n",
       "       array([2., 2., 2., 2., 2., 2., 2., 2., 2., 1., 1., 1., 1.]),\n",
       "       array([2., 2., 2., 2., 2., 2., 2., 2., 2., 1.]),\n",
       "       array([2., 2., 2., 2., 2., 2., 2., 2., 2., 2.]),\n",
       "       array([2., 2., 2., 2., 2., 2., 2., 2., 2., 1., 1.]),\n",
       "       array([2., 2., 2., 2., 2., 2., 2., 2., 2., 1.]),\n",
       "       array([2., 2., 2., 2., 2., 2., 2., 2., 2., 1.]),\n",
       "       array([2., 2., 2., 2., 2., 2., 2., 2., 2., 1., 1., 1.]),\n",
       "       array([2., 2., 2., 2., 2., 2., 2., 2., 2., 2.]),\n",
       "       array([2., 2., 2., 2., 2., 2., 2., 2., 2., 2.]),\n",
       "       array([2., 2., 2., 2., 2., 2., 2., 2., 2.]),\n",
       "       array([2., 2., 2., 2., 2., 2., 2., 2., 2.]),\n",
       "       array([2., 2., 2., 2., 2., 2., 2., 2., 2.]),\n",
       "       array([2., 2., 2., 2., 2., 2., 2., 2., 2.]),\n",
       "       array([2., 2., 2., 2., 2., 2., 2., 2., 2.]),\n",
       "       array([2., 2., 2., 2., 2., 2., 2., 2., 2.]),\n",
       "       array([2., 2., 2., 2., 2., 2., 2., 2., 2.]),\n",
       "       array([2., 2., 2., 2., 2., 2., 2., 2., 2.]),\n",
       "       array([2., 2., 2., 2., 2., 2., 2., 2., 0., 0., 0., 0., 0., 0., 0., 0., 2.,\n",
       "       2., 2., 2., 2., 2., 2., 2., 2., 2., 2., 0., 0., 0., 0., 0., 0., 0.,\n",
       "       0., 0., 2., 2., 2., 2., 2., 2., 2., 2., 2., 2.]),\n",
       "       array([2., 2., 2., 2., 2., 2., 2., 2., 0., 0., 0., 0., 0., 0., 0., 0., 0.,\n",
       "       0., 0., 2., 2., 2., 2., 2., 2., 2., 2., 0., 0., 0., 0., 0., 0., 2.,\n",
       "       2., 2., 2., 2., 2., 2., 2.]),\n",
       "       array([2., 2., 2., 2., 2., 2., 2., 0., 0., 0., 0., 0., 0., 0., 2., 2., 2.,\n",
       "       2., 2., 2., 0., 0., 0., 0., 0., 0., 0., 0., 2., 2., 2., 2., 2., 2.,\n",
       "       2., 2., 2., 2., 2., 2.]),\n",
       "       array([2., 2., 2., 2., 2., 2., 2., 2., 0., 0., 0., 0., 0., 0., 0., 0., 0.,\n",
       "       0., 2., 2., 2., 2., 2., 2., 2., 0., 0., 0., 0., 0., 0., 0., 2., 2.,\n",
       "       2., 2., 2., 2., 2., 2.]),\n",
       "       array([2., 2., 2., 2., 2., 2., 2., 2., 0., 0., 0., 0., 0., 0., 0., 0., 0.,\n",
       "       2., 2., 2., 2., 2., 2., 2., 2., 2., 0., 0., 0., 0., 0., 0., 0., 0.,\n",
       "       2., 2., 2., 2., 2., 2., 2., 2.]),\n",
       "       array([2., 2., 2., 2., 2., 2., 2., 0., 0., 0., 0., 0., 0., 0., 0., 0., 2.,\n",
       "       2., 2., 2., 2., 2., 2., 2., 2., 0., 0., 0., 0., 0., 0., 0., 0., 0.,\n",
       "       2., 2., 2., 2., 2., 2., 2., 2.]),\n",
       "       array([2., 2., 2., 2., 2., 2., 2., 0., 0., 0., 0., 0., 0., 0., 0., 2., 2.,\n",
       "       2., 2., 2., 2., 2., 2., 2., 0., 0., 0., 0., 0., 0., 0., 0., 2., 2.,\n",
       "       2., 2., 2., 2., 2., 2., 2.]),\n",
       "       array([2., 2., 2., 2., 2., 2., 2., 0., 0., 0., 0., 0., 0., 0., 0., 0., 2.,\n",
       "       2., 2., 2., 2., 2., 2., 2., 2., 2., 0., 0., 0., 0., 0., 0., 0., 0.,\n",
       "       2., 2., 2., 2., 2., 2., 2.]),\n",
       "       array([2., 2., 2., 2., 2., 2., 2., 2., 2., 0., 0., 0., 0., 0., 0., 0., 0.,\n",
       "       0., 0., 0., 2., 2., 2., 2., 2., 2., 2., 2., 0., 0., 0., 0., 0., 0.,\n",
       "       2., 2., 2., 2., 2., 2., 2., 2., 2.]),\n",
       "       array([2., 2., 2., 2., 2., 2., 2., 0., 0., 0., 0., 0., 0., 0., 0., 0., 0.,\n",
       "       2., 2., 2., 2., 2., 2., 2., 2., 2., 2., 0., 0., 0., 0., 0., 0., 0.,\n",
       "       0., 2., 2., 2., 2., 2., 2., 2., 2.]),\n",
       "       array([2., 2., 2., 2., 2., 2., 2., 2., 2., 0., 0., 0., 0., 0., 0., 0., 0.,\n",
       "       0., 2., 2., 2., 2., 2., 2., 2., 2., 2.]),\n",
       "       array([2., 2., 2., 2., 2., 2., 2., 2., 2., 0., 0., 0., 0., 0., 0., 0., 0.,\n",
       "       0., 2., 2., 2., 2., 2., 2., 2., 2.]),\n",
       "       array([2., 2., 2., 2., 2., 2., 2., 2., 2., 0., 0., 0., 0., 0., 0., 0., 0.,\n",
       "       0., 0., 2., 2., 2., 2., 2., 2., 2., 2., 2.]),\n",
       "       array([2., 2., 2., 2., 2., 2., 2., 2., 0., 0., 0., 0., 0., 0., 0., 0., 2.,\n",
       "       2., 2., 2., 2., 2., 2., 2., 2., 2., 2.]),\n",
       "       array([2., 2., 2., 2., 2., 2., 2., 2., 2., 0., 0., 0., 0., 0., 0., 0., 0.,\n",
       "       0., 2., 2., 2., 2., 2., 2.]),\n",
       "       array([2., 2., 2., 2., 2., 2., 2., 2., 2., 2., 0., 0., 0., 0., 0., 0., 0.,\n",
       "       0., 0., 2., 2., 2., 2., 2., 2., 2., 2., 2.]),\n",
       "       array([2., 2., 2., 2., 2., 2., 2., 0., 0., 0., 0., 0., 0., 0., 0., 0., 0.,\n",
       "       2., 2., 2., 2., 2., 2., 2., 2., 2., 2.]),\n",
       "       array([2., 2., 2., 2., 2., 2., 2., 2., 2., 0., 0., 0., 0., 0., 0., 0., 0.,\n",
       "       2., 2., 2., 2., 2., 2., 2., 2.]),\n",
       "       array([2., 2., 2., 2., 2., 2., 2., 2., 2., 0., 0., 0., 0., 0., 0., 0., 0.,\n",
       "       0., 2., 2., 2., 2., 2., 2., 2., 2.]),\n",
       "       array([2., 2., 2., 2., 2., 2., 2., 0., 0., 0., 0., 0., 0., 0., 0., 0., 0.,\n",
       "       2., 2., 2., 2., 2., 2., 2., 2., 2., 2.]),\n",
       "       array([0., 1., 1., 2., 2., 2., 2., 2., 2., 2., 0., 0., 0., 0., 0., 0., 0.,\n",
       "       0., 0., 0., 1., 1., 1., 1.]),\n",
       "       array([0., 1., 1., 1., 1., 1., 2., 2., 2., 2., 2., 2., 2., 2., 0., 0., 0.,\n",
       "       0., 0., 0., 0., 0., 0., 0., 1., 1., 1.]),\n",
       "       array([2., 2., 2., 2., 2., 2., 2., 2., 2., 2., 0., 0., 0., 0., 0., 0., 0.,\n",
       "       0., 0., 1., 1., 1.]),\n",
       "       array([1., 1., 1., 1., 1., 1., 1., 2., 2., 2., 2., 2., 2., 2., 2., 0., 0.,\n",
       "       0., 0., 0., 0., 0., 0., 0., 0., 0., 0., 1.]),\n",
       "       array([1., 1., 1., 2., 2., 2., 2., 2., 2., 2., 0., 0., 0., 0., 0., 0., 0.,\n",
       "       0., 0., 1., 1., 0.]),\n",
       "       array([1., 1., 1., 2., 2., 2., 2., 2., 2., 2., 0., 0., 0., 0., 0., 0., 0.,\n",
       "       0., 0., 0., 1.]),\n",
       "       array([1., 1., 2., 2., 2., 2., 2., 2., 2., 2., 2., 0., 0., 0., 0., 0., 0.,\n",
       "       0., 0., 0., 0., 0.]),\n",
       "       array([1., 1., 1., 1., 2., 2., 2., 2., 2., 2., 0., 0., 0., 0., 0., 0., 0.,\n",
       "       0., 0., 0., 1., 1., 1.]),\n",
       "       array([1., 1., 2., 2., 2., 2., 2., 2., 2., 2., 0., 0., 0., 0., 0., 0., 0.,\n",
       "       0., 0., 0., 1., 1., 1.]),\n",
       "       array([1., 1., 1., 1., 1., 2., 2., 2., 2., 2., 2., 2., 0., 0., 0., 0., 0.,\n",
       "       0., 0., 0., 0., 0., 0., 0., 0., 1., 1., 1., 1., 1., 1., 1., 1., 1.]),\n",
       "       array([2., 2., 2., 2., 2., 2., 2., 0., 0., 0., 0., 0., 0., 0., 0., 0., 0.,\n",
       "       2., 2., 2., 2., 1., 1., 1.]),\n",
       "       array([2., 2., 2., 2., 2., 2., 0., 0., 0., 0., 0., 0., 0., 0., 0., 0., 2.,\n",
       "       2., 2., 2., 2., 1., 1., 1., 1.]),\n",
       "       array([2., 2., 2., 2., 2., 2., 2., 0., 0., 0., 0., 0., 0., 0., 0., 0., 0.,\n",
       "       2., 2., 2., 2., 2., 1., 1., 1.]),\n",
       "       array([2., 2., 2., 2., 2., 2., 2., 0., 0., 0., 0., 0., 0., 0., 0., 0., 0.,\n",
       "       2., 2., 2., 2., 1., 1., 1.]),\n",
       "       array([2., 2., 2., 2., 2., 2., 0., 0., 0., 0., 0., 0., 0., 0., 0., 2., 2.,\n",
       "       2., 2., 2., 1., 1., 1., 1.]),\n",
       "       array([2., 2., 2., 2., 2., 2., 2., 0., 0., 0., 0., 0., 0., 0., 0., 0., 0.,\n",
       "       0., 2., 2., 2., 2., 2., 1., 1.]),\n",
       "       array([2., 2., 2., 2., 2., 2., 2., 0., 0., 0., 0., 0., 0., 0., 0., 0., 0.,\n",
       "       2., 2., 2., 2., 1., 1., 1.]),\n",
       "       array([2., 2., 2., 2., 2., 0., 0., 0., 0., 0., 0., 0., 0., 0., 0., 2., 2.,\n",
       "       2., 2., 1., 1., 1.]),\n",
       "       array([2., 2., 2., 2., 2., 2., 2., 0., 0., 0., 0., 0., 0., 0., 0., 0., 0.,\n",
       "       2., 2., 2., 2., 2., 1., 1., 1.]),\n",
       "       array([2., 2., 2., 2., 2., 2., 2., 2., 0., 0., 0., 0., 0., 0., 0., 0., 0.,\n",
       "       0., 2., 2., 2., 2., 2., 2., 1., 1.]),\n",
       "       array([0., 1., 1., 1., 2., 2., 2., 0., 0., 2., 2., 2., 2., 2., 2., 2., 2.]),\n",
       "       array([1., 1., 1., 2., 2., 0., 0., 0., 2., 2., 2., 2., 2., 2., 2.]),\n",
       "       array([1., 1., 1., 2., 2., 2., 0., 0., 0., 0., 2., 2., 2., 2., 2., 2., 2.,\n",
       "       2.]),\n",
       "       array([1., 1., 1., 2., 2., 2., 0., 0., 0., 1., 2., 2., 2., 2., 2., 2., 2.,\n",
       "       2.]),\n",
       "       array([1., 1., 1., 2., 2., 0., 0., 2., 2., 2., 2., 2., 2., 2., 2., 2.]),\n",
       "       array([1., 1., 1., 2., 2., 0., 0., 0., 0., 2., 2., 2., 2., 2., 2., 2., 2.]),\n",
       "       array([1., 1., 1., 2., 2., 0., 0., 0., 2., 2., 2., 2., 2., 2., 2., 2., 2.]),\n",
       "       array([1., 1., 1., 1., 2., 2., 2., 0., 0., 0., 1., 2., 2., 2., 2., 2., 2.,\n",
       "       2., 2.]),\n",
       "       array([1., 1., 1., 1., 2., 2., 0., 0., 0., 2., 2., 2., 2., 2., 2., 2., 2.]),\n",
       "       array([0., 1., 1., 1., 2., 2., 2., 0., 0., 2., 2., 2., 2., 2., 2., 2., 2.]),\n",
       "       array([2., 2., 2., 2., 2., 2., 0., 0., 0., 0., 0., 0., 0., 0., 0., 0., 2.,\n",
       "       2., 0., 0., 0.]),\n",
       "       array([2., 2., 2., 2., 2., 2., 2., 0., 0., 0., 0., 0., 0., 0., 0., 0., 0.,\n",
       "       0., 0., 0., 0., 0., 0., 0.]),\n",
       "       array([2., 2., 2., 2., 2., 2., 0., 0., 0., 0., 0., 0., 0., 0., 0., 0., 0.,\n",
       "       0., 0.]),\n",
       "       array([2., 2., 2., 2., 2., 2., 2., 2., 2., 0., 0., 0., 0., 0., 0., 0., 0.,\n",
       "       0., 0., 0., 0., 0., 2., 2., 2., 2., 2.]),\n",
       "       array([2., 2., 2., 2., 2., 2., 2., 0., 0., 0., 0., 0., 0., 0., 0., 0., 0.,\n",
       "       0., 0., 0., 0.]),\n",
       "       array([2., 2., 2., 2., 2., 2., 2., 2., 0., 0., 0., 0., 0., 1., 1., 0., 0.,\n",
       "       0., 0., 0., 0., 0., 0., 0.]),\n",
       "       array([2., 2., 2., 2., 2., 2., 2., 2., 2., 0., 0., 0., 0., 0., 0., 0., 0.,\n",
       "       0., 0., 0., 0., 0., 0., 0.]),\n",
       "       array([2., 2., 2., 2., 2., 2., 2., 2., 2., 1., 1., 0., 0., 0., 0., 0., 0.,\n",
       "       0., 0., 0., 0., 0., 0., 0.]),\n",
       "       array([2., 2., 2., 2., 2., 2., 2., 2., 2., 0., 0., 0., 0., 0., 0., 0., 0.,\n",
       "       0., 0., 0., 0.]),\n",
       "       array([2., 2., 2., 2., 2., 2., 2., 0., 0., 0., 0., 0., 0., 0., 0., 0., 0.,\n",
       "       0., 0., 0., 0.]),\n",
       "       array([1., 1., 1., 1., 2., 2., 2., 2., 2., 2., 2., 2., 1., 1., 1.]),\n",
       "       array([1., 1., 1., 1., 1., 2., 2., 2., 2., 2., 2., 2., 2., 2., 2., 1., 1.,\n",
       "       1.]),\n",
       "       array([1., 1., 1., 2., 2., 2., 2., 2., 2., 2., 1., 1., 1.]),\n",
       "       array([2., 1., 1., 1., 1., 2., 2., 2., 0., 2., 2., 2., 2., 2., 1., 1., 1.]),\n",
       "       array([1., 1., 2., 2., 2., 2., 2., 2., 2., 2., 1., 1., 1.]),\n",
       "       array([1., 1., 1., 1., 2., 2., 2., 2., 2., 0., 0., 2., 2., 2., 2., 1., 1.,\n",
       "       1.]),\n",
       "       array([1., 1., 1., 1., 1., 2., 2., 2., 2., 2., 2., 2., 2., 1., 1., 1., 1.]),\n",
       "       array([1., 1., 1., 1., 1., 2., 2., 2., 2., 2., 2., 2., 2., 1., 1.]),\n",
       "       array([1., 1., 1., 1., 1., 1., 2., 2., 2., 2., 2., 2., 2., 2., 2., 2., 2.,\n",
       "       1., 1., 1., 1., 1.]),\n",
       "       array([1., 1., 1., 1., 1., 2., 2., 0., 0., 0., 2., 2., 2., 2., 2., 1., 1.,\n",
       "       1., 1., 1., 1.]),\n",
       "       array([2., 2., 2., 2., 2.]), array([2., 2., 2., 2., 2.]),\n",
       "       array([2., 2., 2., 2., 2., 2., 2.]),\n",
       "       array([2., 2., 2., 2., 2., 2.]),\n",
       "       array([2., 2., 2., 2., 2., 2., 2.]),\n",
       "       array([2., 2., 2., 2., 2., 2., 2.]), array([2., 2., 2., 2., 2.]),\n",
       "       array([2., 2., 2., 2., 2., 2.]), array([2., 2., 2., 2., 2., 2.]),\n",
       "       array([2., 2., 2., 2., 2., 2.]),\n",
       "       array([2., 2., 2., 2., 2., 2., 2., 2., 2., 2., 2., 2., 0., 0., 0., 0., 0.,\n",
       "       0., 0., 0.]),\n",
       "       array([2., 2., 2., 2., 2., 2., 2., 2., 2., 0., 0., 0., 0., 0., 0., 0., 0.,\n",
       "       0., 0., 0.]),\n",
       "       array([2., 2., 2., 2., 2., 2., 2., 2., 2., 2., 2., 0., 0., 0., 0., 0., 0.,\n",
       "       0., 0.]),\n",
       "       array([2., 2., 2., 2., 2., 2., 2., 2., 2., 2., 2., 0., 0., 0., 0., 0., 0.,\n",
       "       0., 0., 0., 0., 0.]),\n",
       "       array([2., 2., 2., 2., 2., 2., 2., 2., 2., 2., 2., 0., 0., 0., 0., 0., 0.,\n",
       "       0., 0., 0., 0., 0., 0.]),\n",
       "       array([2., 2., 2., 2., 2., 2., 2., 2., 2., 2., 0., 0., 0., 0., 0., 0., 0.,\n",
       "       0., 0., 0.]),\n",
       "       array([2., 2., 2., 2., 2., 2., 2., 2., 2., 2., 0., 0., 0., 0., 0., 0., 0.,\n",
       "       0., 0., 0.]),\n",
       "       array([2., 2., 2., 2., 2., 2., 2., 2., 2., 0., 0., 0., 0., 0., 0., 0., 0.]),\n",
       "       array([2., 2., 2., 2., 2., 2., 2., 2., 0., 0., 0., 0., 0., 0., 0., 0., 0.,\n",
       "       0., 0., 0.]),\n",
       "       array([2., 2., 2., 2., 2., 2., 2., 0., 0., 0., 0., 0., 0., 0., 0., 0., 0.,\n",
       "       0., 0.]),\n",
       "       array([2., 2., 2., 2., 2., 2., 2., 2., 0., 0., 0., 0., 0., 0., 0., 0., 0.,\n",
       "       0.]),\n",
       "       array([2., 2., 2., 2., 2., 2., 2., 0., 0., 0., 0., 0., 0., 0., 0., 0., 0.]),\n",
       "       array([2., 2., 2., 2., 2., 2., 2., 0., 0., 0., 0., 0., 0., 0., 0., 0., 0.]),\n",
       "       array([2., 2., 2., 2., 2., 2., 2., 2., 0., 0., 0., 0., 0., 0., 0., 0., 0.,\n",
       "       0., 0.]),\n",
       "       array([2., 2., 2., 2., 2., 2., 2., 2., 0., 0., 0., 0., 0., 0., 0., 0., 0.,\n",
       "       0.]),\n",
       "       array([2., 2., 2., 2., 2., 2., 2., 2., 2., 0., 0., 0., 0., 0., 0., 0., 0.,\n",
       "       0., 0., 0.]),\n",
       "       array([2., 2., 2., 2., 2., 2., 2., 0., 0., 0., 0., 0., 0., 0., 0., 0., 0.,\n",
       "       0.]),\n",
       "       array([2., 2., 2., 2., 2., 2., 2., 0., 0., 0., 0., 0., 0., 0., 0., 0., 0.]),\n",
       "       array([2., 2., 2., 2., 2., 2., 2., 2., 0., 0., 0., 0., 0., 0., 0., 0., 0.,\n",
       "       0.]),\n",
       "       array([2., 2., 2., 2., 2., 2., 2., 0., 0., 0., 0., 0., 0., 0., 0., 0., 0.]),\n",
       "       array([2., 2., 2., 2., 2., 2., 2., 2., 2., 0., 0., 0., 0., 0., 0., 0., 0.,\n",
       "       2., 2., 2., 2., 2., 2., 0., 0., 0., 0., 0., 0., 0., 0.]),\n",
       "       array([2., 2., 2., 2., 2., 2., 2., 2., 0., 0., 0., 0., 0., 0., 0., 0., 0.,\n",
       "       2., 2., 2., 2., 2., 2., 2., 2., 0., 0., 0., 0., 0., 0., 0., 0., 0.,\n",
       "       0., 0.]),\n",
       "       array([2., 2., 2., 2., 2., 2., 2., 2., 0., 0., 0., 0., 0., 0., 0., 0., 0.,\n",
       "       2., 2., 2., 2., 2., 2., 2., 2., 2., 0., 0., 0., 0., 0., 0., 0., 0.,\n",
       "       0., 0., 0.]),\n",
       "       array([2., 2., 2., 2., 2., 2., 2., 2., 2., 0., 0., 0., 0., 0., 0., 0., 0.,\n",
       "       0., 2., 2., 2., 2., 2., 2., 2., 2., 0., 0., 0., 0.]),\n",
       "       array([2., 2., 2., 2., 2., 2., 2., 2., 0., 0., 0., 0., 0., 0., 0., 0., 2.,\n",
       "       2., 2., 2., 2., 2., 2., 2., 0., 0., 0., 0., 0., 0., 0., 0., 0., 0.,\n",
       "       0.]),\n",
       "       array([2., 2., 2., 2., 2., 2., 2., 2., 2., 0., 0., 0., 0., 0., 0., 0., 0.,\n",
       "       0., 0., 2., 2., 2., 2., 2., 2., 2., 2., 0., 0., 0., 0., 0., 0., 0.]),\n",
       "       array([2., 2., 2., 2., 2., 2., 2., 2., 2., 0., 0., 0., 0., 0., 0., 0., 0.,\n",
       "       0., 2., 2., 2., 2., 2., 2., 2., 0., 0., 0., 0., 0., 0., 0., 0.]),\n",
       "       array([2., 2., 2., 2., 2., 2., 2., 2., 2., 0., 0., 0., 0., 0., 0., 0., 0.,\n",
       "       0., 0., 0., 2., 2., 2., 2., 2., 2., 2., 2., 2., 0., 0., 0., 0., 0.,\n",
       "       0., 0., 0., 0.]),\n",
       "       array([2., 2., 2., 2., 2., 2., 2., 2., 2., 0., 0., 0., 0., 0., 0., 0., 0.,\n",
       "       0., 0., 2., 2., 2., 2., 2., 2., 2., 2., 2., 0., 0., 0., 0., 0., 0.,\n",
       "       0., 0., 0., 0.]),\n",
       "       array([2., 2., 2., 2., 2., 2., 2., 2., 2., 0., 0., 0., 0., 0., 0., 0., 2.,\n",
       "       2., 2., 2., 2., 2., 2., 2., 2., 0., 0., 0., 0., 0., 0., 0., 0., 0.,\n",
       "       0.]),\n",
       "       array([2., 2., 2., 2., 2., 2., 2., 2., 2.]),\n",
       "       array([2., 2., 2., 2., 2., 2., 2., 2., 2., 2., 2.]),\n",
       "       array([2., 2., 2., 2., 2., 2.]),\n",
       "       array([2., 2., 2., 2., 2., 2., 2., 2., 2.]),\n",
       "       array([2., 2., 2., 2., 2., 2., 2.]),\n",
       "       array([2., 2., 2., 2., 2., 2., 2., 2.]),\n",
       "       array([2., 2., 2., 2., 2., 2., 2., 2., 2., 2.]),\n",
       "       array([2., 2., 2., 2., 2., 2., 2., 2., 2.]),\n",
       "       array([2., 2., 2., 2., 2., 2., 2., 2., 2., 2., 2.]),\n",
       "       array([2., 2., 2., 2., 2., 2.]),\n",
       "       array([2., 0., 0., 0., 2., 2., 2., 2., 2., 2., 2., 2., 2., 2.]),\n",
       "       array([2., 2., 2., 2., 2., 0., 0., 0., 0., 2., 2., 2., 2., 2., 2., 2., 2.,\n",
       "       2.]),\n",
       "       array([2., 2., 2., 2., 0., 0., 0., 2., 2., 2., 2., 2., 2., 2., 2., 2.]),\n",
       "       array([2., 2., 2., 2., 0., 0., 0., 0., 1., 2., 2., 2., 2., 2., 2., 2., 2.,\n",
       "       2.]),\n",
       "       array([2., 2., 2., 0., 0., 2., 2., 2., 2., 2., 2., 2., 2., 2.]),\n",
       "       array([2., 2., 2., 0., 0., 2., 2., 2., 2., 2., 2., 2., 2.]),\n",
       "       array([2., 2., 0., 0., 0., 2., 2., 2., 2., 2., 2., 2., 2., 2.]),\n",
       "       array([2., 2., 2., 0., 0., 0., 2., 2., 2., 2., 2., 2., 2., 2.]),\n",
       "       array([2., 2., 2., 0., 0., 0., 2., 2., 2., 2., 2., 2., 2., 2., 2.]),\n",
       "       array([2., 2., 2., 0., 0., 0., 2., 2., 2., 2., 2., 2., 2., 2., 2., 2.]),\n",
       "       array([0., 0., 0., 0., 0., 0., 0., 0., 2., 1., 1., 1., 1., 1., 1., 1., 1.,\n",
       "       1., 2., 2., 0., 0., 0., 0., 0., 0., 0., 0.]),\n",
       "       array([0., 0., 0., 0., 0., 0., 2., 2., 2., 2., 2., 1., 2., 2., 2., 2., 2.,\n",
       "       0., 0., 0., 0., 0., 0., 0.]),\n",
       "       array([0., 0., 0., 0., 0., 2., 2., 2., 2., 1., 1., 1., 1., 2., 2., 2., 2.,\n",
       "       2., 2., 0., 0., 0., 0., 0., 0., 0.]),\n",
       "       array([0., 0., 0., 0., 0., 0., 0., 2., 2., 2., 1., 1., 1., 1., 1., 1., 1.,\n",
       "       1., 2., 2., 0., 0., 0., 0., 0., 0.]),\n",
       "       array([0., 0., 2., 2., 0., 0., 0., 2., 1., 1., 2., 2., 1., 1., 2., 2., 2.,\n",
       "       2., 2., 0., 0., 0., 0.]),\n",
       "       array([0., 0., 0., 0., 0., 0., 0., 2., 2., 2., 2., 1., 1., 1., 1., 1., 1.,\n",
       "       1., 2., 2., 2., 0., 0., 0., 0., 0., 0., 0.]),\n",
       "       array([0., 0., 0., 0., 0., 0., 0., 2., 2., 2., 2., 2., 1., 1., 1., 1., 2.,\n",
       "       2., 2., 2., 0., 0., 0., 2., 0., 0.]),\n",
       "       array([0., 0., 0., 0., 0., 0., 2., 2., 1., 2., 1., 1., 1., 1., 1., 2., 2.,\n",
       "       2., 2., 0., 0., 0., 0., 0., 0., 0., 0., 0.]),\n",
       "       array([0., 0., 0., 0., 0., 0., 2., 2., 2., 1., 1., 1., 1., 1., 1., 2., 2.,\n",
       "       2., 2., 2., 0., 0., 0., 0., 0.]),\n",
       "       array([0., 0., 0., 2., 2., 2., 2., 2., 2., 2., 1., 2., 1., 1., 1., 1., 1.,\n",
       "       2., 2., 2., 0., 0., 0., 0., 0., 2., 2.])], dtype=object)"
      ]
     },
     "execution_count": 64,
     "metadata": {},
     "output_type": "execute_result"
    }
   ],
   "source": [
    "def discretise(x, d):\n",
    "    liste=[]\n",
    "    for liste2 in x:\n",
    "        intervalle=360/d\n",
    "        liste.append(np.floor(liste2/intervalle))\n",
    "    liste=np.array(liste)\n",
    "    return liste\n",
    "discretise(X,3)"
   ]
  },
  {
   "cell_type": "markdown",
   "metadata": {},
   "source": [
    "**VALIDATION :** code du premier signal avec une discrétisation sur 3 états:\n",
    "```python\n",
    "array([ 0.,  2.,  2.,  2.,  2.,  2.,  2.,  2.,  1.,  1.,  1.,  1., 1., 1., 2., 2.,  2.,\n",
    "       2.,  0.,  0.,  0.,  0.,  0.])\n",
    "```"
   ]
  },
  {
   "cell_type": "markdown",
   "metadata": {},
   "source": [
    "### 2. Regrouper les indices des signaux par classe (pour faciliter l'apprentissage)"
   ]
  },
  {
   "cell_type": "code",
   "execution_count": 65,
   "metadata": {},
   "outputs": [],
   "source": [
    "def groupByLabel(y):\n",
    "    index = []\n",
    "    for i in np.unique(y): # pour toutes les classes\n",
    "        ind, = np.where(y == i)\n",
    "        index.append(ind)\n",
    "    return index"
   ]
  },
  {
   "cell_type": "markdown",
   "metadata": {},
   "source": [
    "Cette méthode produit simplement une structure type:\n",
    "```python\n",
    "[array([ 0,  1,  2,  3,  4,  5,  6,  7,  8,  9, 10]),\n",
    " array([11, 12, 13, 14, 15, 16, 17, 18, 19, 20, 21]),\n",
    " array([22, 23, 24, 25, 26, 27, 28, 29, 30, 31, 32]),\n",
    " array([33, 34, 35, 36, 37, 38, 39, 40, 41, 42, 43]),\n",
    " array([44, 45, 46, 47, 48, 49, 50, 51, 52, 53, 54]),\n",
    " array([55, 56, 57, 58, 59, 60, 61, 62, 63, 64, 65]),\n",
    " ...\n",
    "```\n",
    "Chaque ligne regroupe les indices de signaux correspondant à une classe "
   ]
  },
  {
   "cell_type": "markdown",
   "metadata": {},
   "source": [
    "### 3. Apprendre les modèles CM\n",
    "\n",
    "Soit {$X_C$} la base de signaux discrétisés correspondant à une classe {$C$} et {$d$} le nombre d'états. Donner le code de la fonction `learnMarkovModel(Xc, d)` qui retourne un tuple contenant Pi et A.\n",
    "\n",
    "Rappel:\n",
    "- Initialisation de \n",
    "```python\n",
    " A = np.zeros((d, d))\n",
    " Pi = np.zeros(d)```\n",
    "- Parcours de tous les signaux et incréments de A et Pi\n",
    "- Normalisation (un peu réfléchie pour éviter les divisions par 0)\n",
    "```python\n",
    "A = A / np.maximum(A.sum(1).reshape(d, 1), 1) # normalisation\n",
    "Pi = Pi / Pi.sum()```\n",
    "\n",
    "**Note** : la solution proposée pour gérer le cas des lignes entièrement à 0 est naïve et n'est pas totalement satisfaisante. Comprendre pourquoi. On proposera une solution améliorée plus loin dans le TME. "
   ]
  },
  {
   "cell_type": "code",
   "execution_count": 66,
   "metadata": {},
   "outputs": [
    {
     "data": {
      "text/plain": [
       "(array([0.36363636, 0.        , 0.63636364]),\n",
       " array([[0.84444444, 0.06666667, 0.08888889],\n",
       "        [0.        , 0.83333333, 0.16666667],\n",
       "        [0.11382114, 0.06504065, 0.82113821]]))"
      ]
     },
     "execution_count": 66,
     "metadata": {},
     "output_type": "execute_result"
    }
   ],
   "source": [
    "def learnMarkovModel(Xc, d):\n",
    "    A=np.zeros((d,d))\n",
    "    Pi=np.zeros(d)\n",
    "    for i in range(len(Xc)):\n",
    "        liste=Xc[i]\n",
    "        Pi[int(liste[0])]+=1\n",
    "        for j in range(len(liste)):\n",
    "            if (j!=0):\n",
    "                Ai=int(liste[j-1])\n",
    "                Aj=int(liste[j])\n",
    "                A[Ai][Aj]+=1        \n",
    "    Pi = Pi / Pi.sum()\n",
    "    A = A / np.maximum(A.sum(1).reshape(d, 1), 1)\n",
    "    return Pi, A\n",
    "\n",
    "index = groupByLabel(Y)\n",
    "Xc=discretise(X[index[0]],3)\n",
    "\n",
    "learnMarkovModel(Xc, 3)"
   ]
  },
  {
   "cell_type": "markdown",
   "metadata": {},
   "source": [
    "**Validation :** premier modèle avec une discrétisation sur 3 états :\n",
    "```python\n",
    "(array([ 0.36363636,  0.        ,  0.63636364]),\n",
    " array([[ 0.84444444,  0.06666667,  0.08888889],\n",
    "       [ 0.        ,  0.83333333,  0.16666667],\n",
    "       [ 0.11382114,  0.06504065,  0.82113821]]))\n",
    "```"
   ]
  },
  {
   "cell_type": "markdown",
   "metadata": {},
   "source": [
    "### 4. Stocker les modèles dans une liste\n",
    "\n",
    "Pour un usage ultérieur plus facile, on utilise le code suivant :"
   ]
  },
  {
   "cell_type": "code",
   "execution_count": 67,
   "metadata": {},
   "outputs": [],
   "source": [
    "d = 3         # paramètre de discrétisation\n",
    "Xd = discretise(X, d)    # application de la discrétisation\n",
    "index = groupByLabel(Y)  # groupement des signaux par classe\n",
    "models = []\n",
    "for cl in range(len(np.unique(Y))): # parcours de toutes les classes et optimisation des modèles\n",
    "    models.append(learnMarkovModel(Xd[index[cl]], d))\n",
    "#models"
   ]
  },
  {
   "cell_type": "markdown",
   "metadata": {},
   "source": [
    "##  Test (affectation dans les classes sur critère MV)\n",
    "### 1. (log)Probabilité d'une séquence dans un modèle\n",
    "\n",
    "Donner le code de la méthode `probaSequence(s,Pi,A)` qui retourne la log-probabilité d'une séquence `s` dans le modèle {$\\lambda=\\{Pi,A\\}$} "
   ]
  },
  {
   "cell_type": "code",
   "execution_count": 68,
   "metadata": {},
   "outputs": [
    {
     "name": "stdout",
     "output_type": "stream",
     "text": [
      "[-13.491086           -inf         -inf         -inf         -inf\n",
      "         -inf         -inf         -inf         -inf         -inf\n",
      "         -inf         -inf         -inf         -inf         -inf\n",
      "         -inf         -inf         -inf         -inf         -inf\n",
      "         -inf         -inf         -inf         -inf         -inf\n",
      " -12.48285678]\n"
     ]
    },
    {
     "name": "stderr",
     "output_type": "stream",
     "text": [
      "/usr/local/lib/python3.5/dist-packages/ipykernel_launcher.py:2: RuntimeWarning: divide by zero encountered in log\n",
      "  \n",
      "/usr/local/lib/python3.5/dist-packages/ipykernel_launcher.py:4: RuntimeWarning: divide by zero encountered in log\n",
      "  after removing the cwd from sys.path.\n"
     ]
    }
   ],
   "source": [
    "def probaSequence(s, Pi, A):\n",
    "    proba=np.log(Pi[int(s[0])])\n",
    "    for i in range(1,len(s)):\n",
    "        proba+=np.log(A[int(s[i-1])][int(s[i])])\n",
    "        \n",
    "        \n",
    "    # Votre code\n",
    "    \n",
    "    return (proba)\n",
    "\n",
    "liste=[]\n",
    "for i in models:\n",
    "    liste.append(probaSequence(Xd[0],i[0],i[1]))\n",
    "liste=np.array(liste)\n",
    "print(liste)\n",
    "\n",
    "#on sait que X[0] correspond au tracé de \"a\". Ici, les deux résultats possibles sont \"a\" ou \"z\" ce qui signifie\n",
    "#soit que les valeurs initiales d'angles n'existent que dans ces modèles.\n",
    "\n",
    "#soit que les doublets successifs de valeurs d'angles discrétisées n'existent que dans ces modèles\n",
    "#les doublets successifs dans les matrices de transitions des autres modèles sont égaux à 0\n",
    "\n",
    "# ( = les matrices de transitions de ces deux modèles sont similaires (mais pas similaires aux autres modèles) )\n",
    "\n",
    "#les -inf proviennent du fait que log(0) n'est pas défini"
   ]
  },
  {
   "cell_type": "markdown",
   "metadata": {},
   "source": [
    "**VALIDATION :** probabilité du premier signal dans les 26 modèles avec une discrétisation sur 3 états :\n",
    "```python\n",
    "array([-13.491086  ,         -inf,         -inf,         -inf,\n",
    "               -inf,         -inf,         -inf,         -inf,\n",
    "               -inf,         -inf,         -inf,         -inf,\n",
    "               -inf,         -inf,         -inf,         -inf,\n",
    "               -inf,         -inf,         -inf,         -inf,\n",
    "               -inf,         -inf,         -inf,         -inf,\n",
    "               -inf, -12.48285678])\n",
    "```\n",
    "\n",
    "- Ce signal est-il bien classé ?\n",
    "- D'où viennent tous les `-inf` ? "
   ]
  },
  {
   "cell_type": "markdown",
   "metadata": {},
   "source": [
    "### 2. Application de la méthode précédente pour tous les signaux et tous les modèles de lettres\n",
    "\n",
    "L'application se fait en une ligne de code si vous avez respecté les spécifications précédentes : "
   ]
  },
  {
   "cell_type": "code",
   "execution_count": 69,
   "metadata": {},
   "outputs": [
    {
     "name": "stderr",
     "output_type": "stream",
     "text": [
      "/usr/local/lib/python3.5/dist-packages/ipykernel_launcher.py:2: RuntimeWarning: divide by zero encountered in log\n",
      "  \n",
      "/usr/local/lib/python3.5/dist-packages/ipykernel_launcher.py:4: RuntimeWarning: divide by zero encountered in log\n",
      "  after removing the cwd from sys.path.\n"
     ]
    }
   ],
   "source": [
    "proba = np.array([[probaSequence(Xd[i], models[cl][0], models[cl][1]) for i in range(len(Xd))]\n",
    "                  for cl in range(len(np.unique(Y)))])"
   ]
  },
  {
   "cell_type": "markdown",
   "metadata": {},
   "source": [
    "### 3. Evaluation des performances\n",
    "\n",
    "Pour l'évaluation, nous proposons l'approche suivante: "
   ]
  },
  {
   "cell_type": "code",
   "execution_count": 70,
   "metadata": {},
   "outputs": [
    {
     "data": {
      "text/plain": [
       "0.6902985074626866"
      ]
     },
     "execution_count": 70,
     "metadata": {},
     "output_type": "execute_result"
    }
   ],
   "source": [
    "# calcul d'une version numérique des Y :\n",
    "Ynum = np.zeros(Y.shape)\n",
    "for num, char in enumerate(np.unique(Y)):\n",
    "    Ynum[Y == char] = num\n",
    "    \n",
    "# Calcul de la classe la plus probable :\n",
    "pred = proba.argmax(0) # max colonne par colonne\n",
    "# Calcul d'un pourcentage de bonne classification :\n",
    "np.where(pred != Ynum, 0.,1.).mean()"
   ]
  },
  {
   "cell_type": "markdown",
   "metadata": {},
   "source": [
    "**INDICE DE PERFORMANCE :** 91% de bonne classification avec 20 états, 69% avec 3 états"
   ]
  },
  {
   "cell_type": "markdown",
   "metadata": {},
   "source": [
    "## Biais d'évaluation, notion de sur-apprentissage\n",
    "\n",
    "Dans le protocole précédent, nous avons triché:\n",
    "- les données servent d'abord à apprendre les modèles...\n",
    "- puis nous nous servons des mêmes données pour tester les modèles ! Les performances sont forcément bonnes ! \n",
    "\n",
    "Afin de palier le problème, nous allons diviser en deux la base de données: une partie servira à l'apprentissage des modèles, l'autre à leur évaluation. Pour effectuer la division, nous fournissons le code suivant: "
   ]
  },
  {
   "cell_type": "code",
   "execution_count": 71,
   "metadata": {},
   "outputs": [],
   "source": [
    "# separation app/test, pc=ratio de points en apprentissage\n",
    "def separeTrainTest(y, pc):\n",
    "    indTrain = []\n",
    "    indTest = []\n",
    "    for i in np.unique(y): # pour toutes les classes\n",
    "        ind, = np.where(y == i)\n",
    "        n = len(ind)\n",
    "        indTrain.append(ind[np.random.permutation(n)][:int(np.floor(pc * n))])\n",
    "        indTest.append(np.setdiff1d(ind, indTrain[-1]))\n",
    "    return indTrain, indTest\n",
    "\n",
    "# exemple d'utilisation\n",
    "itrain, itest = separeTrainTest(Y, 0.8)"
   ]
  },
  {
   "cell_type": "markdown",
   "metadata": {},
   "source": [
    "dans `itrain`, nous obtenons les indices des signaux qui doivent servir en apprentissage pour chaque classe :"
   ]
  },
  {
   "cell_type": "code",
   "execution_count": 72,
   "metadata": {},
   "outputs": [
    {
     "data": {
      "text/plain": [
       "[array([ 6, 10,  0,  2,  3,  5,  1,  7]),\n",
       " array([18, 14, 16, 15, 12, 20, 11, 13]),\n",
       " array([26, 23, 28, 30, 31, 24, 27, 25]),\n",
       " array([41, 38, 42, 43, 36, 35, 40, 33]),\n",
       " array([47, 54, 46, 52, 50, 49, 48, 45]),\n",
       " array([59, 60, 58, 57, 55, 65, 63, 62]),\n",
       " array([71, 74, 68, 76, 75, 67, 66, 69]),\n",
       " array([81, 80, 79, 77, 85, 86, 87, 82]),\n",
       " array([90, 88, 93, 94, 97, 96, 95, 91]),\n",
       " array([100, 105, 101, 102,  98, 106, 107, 103]),\n",
       " array([112, 114, 113, 109, 110, 108, 117, 116]),\n",
       " array([123, 124, 121, 122, 127, 120, 125, 118]),\n",
       " array([130, 128, 132, 136, 133, 131, 137, 134]),\n",
       " array([141, 147, 145, 146, 142, 139, 140, 144]),\n",
       " array([156, 151, 148, 154, 153, 149, 150, 152]),\n",
       " array([160, 158, 164, 165, 161, 159, 166, 167]),\n",
       " array([175, 171, 177, 174, 170, 168, 169, 172]),\n",
       " array([182, 185, 184, 186, 179, 187, 180, 181]),\n",
       " array([194, 193, 196, 195, 188, 191, 189, 197]),\n",
       " array([204, 206, 202, 201, 198, 207, 200, 205]),\n",
       " array([210, 211, 208, 212, 214, 215, 213, 217]),\n",
       " array([221, 219, 227, 225, 224, 218, 226, 223]),\n",
       " array([232, 234, 228, 229, 235, 231, 236, 233]),\n",
       " array([242, 246, 243, 239, 240, 247, 238, 244]),\n",
       " array([252, 249, 254, 251, 248, 257, 253, 255]),\n",
       " array([264, 262, 266, 261, 259, 267, 258, 263])]"
      ]
     },
     "execution_count": 72,
     "metadata": {},
     "output_type": "execute_result"
    }
   ],
   "source": [
    "itrain\n"
   ]
  },
  {
   "cell_type": "markdown",
   "metadata": {},
   "source": [
    "**Note :** pour faciliter l'évaluation des modèles, vous aurez besoin de re-fusionner tous les indices d'apprentissage et de test. Cela se fait avec les lignes de code suivantes : "
   ]
  },
  {
   "cell_type": "code",
   "execution_count": 73,
   "metadata": {},
   "outputs": [],
   "source": [
    "ia = []\n",
    "for i in itrain:\n",
    "    ia += i.tolist()    \n",
    "it = []\n",
    "for i in itest:\n",
    "    it += i.tolist()\n",
    "    \n"
   ]
  },
  {
   "cell_type": "markdown",
   "metadata": {},
   "source": [
    "**Note 2 :** Du fait de la permutation aléatoire, les résultats vont bouger (un peu) à chaque execution du programme. "
   ]
  },
  {
   "cell_type": "markdown",
   "metadata": {},
   "source": [
    "## Questions importantes\n",
    "- Ré-utiliser les fonctions précédemment définies pour apprendre des modèles et les évaluer sans biais.\n",
    "- Calculer et analyser les résultats obtenus en apprentissage et en test\n",
    "- Etudier l'évolution des performances en fonction de la discrétisation"
   ]
  },
  {
   "cell_type": "code",
   "execution_count": 74,
   "metadata": {},
   "outputs": [
    {
     "name": "stdout",
     "output_type": "stream",
     "text": [
      "[ 0.  0.  0.  1.  1.  1.  2.  2.  2.  3.  3.  3.  4.  4.  4.  5.  5.  5.\n",
      "  6.  6.  6.  7.  7.  7.  8.  8.  9.  9. 10. 10. 11. 11. 12. 12. 13. 13.\n",
      " 14. 14. 15. 15. 16. 16. 17. 17. 18. 18. 19. 19. 20. 20. 21. 21. 22. 22.\n",
      " 23. 23. 24. 24. 25. 25.]\n"
     ]
    },
    {
     "name": "stderr",
     "output_type": "stream",
     "text": [
      "/usr/local/lib/python3.5/dist-packages/ipykernel_launcher.py:4: RuntimeWarning: divide by zero encountered in log\n",
      "  after removing the cwd from sys.path.\n",
      "/usr/local/lib/python3.5/dist-packages/ipykernel_launcher.py:2: RuntimeWarning: divide by zero encountered in log\n",
      "  \n"
     ]
    },
    {
     "data": {
      "text/plain": [
       "0.21666666666666667"
      ]
     },
     "execution_count": 74,
     "metadata": {},
     "output_type": "execute_result"
    }
   ],
   "source": [
    "# Votre code\n",
    "\n",
    "##  Apprentissage\n",
    "d = 20     # paramètre de discrétisation\n",
    "Xd = discretise(X[ia], d)    # application de la discrétisation\n",
    "index = groupByLabel(Y[ia])  # groupement des signaux par classe\n",
    "models2 = []\n",
    "for cl in range(len(np.unique(Y))): # parcours de toutes les classes et optimisation des modèles\n",
    "    models2.append(learnMarkovModel(Xd[index[cl]], d))\n",
    "#models2\n",
    "\n",
    "\n",
    "\n",
    "## test\n",
    "Xd2=discretise(X[it],d)\n",
    "proba = np.array([[probaSequence(Xd2[i], models2[cl][0], models2[cl][1]) for i in range(len(Xd2))]\n",
    "                  for cl in range(len(np.unique(Y)))])\n",
    "#print(proba)\n",
    "\n",
    "\n",
    "\n",
    "\n",
    "\n",
    "Ynum = np.zeros(Y[it].shape)\n",
    "for num, char in enumerate(np.unique(Y)):\n",
    "    Ynum[Y[it] == char] = num\n",
    "\n",
    "print(Ynum)\n",
    "# Calcul de la classe la plus probable :\n",
    "pred = proba.argmax(0) # max colonne par colonne\n",
    "# Calcul d'un pourcentage de bonne classification :\n",
    "np.where(pred != Ynum, 0.,1.).mean()"
   ]
  },
  {
   "cell_type": "markdown",
   "metadata": {},
   "source": [
    "## Lutter contre le sur-apprentissage\n",
    "Cette base de données met en lumière le phénomène de sur-apprentissage : il y a peu de données et dès que le nombre d'états augmente, il y a trop peu d'exemple pour estimer correctement les matrices {$A, \\pi$}. De nombreuses cases sont donc à 0, voire des lignes entières (d'où la sécurisation du code pour la normalisation des matrices stochastiques).\n",
    "\n",
    "Ces 0 sont particulièrement discriminants: considérant la classe {$c$}, ils permettent d'éliminer de cette classe tout signal présentant cette caractéristique. Cette règle est trop forte compte tenu de la taille de la base d'apprentissage. Nous proposons une astuce pour palier cette faiblesse : lors du comptage, initialiser les matrices {$A, \\pi$} avec ones au lieu de zeros . On fait semblant d'avoir observer une transition de chaque type avant même le début du comptage.\n",
    "\n",
    "Comparer les performances en test."
   ]
  },
  {
   "cell_type": "code",
   "execution_count": 112,
   "metadata": {},
   "outputs": [
    {
     "name": "stdout",
     "output_type": "stream",
     "text": [
      "[ 0.  0.  0.  1.  1.  1.  2.  2.  2.  3.  3.  3.  4.  4.  4.  5.  5.  5.\n",
      "  6.  6.  6.  7.  7.  7.  8.  8.  9.  9. 10. 10. 11. 11. 12. 12. 13. 13.\n",
      " 14. 14. 15. 15. 16. 16. 17. 17. 18. 18. 19. 19. 20. 20. 21. 21. 22. 22.\n",
      " 23. 23. 24. 24. 25. 25.]\n"
     ]
    },
    {
     "data": {
      "text/plain": [
       "0.6833333333333333"
      ]
     },
     "execution_count": 112,
     "metadata": {},
     "output_type": "execute_result"
    }
   ],
   "source": [
    "# Votre code\n",
    "def learnMarkovModel_ones(Xc, d):\n",
    "    A=np.ones((d,d))\n",
    "    Pi=np.ones(d)\n",
    "    for i in range(len(Xc)):\n",
    "        liste=Xc[i]\n",
    "        Pi[int(liste[0])]+=1\n",
    "        for j in range(len(liste)):\n",
    "            if (j!=0):\n",
    "                Ai=int(liste[j-1])\n",
    "                Aj=int(liste[j])\n",
    "                A[Ai][Aj]+=1        \n",
    "    Pi = Pi / Pi.sum()\n",
    "    A = A / np.maximum(A.sum(1).reshape(d, 1), 1)\n",
    "    return Pi, A\n",
    "##  Apprentissage\n",
    "d = 13 # paramètre de discrétisation\n",
    "Xd = discretise(X[ia], d)    # application de la discrétisation\n",
    "index = groupByLabel(Y[ia])  # groupement des signaux par classe\n",
    "models2 = []\n",
    "for cl in range(len(np.unique(Y))): # parcours de toutes les classes et optimisation des modèles\n",
    "    models2.append(learnMarkovModel_ones(Xd[index[cl]], d))\n",
    "#models2\n",
    "\n",
    "\n",
    "\n",
    "## test\n",
    "Xd2=discretise(X[it],d)\n",
    "proba = np.array([[probaSequence(Xd2[i], models2[cl][0], models2[cl][1]) for i in range(len(Xd2))]\n",
    "                  for cl in range(len(np.unique(Y)))])\n",
    "#print(proba)\n",
    "\n",
    "\n",
    "\n",
    "\n",
    "\n",
    "Ynum = np.zeros(Y[it].shape)\n",
    "for num, char in enumerate(np.unique(Y)):\n",
    "    Ynum[Y[it] == char] = num\n",
    "\n",
    "print(Ynum)\n",
    "# Calcul de la classe la plus probable :\n",
    "pred = proba.argmax(0) # max colonne par colonne\n",
    "# Calcul d'un pourcentage de bonne classification :\n",
    "np.where(pred != Ynum, 0.,1.).mean()"
   ]
  },
  {
   "cell_type": "markdown",
   "metadata": {},
   "source": [
    "# Partie optionnelle\n",
    "## Evaluation qualitative\n",
    "\n",
    "Nous nous demandons maintenant où se trouvent les erreurs que nous avons commises...\n",
    "\n",
    "Calcul de la matrice de confusion: pour chaque échantillon de test, nous avons une prédiction (issue du modèle) et une vérité terrain (la vraie étiquette). En posant Nc le nombre de classes, la matrice de confusion est une matrice (Nc x Nc) où nous comptons le nombre d'échantillon de test dans chaque catégorie :\n",
    "\n",
    "- Initialisation à 0 : "
   ]
  },
  {
   "cell_type": "code",
   "execution_count": 113,
   "metadata": {},
   "outputs": [],
   "source": [
    "conf = np.zeros((26,26))"
   ]
  },
  {
   "cell_type": "markdown",
   "metadata": {},
   "source": [
    "- Pour chaque échantillon, incrément de la case (prediction, vérité)"
   ]
  },
  {
   "cell_type": "code",
   "execution_count": 114,
   "metadata": {},
   "outputs": [],
   "source": [
    "for i in range(len(Ynum)):\n",
    "    conf[int(pred[i])][int(Ynum[i])]+=1\n",
    "    \n",
    "conf= conf / np.maximum(conf.sum(1).reshape(26, 1), 1)"
   ]
  },
  {
   "cell_type": "markdown",
   "metadata": {},
   "source": [
    "- Tracé de la matrice : "
   ]
  },
  {
   "cell_type": "code",
   "execution_count": 115,
   "metadata": {},
   "outputs": [
    {
     "data": {
      "image/png": "[encoded data removed]",
      "text/plain": [
       "<Figure size 432x288 with 2 Axes>"
      ]
     },
     "metadata": {
      "needs_background": "light"
     },
     "output_type": "display_data"
    }
   ],
   "source": [
    "plt.figure()\n",
    "plt.imshow(conf, interpolation = 'nearest')\n",
    "plt.colorbar()\n",
    "plt.xticks(np.arange(26), np.unique(Y))\n",
    "plt.yticks(np.arange(26), np.unique(Y))\n",
    "plt.xlabel(u'Vérité terrain')\n",
    "plt.ylabel(u'Prédiction')\n",
    "plt.savefig(\"mat_conf_lettres.png\")"
   ]
  },
  {
   "cell_type": "markdown",
   "metadata": {},
   "source": [
    "## Modèle génératif\n",
    "\n",
    "Utiliser les modèles appris pour générer de nouvelles lettres manuscrites.\n",
    "\n",
    "### Tirage selon une loi de probabilité discrète\n",
    "\n",
    "- faire la somme cumulée de la loi {$sc$}\n",
    "- tirer un nombre aléatoire {$t$} entre 0 et 1\n",
    "- trouver la première valeur de {$sc$} qui est supérieure à {$t$}\n",
    "- retourner cet état \n",
    "\n",
    "**Note :** comme vu en cours, tout repose sur la somme cumulée (notée ici `sc$`, calculable en appelant `np.cumsum`. Sur un exemple: la loi `V = [0.2, 0.4, 0.3, 0.1]` a pour somme cumulée `V.cumsum() == [0.2,  0.6,  0.9,  1.0]`\n",
    "\n",
    "### Génération d'une séquence de longueur N\n",
    "\n",
    "- tirer un état {$s_0$} selon Pi\n",
    "- tant que la longueur n'est pas atteinte :\n",
    "  - tirer un état {$s_{t+1}$} selon {$A[s_{t}]$} "
   ]
  },
  {
   "cell_type": "code",
   "execution_count": 118,
   "metadata": {},
   "outputs": [],
   "source": [
    "import random as rand\n",
    "# Votre code\n",
    "\n",
    "def generate(Loic,Adrien,dist):\n",
    "    a=rand.random()\n",
    "    Charline=0\n",
    "    Loicum=np.cumsum(Loic)\n",
    "    for i in range (len(Loicum)):\n",
    "        if a>Loicum[i]:\n",
    "            Charline=i+1\n",
    "    Antoine=[]\n",
    "    Antoine.append(Charline)\n",
    "    for i in range(1,dist):\n",
    "        a=rand.random()\n",
    "        Theo=Antoine[i-1]\n",
    "        Adrien_cum=np.cumsum(Adrien[Theo])\n",
    "        Charline=0\n",
    "        for j in range(len(Adrien_cum)):\n",
    "            if a>Adrien_cum[j]:\n",
    "                Charline=j+1\n",
    "        Antoine.append(Charline)\n",
    "    return Antoine\n",
    "\n",
    "#Pour les variables : \n",
    "# Loic est équivalent à Pi\n",
    "# Adrien est équivalent à A\n",
    "# Charline permet de récupérer un indice\n",
    "# Theo permet de récupérer une liste dans la matrice Adrien\n",
    "# Antoine est la liste d'angles\n",
    "# Utiliser des prénoms comme noms de variable n'est pas une bonne idée mais la question suivante ne marche pas donc bon"
   ]
  },
  {
   "cell_type": "markdown",
   "metadata": {},
   "source": [
    "### Affichage du résultat"
   ]
  },
  {
   "cell_type": "code",
   "execution_count": 134,
   "metadata": {
    "scrolled": true
   },
   "outputs": [
    {
     "name": "stdout",
     "output_type": "stream",
     "text": [
      "[12, 4, 6, 7, 7, 7, 8, 9, 9]\n",
      "[332.30769231 110.76923077 166.15384615 193.84615385 193.84615385\n",
      " 193.84615385 221.53846154 249.23076923 249.23076923]\n"
     ]
    },
    {
     "data": {
      "image/png": "[encoded data removed]",
      "text/plain": [
       "<Figure size 432x288 with 1 Axes>"
      ]
     },
     "metadata": {
      "needs_background": "light"
     },
     "output_type": "display_data"
    }
   ],
   "source": [
    "newa = generate(models2[0][0], models2[0][1], 9)\n",
    "# generation d'une séquence d'états\n",
    "intervalle = 360. / d                                 # pour passer des états => valeur d'angles\n",
    "newa_continu = np.array([i * intervalle for i in newa]) # conv int => double\n",
    "tracerLettre(newa_continu)\n"
   ]
  },
  {
   "cell_type": "code",
   "execution_count": null,
   "metadata": {},
   "outputs": [],
   "source": []
  },
  {
   "cell_type": "code",
   "execution_count": null,
   "metadata": {},
   "outputs": [],
   "source": []
  }
 ],
 "metadata": {
  "kernelspec": {
   "display_name": "Python 3",
   "language": "python",
   "name": "python3"
  },
  "language_info": {
   "codemirror_mode": {
    "name": "ipython",
    "version": 2
   },
   "file_extension": ".py",
   "mimetype": "text/x-python",
   "name": "python",
   "nbconvert_exporter": "python",
   "pygments_lexer": "ipython2",
   "version": "2.7.15+"
  }
 },
 "nbformat": 4,
 "nbformat_minor": 4
}
