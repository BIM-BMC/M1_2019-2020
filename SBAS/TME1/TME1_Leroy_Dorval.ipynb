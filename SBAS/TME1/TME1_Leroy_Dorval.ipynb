{
 "cells": [
  {
   "cell_type": "markdown",
   "metadata": {},
   "source": [
    "\n",
    "<h1><b>Statistique en Bioinformatique : </b> TME1 </h1>\n",
    "<br>\n",
    "L’objectif de ce TME est l’analyse statistique d’une famille de protéines à travers son alignement de séquences:\n",
    "<br>\n",
    "<ul>\n",
    "<li> objectif 1: détection des positions conservées, </li>\n",
    "<li> objectif 2: détection de séquences qui appartiennent à la même famille, </li>\n",
    "</ul>\n",
    "<vr>\n",
    "<div class=\"alert alert-warning\" role=\"alert\" style=\"margin: 10px\">\n",
    "<p>**Soumission**</p>\n",
    "<ul>\n",
    "<li>Renomer le fichier TME1.ipynb pour TME1_NomEtudiant1_NomEtudiant2.ipynb </li>\n",
    "<li>Soumettre à https://www.dropbox.com/request/ZylCDDpggbrN5toTiJKV </li>\n",
    "</ul>\n",
    "</div>"
   ]
  },
  {
   "cell_type": "markdown",
   "metadata": {},
   "source": [
    "Nom etudiant 1 : Dorval Loïc\n",
    "<br>\n",
    "Nom etudiant 2 : Leroy Adrien\n",
    "<br>"
   ]
  },
  {
   "cell_type": "markdown",
   "metadata": {},
   "source": [
    "<b>DONNÉES</b> <br>\n",
    "Il y a 2 fichiers avec les données telecharché à (<a href=\"http://www.lcqb.upmc.fr/julianab/teaching/SBAS/TME1.tar.gz\"> TME1 </a> ): <br>\n",
    "<ul>\n",
    "<li> Dtrain.txt: C’est un alignement de M = 5643 protéines d’une seule famille en format FASTA,\n",
    "<br>\n",
    "    Lignes qui commencent avec “>” contiennent des commentaires (nome de la protéine etc.). Elles n’ont aucune importance pour notre projet. Les autres lignes contiennent les séquences, que l’on va utiliser dans le projet. Les séquences sont alignées, elles ont toutes la même longueur (L = 48 positions dans notre fichier). Chaque position i = 0, ..., L − 1 d'une séquence contient ou une acide aminé (A,C,...,Y, il y en a 20) ou un trou (–), que l'on considère comme 21ème lettre. Ensemble elles forment l'alphabet: \n",
    "    A =  {A, C, D, E, F, G, H, I, K, L, M, N, P, Q, R, S, T, V, W, Y, -}, avec q = 21 lettres différentes.\n",
    "</li>\n",
    "    <br>\n",
    "<li> testseq.txt:  testseq.txt: Même format de Dtrain.txt, mais avec une seule séquence b = (b0 , ..., bN −1 ) plus longue (longueur N = 114 > L). On va scanner cette séquence pour trouver une sous-séquence qui appartient à la famille definie par Dtrain.txt. </li>\n",
    "</ul>"
   ]
  },
  {
   "cell_type": "markdown",
   "metadata": {},
   "source": [
    "Exercise 1: Pour chaque position du alignement i = 0, ..., L − 1 et chaque acide aminée a ∈ A (le trou compris), calculer le nombre d’occurence ni(a) et le poid ωi(a), òu : <br>\n",
    "\\begin{equation*}\n",
    "\\label{eq1}\n",
    "n_{i}(a) = \\textrm{nombre d’occurences d’acide aminée a en position (colonne) i}.\n",
    "\\end{equation*}\n",
    "\n",
    "<br>\n",
    "\\begin{equation*}\n",
    "\\omega_i(a) = \\frac{n_i(a)+1}{M+q}\\ .\n",
    "\\end{equation*}"
   ]
  },
  {
   "cell_type": "code",
   "execution_count": 1,
   "metadata": {},
   "outputs": [],
   "source": [
    "mat_td=[\n",
    "    ['A','C','C','T','G'],\n",
    "    ['A','C','T','C','G'],\n",
    "    ['A','C','C','T','-'],\n",
    "    ['A','C','T','-','C'],\n",
    "    ['A','A','C','T','C'],\n",
    "    ['A','C','G','C','G'],\n",
    "    ['C','C','A','T','C'],\n",
    "    ['A','-','T','T','G'],\n",
    "    ['A','A','C','T','G'],\n",
    "    ['C','A','A','C','G']]"
   ]
  },
  {
   "cell_type": "code",
   "execution_count": 2,
   "metadata": {},
   "outputs": [],
   "source": [
    "import sys\n",
    "import numpy as np\n",
    "aa_PROT = ['A', 'C', 'D', 'E', 'F', 'G', 'H', 'I', 'K', 'L', 'M', 'N', 'P', 'Q', 'R', 'S', 'T', 'V', 'W', 'Y', '-']\n",
    "q = 21\n",
    "#aa = ['A', 'B', 'C', '-']\n",
    "#q = 4\n",
    "aa_ADN = ['A', 'G', 'C', 'T', '-']\n",
    "#q = 5"
   ]
  },
  {
   "cell_type": "code",
   "execution_count": 3,
   "metadata": {},
   "outputs": [],
   "source": [
    "#load path Files\n",
    "input_dataset_f = 'Dtrain.txt'\n",
    "input_sequence_f = 'test_seq.txt'\n",
    "#input_dataset_f = 'DtrainToy.txt'\n",
    "#input_sequence_f = 'test_seqToy.txt'\n",
    "#input_dataset_f = 'DtrainToyTD.txt'"
   ]
  },
  {
   "cell_type": "code",
   "execution_count": 4,
   "metadata": {},
   "outputs": [],
   "source": [
    "#load DTrain File\n",
    "def readfasta(fichier):\n",
    "    Liste_esp=[]\n",
    "    Liste_seq=[]\n",
    "    flux=open(fichier,'r')\n",
    "    ligne=flux.readline()\n",
    "    while ligne!='':\n",
    "        ligne=ligne[0:-1]\n",
    "        if ligne[0]=='>':\n",
    "            Liste_esp.append(ligne)\n",
    "        else:\n",
    "            \n",
    "            Liste_seq.append(ligne)\n",
    "        ligne=flux.readline()\n",
    "    return(Liste_esp,Liste_seq)\n",
    "    \n",
    "Especes,Sequences=readfasta(input_dataset_f)"
   ]
  },
  {
   "cell_type": "code",
   "execution_count": 5,
   "metadata": {},
   "outputs": [
    {
     "name": "stdout",
     "output_type": "stream",
     "text": [
      "matrice wi ADN :\n",
      " [[0.6        0.26666667 0.2        0.06666667 0.06666667]\n",
      " [0.06666667 0.06666667 0.13333333 0.06666667 0.46666667]\n",
      " [0.2        0.46666667 0.33333333 0.26666667 0.26666667]\n",
      " [0.06666667 0.06666667 0.26666667 0.46666667 0.06666667]\n",
      " [0.06666667 0.13333333 0.06666667 0.13333333 0.13333333]]\n",
      "\n",
      " matrice wi protéine :\n",
      " [[1.76553672e-04 7.25282486e-01 1.02401130e-02 ... 3.42514124e-02\n",
      "  1.76553672e-04 2.38170904e-01]\n",
      " [1.76553672e-04 1.76553672e-04 1.94209040e-03 ... 7.59180791e-03\n",
      "  1.76553672e-04 1.69491525e-02]\n",
      " [1.76553672e-04 1.76553672e-04 3.53107345e-04 ... 1.76553672e-04\n",
      "  1.76553672e-04 1.76553672e-04]\n",
      " ...\n",
      " [1.76553672e-04 1.76553672e-04 1.76553672e-04 ... 1.76553672e-04\n",
      "  1.76553672e-04 1.76553672e-04]\n",
      " [1.76553672e-04 1.76553672e-04 1.76553672e-04 ... 1.78319209e-02\n",
      "  1.76553672e-04 1.76553672e-04]\n",
      " [3.13206215e-01 1.55367232e-01 8.20974576e-02 ... 5.66737288e-02\n",
      "  6.77966102e-02 3.53460452e-01]]\n"
     ]
    }
   ],
   "source": [
    "#Computing wi(a)\n",
    "def computing_wi(liste,alphabet):\n",
    "    Poids=np.ones((len(alphabet),len(liste[0])))\n",
    "    for i in range(len(liste[0])):\n",
    "        for j in range(len(liste)):     \n",
    "            Poids[alphabet.index(liste[j][i])][i]+=1\n",
    "    Poids=(Poids)/(len(liste)+len(alphabet))\n",
    "    return Poids\n",
    "            \n",
    "esp_ADN,seq_ADN=readfasta('DtrainToyTD.txt')           \n",
    "test_ADN=computing_wi(seq_ADN,aa_ADN)\n",
    "print(\"matrice wi ADN :\\n\",test_ADN)\n",
    "\n",
    "esp_PROT,seq_PROT=readfasta(input_dataset_f)           \n",
    "test_PROT=computing_wi(seq_PROT,aa_PROT)\n",
    "print(\"\\n matrice wi protéine :\\n\",test_PROT)\n"
   ]
  },
  {
   "cell_type": "markdown",
   "metadata": {},
   "source": [
    "Exercise 2: Trouvez les positions les plus conservées en utilisant l’entropie relative.\n",
    "<br>\n",
    "2.1) Pour chaque position i = 0, ..., L − 1, determiner l’entropie relative Si<br>\n",
    "\\begin{equation*}\n",
    "\\label{eq:entropie}\n",
    "S_i = \\log_2(q) + \\sum_{a\\in {\\cal A}} \\omega_i(a)\\cdot \\log_2\\left[\\omega_i(a) \\right]\\ .\n",
    "\\end{equation*}\n",
    "<br>\n"
   ]
  },
  {
   "cell_type": "code",
   "execution_count": 6,
   "metadata": {},
   "outputs": [
    {
     "name": "stdout",
     "output_type": "stream",
     "text": [
      "Si Protéine :\n",
      " [1.85476633 3.18077792 2.05319382 2.53568315 1.9140966  2.82157361\n",
      " 0.73424974 1.99416979 0.79115378 0.6202211  1.18264986 1.45434222\n",
      " 2.80863168 3.16855572 1.60729655 2.51440497 0.81070125 1.39964613\n",
      " 3.22080975 2.45429088 1.04633148 2.29252912 0.59942831 2.29142322\n",
      " 1.59356996 1.06695729 0.79152959 0.54565914 1.16188277 1.02144959\n",
      " 1.76235378 4.17682738 1.96045244 0.77906727 2.57718029 1.05852036\n",
      " 0.63617147 0.45471578 1.15729284 2.37264241 2.22108705 0.83146074\n",
      " 0.77876262 3.87551396 1.28462265 2.20552991 3.98627283 2.0581654 ] \n",
      "\n",
      "Si ADN : \n",
      " [0.633985   0.39180313 0.1726727  0.39180313 0.39180313]\n"
     ]
    }
   ],
   "source": [
    "#Computing Si\n",
    "def Computing_Si(Poids,alphabet):\n",
    "    Si=np.zeros(len(Poids[0]))\n",
    "    q=len(alphabet)\n",
    "    Somme=0\n",
    "    for j in range(len(Poids[0])):\n",
    "        Si[j]=np.log2(q)+np.sum(Poids[:,j]*np.log2(Poids[:,j]))\n",
    "    return Si\n",
    "Si_PROT=Computing_Si(test_PROT,aa_PROT)\n",
    "print(\"Si Protéine :\\n\",Si_PROT,'\\n')\n",
    "\n",
    "Si_ADN=Computing_Si(test_ADN,aa_ADN)\n",
    "print(\"Si ADN : \\n\",Si_ADN)"
   ]
  },
  {
   "cell_type": "markdown",
   "metadata": {},
   "source": [
    "2.2) Indiquez les acides aminees (ai*) des trois positions les plus conservées : \n",
    "\\begin{equation}\n",
    "\\label{eq:conserved}\n",
    "a_i^\\star = {\\rm argmax}_{a\\in {\\cal A}} \\omega_i(a)\\ .\n",
    "\\end{equation}"
   ]
  },
  {
   "cell_type": "code",
   "execution_count": 7,
   "metadata": {},
   "outputs": [],
   "source": [
    "#computing ai*\n",
    "def computing_ai(poids,alphabet):\n",
    "    Enthropy=Computing_Si(poids,alphabet)\n",
    "    Position=[]\n",
    "    ai=[]\n",
    "    for i in range(3):\n",
    "        ind=np.argmax(Enthropy)\n",
    "        Enthropy[ind]=0\n",
    "        Position.append(ind)\n",
    "        ai.append(alphabet[np.argmax(poids[:,ind])])\n",
    "    return Position,ai\n",
    "\n",
    "position,ai=(computing_ai(test_PROT,aa_PROT))"
   ]
  },
  {
   "cell_type": "markdown",
   "metadata": {},
   "source": [
    "2.3) Tracer l’entropie rélative en fonction de chaque position i."
   ]
  },
  {
   "cell_type": "code",
   "execution_count": 12,
   "metadata": {},
   "outputs": [
    {
     "data": {
      "text/plain": [
       "[<matplotlib.lines.Line2D at 0x7f244498e150>]"
      ]
     },
     "execution_count": 12,
     "metadata": {},
     "output_type": "execute_result"
    },
    {
     "data": {
      "image/png": "[encoded data removed]",
      "text/plain": [
       "<Figure size 432x288 with 1 Axes>"
      ]
     },
     "metadata": {
      "needs_background": "light"
     },
     "output_type": "display_data"
    }
   ],
   "source": [
    "import matplotlib.pyplot as plt\n",
    "#plot entropy\n",
    "\n",
    "fig = plt.figure()\n",
    "ax = fig.add_subplot(111)\n",
    "plt.xlabel(\"Indice de l'acide aminé\")\n",
    "plt.ylabel('Entropie')\n",
    "plt.title(\"Entropy of amino acids in train set\")\n",
    "ax.annotate(ai[0], xy=(position[0], Si_PROT[position[0]]), xytext=(position[0]+0.5, Si_PROT[position[0]]+0.05))\n",
    "ax.annotate(ai[1], xy=(position[1], Si_PROT[position[1]]), xytext=(position[1]+0.5, Si_PROT[position[1]]+0.05))\n",
    "ax.annotate(ai[2], xy=(position[2], Si_PROT[position[2]]), xytext=(position[2]+0.5, Si_PROT[position[2]]+0.05))\n",
    "plt.plot(np.linspace(0,len(Si_PROT),len(Si_PROT)),Si_PROT)"
   ]
  },
  {
   "cell_type": "code",
   "execution_count": 13,
   "metadata": {},
   "outputs": [
    {
     "data": {
      "text/plain": [
       "[<matplotlib.lines.Line2D at 0x7f24448f9ad0>]"
      ]
     },
     "execution_count": 13,
     "metadata": {},
     "output_type": "execute_result"
    },
    {
     "data": {
      "image/png": "[encoded data removed]",
      "text/plain": [
       "<Figure size 432x288 with 1 Axes>"
      ]
     },
     "metadata": {
      "needs_background": "light"
     },
     "output_type": "display_data"
    }
   ],
   "source": [
    "#plot entropy avec expérimentation d'affichage\n",
    "\n",
    "fig = plt.figure()\n",
    "ax = fig.add_subplot(111)\n",
    "plt.xlabel(\"Indice de l'acide aminé\")\n",
    "plt.ylabel('Enthropie')\n",
    "ax.annotate(ai[0], xy=(position[0], Si_PROT[position[0]]), xytext=(position[0], Si_PROT[position[0]]+5),\n",
    "            arrowprops=dict(facecolor='yellow', shrink=0.5))\n",
    "ax.annotate(ai[1], xy=(position[1], Si_PROT[position[1]]), xytext=(position[1], Si_PROT[position[1]]+5),\n",
    "            arrowprops=dict(facecolor='pink', shrink=0.5))\n",
    "ax.annotate(ai[2], xy=(position[2], Si_PROT[position[2]]), xytext=(position[2], Si_PROT[position[2]]+5),\n",
    "            arrowprops=dict(facecolor='green', shrink=0.5))\n",
    "\n",
    "plt.plot(np.linspace(0,len(Si_PROT),len(Si_PROT)),Si_PROT, 'orchid', linewidth=2, markersize=10)"
   ]
  },
  {
   "cell_type": "markdown",
   "metadata": {},
   "source": [
    "Exercise 3: Déterminer les paramètres f(0)(b) du modèle nul, où\n",
    "\\begin{equation}\n",
    "f^{(0)}(b) = \\frac 1L \\sum_{i=0}^{L-1} \\omega_i(b)\\ ,\n",
    "\\end{equation}"
   ]
  },
  {
   "cell_type": "code",
   "execution_count": 14,
   "metadata": {},
   "outputs": [
    {
     "name": "stdout",
     "output_type": "stream",
     "text": [
      "modèle nul : \n",
      " [0.05880709 0.00751089 0.08008916 0.08491496 0.04194253 0.09048008\n",
      " 0.01268244 0.05049067 0.05113804 0.07445048 0.01191369 0.03564545\n",
      " 0.03793329 0.03431026 0.04506165 0.04843824 0.04072505 0.05916019\n",
      " 0.0365981  0.03855491 0.05915284]\n"
     ]
    }
   ],
   "source": [
    "#computing f0\n",
    "def modele_nul(poids):\n",
    "    L=len(poids[0])\n",
    "    nul=np.zeros((len(poids)))\n",
    "    for i in range(len(nul)):\n",
    "        nul[i]=np.sum(poids[i,:])/L\n",
    "    return nul\n",
    "\n",
    "nul_PROT=modele_nul(test_PROT)\n",
    "print(\"modèle nul : \\n\",nul_PROT)"
   ]
  },
  {
   "cell_type": "markdown",
   "metadata": {},
   "source": [
    "Exercise 4: (à appliquer à testseq.txt): Déterminer l(bi,...,bi+L−1)  pour chaque sous-séquence de longueur L. \n",
    "Déterminer si il y a des sous-séquences de la famille definie par Dtrain. \n",
    "Tracer la log-vraisemblance en fonction de sa première position i = 0, ..., N − L.\n",
    "\\begin{equation}\n",
    "\\label{eq:ll}\n",
    "\\ell(b_0,...,b_{L-1}) = \\log_2 \\frac {P(b_0,...,b_{L-1} | \\omega )\n",
    "}{P^{(0)}(b_0,...,b_{L-1})}\n",
    "= \\sum_{i=0}^{L-1} \\log_2 \\frac {\\omega_i(b_i)}{f^{(0)}(b_i)}\\ .\n",
    "\\end{equation}"
   ]
  },
  {
   "cell_type": "markdown",
   "metadata": {},
   "source": [
    "4.1: Faites une fonction pour calculer la log-vraisemblance, d'une sequence de taille L."
   ]
  },
  {
   "cell_type": "code",
   "execution_count": 18,
   "metadata": {},
   "outputs": [],
   "source": [
    "#computing loglikehood\n",
    "\n",
    "def loglikelihood(poids,nul,seq,alphabet):\n",
    "    ind_seq=np.zeros(len(seq))\n",
    "    proba=1\n",
    "    proba_nul=1\n",
    "    for i in range(len(seq)):\n",
    "        ind_seq[i]=alphabet.index(seq[i])\n",
    "    for i in range(len(ind_seq)-1):\n",
    "        proba*=poids[int(ind_seq[i])][i] \n",
    "        proba_nul*=nul[int(ind_seq[i])] \n",
    "    return np.log2(proba/proba_nul)"
   ]
  },
  {
   "cell_type": "markdown",
   "metadata": {},
   "source": [
    "4.2: Faites une fonction qui etant donner une sequence de taille superieur à L generer toutes les sous-séquences de taille L  "
   ]
  },
  {
   "cell_type": "code",
   "execution_count": 19,
   "metadata": {},
   "outputs": [],
   "source": [
    "#computing sliding_window \n",
    "def sliding_window(poids,fichier):\n",
    "    esp,seq=readfasta(fichier)\n",
    "    seq=seq[0]\n",
    "    liste_sous_seq=[]\n",
    "    for i in range(len(seq)-len(poids[0])+1):\n",
    "        liste_sous_seq.append(seq[i:(i+len(poids[0]))])\n",
    "    return liste_sous_seq"
   ]
  },
  {
   "cell_type": "markdown",
   "metadata": {},
   "source": [
    "4.3: Calculer la log-vraisemblance pour toutes les sous-sequences trouvé à 4.2 et tracer un graphique de log-vraisemblance x position initialle de la sous-sequence."
   ]
  },
  {
   "cell_type": "code",
   "execution_count": 21,
   "metadata": {},
   "outputs": [
    {
     "name": "stdout",
     "output_type": "stream",
     "text": [
      "liste log : \n",
      " [-117.81435649 -119.2938978   -90.78196136 -110.82262493 -153.05866915\n",
      " -129.71444114 -119.99943606 -157.05696337 -171.83796759 -134.18030556\n",
      " -147.60483205  -98.5534235  -111.73574954   70.52009586 -141.32931512\n",
      " -122.69859639 -143.5061597  -154.51215581 -138.72011977 -145.40085092\n",
      " -142.43870824 -141.62932907 -117.51197935 -117.47454208 -155.71943357\n",
      " -134.13817673 -108.68673117 -153.25709802 -138.37624842 -138.55402772\n",
      " -137.16573543 -131.41586532 -124.99033336 -119.27207389 -146.90310201\n",
      " -136.09600183 -132.54134638 -138.99943027 -121.54037066 -129.76820259\n",
      " -158.05274671 -120.26720952 -124.36526641 -138.91299362  -88.82183326\n",
      " -116.60479092  -98.28430302 -110.16678624 -133.71867181 -135.81698406\n",
      " -135.75053516 -113.42131078 -142.44780597 -126.07124952 -145.9259252\n",
      " -136.02445532 -164.92683543 -112.00029372 -124.01554638 -144.78411255\n",
      " -129.59583002 -135.98166175 -143.26824686 -156.98109369 -133.79047579\n",
      " -132.56232997 -124.92869539]\n",
      "\n",
      "\n",
      "\n",
      "liste des portions de séquences : \n",
      " ['PPAAAPQPKEPRYKALYDFAGQSAGELSLGKDEIILVTQKENNGWWLA', 'PAAAPQPKEPRYKALYDFAGQSAGELSLGKDEIILVTQKENNGWWLAS', 'AAAPQPKEPRYKALYDFAGQSAGELSLGKDEIILVTQKENNGWWLASR', 'AAPQPKEPRYKALYDFAGQSAGELSLGKDEIILVTQKENNGWWLASRL', 'APQPKEPRYKALYDFAGQSAGELSLGKDEIILVTQKENNGWWLASRLD', 'PQPKEPRYKALYDFAGQSAGELSLGKDEIILVTQKENNGWWLASRLDK', 'QPKEPRYKALYDFAGQSAGELSLGKDEIILVTQKENNGWWLASRLDKS', 'PKEPRYKALYDFAGQSAGELSLGKDEIILVTQKENNGWWLASRLDKSA', 'KEPRYKALYDFAGQSAGELSLGKDEIILVTQKENNGWWLASRLDKSAS', 'EPRYKALYDFAGQSAGELSLGKDEIILVTQKENNGWWLASRLDKSASG', 'PRYKALYDFAGQSAGELSLGKDEIILVTQKENNGWWLASRLDKSASGW', 'RYKALYDFAGQSAGELSLGKDEIILVTQKENNGWWLASRLDKSASGWA', 'YKALYDFAGQSAGELSLGKDEIILVTQKENNGWWLASRLDKSASGWAP', 'KALYDFAGQSAGELSLGKDEIILVTQKENNGWWLASRLDKSASGWAPS', 'ALYDFAGQSAGELSLGKDEIILVTQKENNGWWLASRLDKSASGWAPSA', 'LYDFAGQSAGELSLGKDEIILVTQKENNGWWLASRLDKSASGWAPSAY', 'YDFAGQSAGELSLGKDEIILVTQKENNGWWLASRLDKSASGWAPSAYL', 'DFAGQSAGELSLGKDEIILVTQKENNGWWLASRLDKSASGWAPSAYLE', 'FAGQSAGELSLGKDEIILVTQKENNGWWLASRLDKSASGWAPSAYLEE', 'AGQSAGELSLGKDEIILVTQKENNGWWLASRLDKSASGWAPSAYLEEV', 'GQSAGELSLGKDEIILVTQKENNGWWLASRLDKSASGWAPSAYLEEVV', 'QSAGELSLGKDEIILVTQKENNGWWLASRLDKSASGWAPSAYLEEVVQ', 'SAGELSLGKDEIILVTQKENNGWWLASRLDKSASGWAPSAYLEEVVQR', 'AGELSLGKDEIILVTQKENNGWWLASRLDKSASGWAPSAYLEEVVQRV', 'GELSLGKDEIILVTQKENNGWWLASRLDKSASGWAPSAYLEEVVQRVA', 'ELSLGKDEIILVTQKENNGWWLASRLDKSASGWAPSAYLEEVVQRVAA', 'LSLGKDEIILVTQKENNGWWLASRLDKSASGWAPSAYLEEVVQRVAAA', 'SLGKDEIILVTQKENNGWWLASRLDKSASGWAPSAYLEEVVQRVAAAP', 'LGKDEIILVTQKENNGWWLASRLDKSASGWAPSAYLEEVVQRVAAAPP', 'GKDEIILVTQKENNGWWLASRLDKSASGWAPSAYLEEVVQRVAAAPPA', 'KDEIILVTQKENNGWWLASRLDKSASGWAPSAYLEEVVQRVAAAPPAR', 'DEIILVTQKENNGWWLASRLDKSASGWAPSAYLEEVVQRVAAAPPARP', 'EIILVTQKENNGWWLASRLDKSASGWAPSAYLEEVVQRVAAAPPARPV', 'IILVTQKENNGWWLASRLDKSASGWAPSAYLEEVVQRVAAAPPARPVN', 'ILVTQKENNGWWLASRLDKSASGWAPSAYLEEVVQRVAAAPPARPVNG', 'LVTQKENNGWWLASRLDKSASGWAPSAYLEEVVQRVAAAPPARPVNGA', 'VTQKENNGWWLASRLDKSASGWAPSAYLEEVVQRVAAAPPARPVNGAA', 'TQKENNGWWLASRLDKSASGWAPSAYLEEVVQRVAAAPPARPVNGAAG', 'QKENNGWWLASRLDKSASGWAPSAYLEEVVQRVAAAPPARPVNGAAGG', 'KENNGWWLASRLDKSASGWAPSAYLEEVVQRVAAAPPARPVNGAAGGK', 'ENNGWWLASRLDKSASGWAPSAYLEEVVQRVAAAPPARPVNGAAGGKP', 'NNGWWLASRLDKSASGWAPSAYLEEVVQRVAAAPPARPVNGAAGGKPK', 'NGWWLASRLDKSASGWAPSAYLEEVVQRVAAAPPARPVNGAAGGKPKP', 'GWWLASRLDKSASGWAPSAYLEEVVQRVAAAPPARPVNGAAGGKPKPP', 'WWLASRLDKSASGWAPSAYLEEVVQRVAAAPPARPVNGAAGGKPKPPA', 'WLASRLDKSASGWAPSAYLEEVVQRVAAAPPARPVNGAAGGKPKPPAP', 'LASRLDKSASGWAPSAYLEEVVQRVAAAPPARPVNGAAGGKPKPPAPP', 'ASRLDKSASGWAPSAYLEEVVQRVAAAPPARPVNGAAGGKPKPPAPPA', 'SRLDKSASGWAPSAYLEEVVQRVAAAPPARPVNGAAGGKPKPPAPPAK', 'RLDKSASGWAPSAYLEEVVQRVAAAPPARPVNGAAGGKPKPPAPPAKR', 'LDKSASGWAPSAYLEEVVQRVAAAPPARPVNGAAGGKPKPPAPPAKRP', 'DKSASGWAPSAYLEEVVQRVAAAPPARPVNGAAGGKPKPPAPPAKRPA', 'KSASGWAPSAYLEEVVQRVAAAPPARPVNGAAGGKPKPPAPPAKRPAA', 'SASGWAPSAYLEEVVQRVAAAPPARPVNGAAGGKPKPPAPPAKRPAAR', 'ASGWAPSAYLEEVVQRVAAAPPARPVNGAAGGKPKPPAPPAKRPAARK', 'SGWAPSAYLEEVVQRVAAAPPARPVNGAAGGKPKPPAPPAKRPAARKA', 'GWAPSAYLEEVVQRVAAAPPARPVNGAAGGKPKPPAPPAKRPAARKAV', 'WAPSAYLEEVVQRVAAAPPARPVNGAAGGKPKPPAPPAKRPAARKAVN', 'APSAYLEEVVQRVAAAPPARPVNGAAGGKPKPPAPPAKRPAARKAVNG', 'PSAYLEEVVQRVAAAPPARPVNGAAGGKPKPPAPPAKRPAARKAVNGD', 'SAYLEEVVQRVAAAPPARPVNGAAGGKPKPPAPPAKRPAARKAVNGDS', 'AYLEEVVQRVAAAPPARPVNGAAGGKPKPPAPPAKRPAARKAVNGDSA', 'YLEEVVQRVAAAPPARPVNGAAGGKPKPPAPPAKRPAARKAVNGDSAR', 'LEEVVQRVAAAPPARPVNGAAGGKPKPPAPPAKRPAARKAVNGDSARD', 'EEVVQRVAAAPPARPVNGAAGGKPKPPAPPAKRPAARKAVNGDSARDS', 'EVVQRVAAAPPARPVNGAAGGKPKPPAPPAKRPAARKAVNGDSARDSG', 'VVQRVAAAPPARPVNGAAGGKPKPPAPPAKRPAARKAVNGDSARDSGY']\n"
     ]
    }
   ],
   "source": [
    "#computing log-vraisemblance\n",
    "def computing_log(poids,nul,fichier,alphabet):\n",
    "    liste_sous_seq=sliding_window(poids,fichier)\n",
    "    liste_log=np.zeros(len(liste_sous_seq))\n",
    "    for i in range(len(liste_sous_seq)):\n",
    "        liste_log[i]=loglikelihood(poids,nul,liste_sous_seq[i],alphabet)\n",
    "    return liste_log,liste_sous_seq\n",
    "\n",
    "liste_log_PROT,liste_sous_seq_PROT=computing_log(test_PROT,nul_PROT,input_sequence_f,aa_PROT)\n",
    "print(\"liste log : \\n\",liste_log_PROT)\n",
    "print(\"\\n\\n\")\n",
    "print(\"liste des portions de séquences : \\n\",liste_sous_seq_PROT)"
   ]
  },
  {
   "cell_type": "code",
   "execution_count": 22,
   "metadata": {},
   "outputs": [
    {
     "data": {
      "text/plain": [
       "[<matplotlib.lines.Line2D at 0x7f244487f390>]"
      ]
     },
     "execution_count": 22,
     "metadata": {},
     "output_type": "execute_result"
    },
    {
     "data": {
      "image/png": "[encoded data removed]",
      "text/plain": [
       "<Figure size 432x288 with 1 Axes>"
      ]
     },
     "metadata": {
      "needs_background": "light"
     },
     "output_type": "display_data"
    }
   ],
   "source": [
    "#ploting  log-vraisemblance x position initialle\n",
    "maxi_log=max(liste_log_PROT)\n",
    "indice_maxi_log=np.argmax(liste_log_PROT)\n",
    "fig = plt.figure()\n",
    "ax = fig.add_subplot(111)\n",
    "plt.xlabel(\"Windows stating index\")\n",
    "plt.ylabel('Log Likelihood')\n",
    "plt.title(\"Log likelihood across windows\")\n",
    "ax.annotate(\"Best score: window \"+str(indice_maxi_log), xy=(indice_maxi_log, maxi_log), xytext=(indice_maxi_log+0.5, maxi_log+0.05),)\n",
    "plt.plot(np.linspace(0,len(liste_sous_seq_PROT),len(liste_sous_seq_PROT)),liste_log_PROT)"
   ]
  },
  {
   "cell_type": "code",
   "execution_count": null,
   "metadata": {},
   "outputs": [],
   "source": []
  }
 ],
 "metadata": {
  "celltoolbar": "Raw Cell Format",
  "kernelspec": {
   "display_name": "Python 3",
   "language": "python",
   "name": "python3"
  },
  "language_info": {
   "codemirror_mode": {
    "name": "ipython",
    "version": 3
   },
   "file_extension": ".py",
   "mimetype": "text/x-python",
   "name": "python",
   "nbconvert_exporter": "python",
   "pygments_lexer": "ipython3",
   "version": "3.7.5"
  }
 },
 "nbformat": 4,
 "nbformat_minor": 2
}
