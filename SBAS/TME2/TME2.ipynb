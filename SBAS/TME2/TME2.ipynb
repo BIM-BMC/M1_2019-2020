{
 "cells": [
  {
   "cell_type": "markdown",
   "metadata": {},
   "source": [
    "<h1><b>Statistique en Bioinformatique : </b> TME2 </h1>\n",
    "<br>\n",
    "L’objectif de ce TME est: \n",
    "<br>\n",
    "<ul>\n",
    "<li> objectif 1: comprendre les différences d'alignement global et local, </li>\n",
    "<li> objectif 2: reconstruire une matrice de substitution du type Blosum, </li>\n",
    "</ul>\n",
    "<br>\n",
    "<div class=\"alert alert-warning\" role=\"alert\" style=\"margin: 10px\">\n",
    "<p>**Soumission**</p>\n",
    "<ul>\n",
    "<li>Renomer le fichier TME1.ipynb pour TME2_NomEtudiant1_NomEtudiant2.ipynb </li>\n",
    "<li>Soumettre à https://www.dropbox.com/request/ZylCDDpggbrN5toTiJKV </li>\n",
    "</ul>\n",
    "</div>\n",
    "</div>"
   ]
  },
  {
   "cell_type": "markdown",
   "metadata": {},
   "source": [
    "Nom etudiant 1 : Leroy Adrien\n",
    "<br>\n",
    "Nom etudiant 2 : Dorval Loïc\n",
    "<br>"
   ]
  },
  {
   "cell_type": "markdown",
   "metadata": {},
   "source": [
    "<b> Exercice 1 </b>: On va étudier un alignement “difficile” entre la protéine emph50s ribosomal L20 chez A. aeolicus, \n",
    "et la protéine ligase UBR5 chez l’homme (L’alignement structural est montré ci-dessous). \n",
    "<br>\n",
    "\n",
    "<img src=\"bacthum.png\" alt=\"Smiley face\" height=\"210\" width=\"202\"> \n",
    "\n",
    "\n",
    "\n",
    "<br><br>\n",
    "<b>A.</b> Récupérez la séquence de la protéine “E3 ubiquitin ligase UBR5” chez l’homme et de la protéine “50S ribosomal L20” chez A. aeolicus \n",
    "via le site <a href=\"http://www.uniprot.org/\">Uniprot</a>  au format .fasta.\n",
    "\n",
    "<br>\n",
    "<b>B.</b> A l’aide du site <a href=\"https://www.ebi.ac.uk/Tools/psa/\">psa</a>, alignez ces séquences. Commentez les faibles pourcentage d’identité malgré le bon alignement des ces structures.\n"
   ]
  },
  {
   "cell_type": "markdown",
   "metadata": {},
   "source": [
    "Réponse : %Identity:      29/2826 ( 1.0%)\n",
    "          On obtient ce résultat avec une différence de longueur de séquence"
   ]
  },
  {
   "cell_type": "markdown",
   "metadata": {},
   "source": [
    "<b>C.</b> Récupérez la séquence de la protéine “metL Bifunctional aspartokinase/homoserine dehydrogenase 2” et de la protéine “lysC Lysine-sensitive aspartokinase 3” chez E. coli via le site <a href=\"http://www.uniprot.org/\"> Uniprot </a> au format .fasta. Reproduisez, à l’aide du site <a href=\"https://www.ebi.ac.uk/Tools/psa/\"> psa</a>, l’alignement global et local vu en TD. Observez la modification des résultats en changeant la matrice de substitution et/ou les pénalités de gap (“Gap_penalty” et “Extend_penalty”)."
   ]
  },
  {
   "cell_type": "markdown",
   "metadata": {},
   "source": [
    "Reponse:en changeant l'ouverture de gap et l'extension de gap on fait varié les scores d'indentité et les scores de similarité."
   ]
  },
  {
   "cell_type": "markdown",
   "metadata": {},
   "source": [
    "<b>Exercice 2</b>: Score alignement global, local <br>\n",
    "Faire une fonction pour calculer : 1) la pourcentage de identité, 2) la pourcentage de similarité, 3) le score d’un alignement en utilisant la matrix blosum62. Le calcul de la similarité doit prendre en considération les acides amine ayant la même propriété physico chimique. Dans notre cas, tous les acides amine qui ont des valeurs supérieur à zéro dans la matrice BLOSUM62. Le score basé sur la matrice blosum doit aussi prendre en considération les deux pénalités de gaps, ouverture et extension. Teste vos fonctions en utilisant le fichier test.fasta\n"
   ]
  },
  {
   "cell_type": "code",
   "execution_count": 1,
   "metadata": {},
   "outputs": [],
   "source": [
    "import numpy as np\n",
    "\n",
    "#variable initiation\n",
    "aa = ['A', 'R', 'N', 'D', 'C', 'Q', 'E', 'G', 'H', 'I', 'L', 'K', 'M', 'F', 'P', 'S', 'T', 'W', 'Y', 'V', 'X']\n",
    "\n",
    "#parameters\n",
    "q = 21\n",
    "gap_open = -5\n",
    "gap_ext = 0.5\n",
    "\n",
    "#files\n",
    "input_test_f = 'test.fasta'\n",
    "input_blosum_f = 'BLOSUM62.txt'\n",
    "\n",
    "#For a simple test use:\n",
    "input_test_f = 'testToy.fasta'\n",
    "\n"
   ]
  },
  {
   "cell_type": "code",
   "execution_count": 2,
   "metadata": {},
   "outputs": [
    {
     "name": "stdout",
     "output_type": "stream",
     "text": [
      "['ACCD', 'A-CD']\n"
     ]
    }
   ],
   "source": [
    "#Read the test.fasta file\n",
    "def read_fasta(fichier):\n",
    "    Liste_esp=[]\n",
    "    Liste_seq=[]\n",
    "    flux=open(fichier,'r')\n",
    "    ligne=flux.readline()\n",
    "    while ligne!='':\n",
    "        ligne=ligne[0:-1]\n",
    "        if ligne[0]=='>':\n",
    "            Liste_esp.append(ligne)\n",
    "        else:\n",
    "            \n",
    "            Liste_seq.append(ligne)\n",
    "        ligne=flux.readline()\n",
    "    return Liste_seq\n",
    "    \n",
    "testAln = read_fasta(input_test_f)\n",
    "print (testAln)"
   ]
  },
  {
   "cell_type": "code",
   "execution_count": 11,
   "metadata": {},
   "outputs": [
    {
     "name": "stdout",
     "output_type": "stream",
     "text": [
      "matrice Blosum :\n",
      " [[ 4 -1 -2 -2  0 -1 -1  0 -2 -1 -1 -1 -1 -2 -1  1  0 -3 -2  0 -2 -1  0]\n",
      " [-1  5  0 -2 -3  1  0 -2  0 -3 -2  2 -1 -3 -2 -1 -1 -3 -2 -3 -1  0 -1]\n",
      " [-2  0  6  1 -3  0  0  0  1 -3 -3  0 -2 -3 -2  1  0 -4 -2 -3  3  0 -1]\n",
      " [-2 -2  1  6 -3  0  2 -1 -1 -3 -4 -1 -3 -3 -1  0 -1 -4 -3 -3  4  1 -1]\n",
      " [ 0 -3 -3 -3  9 -3 -4 -3 -3 -1 -1 -3 -1 -2 -3 -1 -1 -2 -2 -1 -3 -3 -2]\n",
      " [-1  1  0  0 -3  5  2 -2  0 -3 -2  1  0 -3 -1  0 -1 -2 -1 -2  0  3 -1]\n",
      " [-1  0  0  2 -4  2  5 -2  0 -3 -3  1 -2 -3 -1  0 -1 -3 -2 -2  1  4 -1]\n",
      " [ 0 -2  0 -1 -3 -2 -2  6 -2 -4 -4 -2 -3 -3 -2  0 -2 -2 -3 -3 -1 -2 -1]\n",
      " [-2  0  1 -1 -3  0  0 -2  8 -3 -3 -1 -2 -1 -2 -1 -2 -2  2 -3  0  0 -1]\n",
      " [-1 -3 -3 -3 -1 -3 -3 -4 -3  4  2 -3  1  0 -3 -2 -1 -3 -1  3 -3 -3 -1]\n",
      " [-1 -2 -3 -4 -1 -2 -3 -4 -3  2  4 -2  2  0 -3 -2 -1 -2 -1  1 -4 -3 -1]\n",
      " [-1  2  0 -1 -3  1  1 -2 -1 -3 -2  5 -1 -3 -1  0 -1 -3 -2 -2  0  1 -1]\n",
      " [-1 -1 -2 -3 -1  0 -2 -3 -2  1  2 -1  5  0 -2 -1 -1 -1 -1  1 -3 -1 -1]\n",
      " [-2 -3 -3 -3 -2 -3 -3 -3 -1  0  0 -3  0  6 -4 -2 -2  1  3 -1 -3 -3 -1]\n",
      " [-1 -2 -2 -1 -3 -1 -1 -2 -2 -3 -3 -1 -2 -4  7 -1 -1 -4 -3 -2 -2 -1 -2]\n",
      " [ 1 -1  1  0 -1  0  0  0 -1 -2 -2  0 -1 -2 -1  4  1 -3 -2 -2  0  0  0]\n",
      " [ 0 -1  0 -1 -1 -1 -1 -2 -2 -1 -1 -1 -1 -2 -1  1  5 -2 -2  0 -1 -1  0]\n",
      " [-3 -3 -4 -4 -2 -2 -3 -2 -2 -3 -2 -3 -1  1 -4 -3 -2 11  2 -3 -4 -3 -2]\n",
      " [-2 -2 -2 -3 -2 -1 -2 -3  2 -1 -1 -2 -1  3 -3 -2 -2  2  7 -1 -3 -2 -1]\n",
      " [ 0 -3 -3 -3 -1 -2 -2 -3 -3  3  1 -2  1 -1 -2 -2  0 -3 -1  4 -3 -2 -1]\n",
      " [-2 -1  3  4 -3  0  1 -1  0 -3 -4  0 -3 -3 -2  0 -1 -4 -3 -3  4  1 -1]\n",
      " [-1  0  0  1 -3  3  4 -2  0 -3 -3  1 -1 -3 -1  0 -1 -3 -2 -2  1  4 -1]\n",
      " [ 0 -1 -1 -1 -2 -1 -1 -1 -1 -1 -1 -1 -1 -1 -2  0  0 -2 -1 -1 -1 -1 -1]]\n",
      "(23, 23)\n"
     ]
    }
   ],
   "source": [
    "#read Blosum\n",
    "def read_blosum (input_f):\n",
    "    flux=open(input_f,'r')\n",
    "    ligne=flux.readline()\n",
    "    mat=[]\n",
    "    while ligne != '':\n",
    "        ligne=ligne[0:-1]\n",
    "        if ligne[0]=='#' or ligne[0]==' ':\n",
    "            ligne=flux.readline()\n",
    "        else:\n",
    "            ligne=ligne[1:-1].split()\n",
    "            mat.append(ligne[0:-1])\n",
    "            ligne=flux.readline()\n",
    "    mat=np.array(mat)\n",
    "    mat=mat.astype(int)\n",
    "    \n",
    "    return mat[0:-1]\n",
    "    \n",
    "matr_62 = read_blosum (input_blosum_f)\n",
    "print ('matrice Blosum :\\n',matr_62)\n",
    "print(np.shape(matr_62))"
   ]
  },
  {
   "cell_type": "code",
   "execution_count": 38,
   "metadata": {},
   "outputs": [
    {
     "name": "stdout",
     "output_type": "stream",
     "text": [
      "identitee=  0.75 | similarity=  0.75 | score=  10\n"
     ]
    }
   ],
   "source": [
    "def indentite_calcul(seq1, seq2, gap_open, gap_ext, matr_62, alphabet):\n",
    "    Similarite=0\n",
    "    Identite=0\n",
    "    Score=0\n",
    "    for i in range(len(seq1)):\n",
    "        \n",
    "        if seq1[i]!='-' and seq2[i]!='-': # si pas de gap\n",
    "            Score+=matr_62[alphabet.index(seq1[i])][alphabet.index(seq2[i])]\n",
    "            if matr_62[alphabet.index(seq1[i])][alphabet.index(seq2[i])]>=0: #similarité\n",
    "                Similarite+=1\n",
    "            if (seq1[i]==seq2[i]): #identité \n",
    "                Identite+=1\n",
    "        else:\n",
    "            if seq1[i]=='-': #cas gap sur seq 1\n",
    "                if i>0 and seq1[i-1]=='-':\n",
    "                    Score+=gap_ext\n",
    "                else:\n",
    "                    Score+=gap_open\n",
    "                    \n",
    "            if seq2[i]=='-': #cas gap sur seq 2\n",
    "                if i>0 and seq2[i-1]=='-':\n",
    "                    Score+=gap_ext\n",
    "                else:\n",
    "                    Score+=gap_open\n",
    "                    \n",
    "    Similarite/=len(seq1) \n",
    "    Identite/=len(seq1)\n",
    "    return Identite, Similarite, Score\n",
    "\n",
    "identitee,similarity,score = indentite_calcul(testAln[0], testAln[1], gap_open, gap_ext, matr_62,aa)\n",
    "print (\"identitee= \", identitee , \"| similarity= \", similarity, \"| score= \", score )"
   ]
  },
  {
   "cell_type": "markdown",
   "metadata": {},
   "source": [
    "<b>Exercice 3</b>: Matrice de substitution <br>\n",
    "Faire une programme (plusieurs fonctions seront nécessaires) pour produire une matrix de substitution comme Blosum. Utiliser l’alignement du fichiers <b>blocks.dat</b>. \n"
   ]
  },
  {
   "cell_type": "code",
   "execution_count": 39,
   "metadata": {},
   "outputs": [],
   "source": [
    "from itertools import combinations, combinations_with_replacement\n",
    "from collections import Counter\n",
    "\n",
    "\n",
    "input_block_f = 'block.dat'\n",
    "\n",
    "#For a simple test do:\n",
    "input_block_f_toy = 'blockToy.dat'\n",
    "#q = 3\n",
    "aa_toy = ['A', 'B', 'C']\n",
    "\n",
    "#generate all aa combination\n",
    "aa.sort()\n",
    "pairs_freq_dict = {x:0 for x in combinations_with_replacement(aa,2)}\n",
    "\n",
    "\n",
    "\n"
   ]
  },
  {
   "cell_type": "code",
   "execution_count": 40,
   "metadata": {},
   "outputs": [
    {
     "name": "stdout",
     "output_type": "stream",
     "text": [
      "[['A' 'B' 'C' 'C' 'B']\n",
      " ['A' 'C' 'A' 'B' 'A']\n",
      " ['C' 'B' 'C' 'C' 'B']\n",
      " ['A' 'C' 'B' 'B' 'B']]\n"
     ]
    }
   ],
   "source": [
    "#read alignment file\n",
    "from io import StringIO \n",
    "import sys\n",
    "\n",
    "def readAlnFile(input_f):\n",
    "    flux=open(input_f)\n",
    "    ligne=flux.readline()\n",
    "    Aln=[]\n",
    "    i=0\n",
    "    while ligne != '':  #on lit jusqu'à la fin du fichier\n",
    "        temp=[]\n",
    "        Aln.append(temp)          #on ajoute une liste vide à chaque occurence \n",
    "        if ligne[-1]=='\\n':       #on enlève le \\n si présent au bout de la ligne \n",
    "            ligne=ligne[0:-1]\n",
    "        for j in range(len(ligne)):  #on y ajoute chaque élement de la ligne dans cette liste\n",
    "            Aln[i].append(ligne[j])\n",
    "        ligne=flux.readline()     #on passe à la ligne d'après\n",
    "        i+=1\n",
    "    return np.array(Aln)          #on retourne la liste de liste sous la forme np.array\n",
    "\n",
    "\n",
    "Aln=readAlnFile(input_block_f_toy)\n",
    "print(Aln)"
   ]
  },
  {
   "cell_type": "code",
   "execution_count": 41,
   "metadata": {},
   "outputs": [
    {
     "name": "stdout",
     "output_type": "stream",
     "text": [
      "     A     B    C\n",
      "A  3.0   0.0  0.0\n",
      "B  4.0   5.0  0.0\n",
      "C  5.0  10.0  3.0 \n",
      "Matrice des fréquences Fij\n",
      "\n"
     ]
    }
   ],
   "source": [
    "#compute fij frequences\n",
    "import pandas as pd\n",
    "import math\n",
    "\n",
    "def combine (n,p):  #On fait une fonction uniquement pour la combinatoire\n",
    "    X=math.factorial(n)/(math.factorial(n-p)*math.factorial(p))\n",
    "    return X\n",
    "\n",
    "def compute_Fij(Aln,alphabet):\n",
    "    df=pd.DataFrame(np.zeros((len(alphabet),len(alphabet))),index=alphabet,columns=alphabet)\n",
    "    for k in range(len(Aln[0])):\n",
    "        liste_int=Aln[:,k]                                             #c'est la colonne pour la position k de chaque séquence\n",
    "        liste_unique,counts=np.unique(liste_int,return_counts=True)    #on sort la liste les et le compte de chacun de ses membres\n",
    "        for i in range(len(liste_unique)):\n",
    "            for j in range(i,len(liste_unique)):\n",
    "                if i==j:\n",
    "                    if counts[i]>=2:                                   #Si c'est inférieur à 2 le résultat doit être nul\n",
    "                        df[liste_unique[i]][liste_unique[j]]+=combine(counts[i],2)\n",
    "                else:\n",
    "                    df[liste_unique[i]][liste_unique[j]]+=counts[i]*counts[j]\n",
    "    return df\n",
    "######## Test ########\n",
    "Fij=compute_Fij(Aln,aa_toy)\n",
    "print(Fij,\"\\nMatrice des fréquences Fij\\n\",)\n",
    "\n"
   ]
  },
  {
   "cell_type": "code",
   "execution_count": 42,
   "metadata": {},
   "outputs": [
    {
     "name": "stdout",
     "output_type": "stream",
     "text": [
      "somme T : 30.0\n"
     ]
    }
   ],
   "source": [
    "#compute T\n",
    "def compute_T(df):                 #on obtient T en faisant la somme total de toutes les colonnes \n",
    "    return np.sum(np.sum(df))      #et de toutes les lignes\n",
    "\n",
    "######## Test ########\n",
    "T=compute_T(Fij)\n",
    "print(\"somme T :\",T)"
   ]
  },
  {
   "cell_type": "code",
   "execution_count": 43,
   "metadata": {},
   "outputs": [
    {
     "name": "stdout",
     "output_type": "stream",
     "text": [
      "liste des Pi : \n",
      "\n",
      "A    0.25\n",
      "B    0.40\n",
      "C    0.35\n",
      "dtype: float64\n"
     ]
    }
   ],
   "source": [
    "#compute pi\n",
    "def compute_Pi(df,T):                                    #calculer Pi revient à sommer la colonne et la ligne \n",
    "    return (df/(2*T)).sum(axis=0)+(df/(2*T)).sum(axis=1) #d'indice i de la matrice Fij/2T vu que qii/2 sera compter\n",
    "                                                         #2 fois donc on retrouve la formule du TD\n",
    "######## Test ########\n",
    "Pi=compute_Pi(Fij,T)\n",
    "print(\"liste des Pi : \\n\")\n",
    "print(Pi)"
   ]
  },
  {
   "cell_type": "code",
   "execution_count": 44,
   "metadata": {},
   "outputs": [],
   "source": [
    "#compute Sij\n",
    "def compute_Sij(file):   \n",
    "    #On rappelle toute nos fonction\n",
    "    Aln=readAlnFile(file)\n",
    "    alphabet=np.unique(Aln)    #on extrait l'alphabet depuis la matrice d'alignement\n",
    "    alphabet.sort()            #on le range pour toujours avoir une matrice identique dans un ordre logique (alphabétique)\n",
    "    df=compute_Fij(Aln,alphabet)\n",
    "    T=compute_T(df)\n",
    "    P=compute_Pi(df,T)\n",
    "    S=pd.DataFrame(np.zeros((len(df.index),len(df.index))),index=df.index,columns=df.index)\n",
    "    for i in S.index:\n",
    "        for j in S.index:\n",
    "            if j>=i:                                                      #on lit que la partie non nul de la matrice\n",
    "                if i==j:\n",
    "                    S[i][j]=math.log2((df[i][j]/T)/(P[i]**2))             #on remplit la diagonale \n",
    "                else:\n",
    "                    S[j][i]=S[i][j]=math.log2((df[i][j]/T)/(P[i]*P[j]*2)) #on remplit simultanément la partie supérieur\n",
    "    return S                                                              #et inférieur de la matrice (miroir)\n",
    "\n",
    "######## Test ########\n",
    "S_toy=compute_Sij(input_block_f_toy)\n",
    "S=compute_Sij(input_block_f)\n"
   ]
  },
  {
   "cell_type": "code",
   "execution_count": 45,
   "metadata": {},
   "outputs": [
    {
     "name": "stdout",
     "output_type": "stream",
     "text": [
      "matrice de substitution sur les données du TD :\n",
      "          A         B         C\n",
      "A  0.678072 -0.584963 -0.070389\n",
      "B -0.584963  0.058894  0.251539\n",
      "C -0.070389  0.251539 -0.292782 \n",
      "\n",
      "matrice de substitution sur les données du block.dat:\n",
      "          A         C         D         E         F         G         H  \\\n",
      "A  1.412787  0.837937 -1.388499 -0.756938 -1.183122 -0.496285 -0.455525   \n",
      "C  0.837937  3.199617 -3.206436 -2.976546  1.734936 -1.281577 -0.533737   \n",
      "D -1.388499 -3.206436  3.203186  0.921453 -2.431022 -2.768367  0.102164   \n",
      "E -0.756938 -2.976546  0.921453  2.356454 -1.164802 -2.871004  1.378560   \n",
      "F -1.183122  1.734936 -2.431022 -1.164802  2.867416 -1.463836  0.964796   \n",
      "G -0.496285 -1.281577 -2.768367 -2.871004 -1.463836  2.093620 -2.119040   \n",
      "H -0.455525 -0.533737  0.102164  1.378560  0.964796 -2.119040  2.083499   \n",
      "I -1.059804 -1.728069 -1.963469 -1.489948 -0.687422 -1.284775 -0.604315   \n",
      "K -0.801010 -2.906861 -0.651320  0.614567 -0.882305 -2.143753 -0.453616   \n",
      "L -0.594429 -0.156717 -1.462360 -0.483697  0.994004 -0.355214  0.252700   \n",
      "M  0.118300 -0.202390 -2.318428  0.487616  0.211094  0.060297 -0.043322   \n",
      "N -1.561873 -3.018256  0.666838 -0.499280 -1.614805 -1.317648  0.870345   \n",
      "P -0.203781 -1.102185  0.261231  0.740665 -1.034732 -0.117639 -1.335110   \n",
      "Q -0.651754 -1.383664 -0.214431  1.346277 -0.690975 -0.235325 -0.529885   \n",
      "R -1.129922 -2.523867 -1.200960 -0.334129 -0.296230 -2.784282  0.107510   \n",
      "S  0.117930 -0.482971  0.120005  0.276111 -0.760121 -0.706370  0.776197   \n",
      "T -0.789495 -0.232331  0.845076  0.231850 -0.583558 -1.459239  0.459329   \n",
      "V -0.203496 -0.285159 -1.807160 -1.206075 -0.117441 -0.958344 -0.640502   \n",
      "W -1.520441 -1.912249  0.124950  0.726274 -0.633497 -0.275369  0.331677   \n",
      "X -1.095636  1.695082 -0.012243  0.457701  1.293198 -1.620427  0.447154   \n",
      "Y  0.526569  2.294489 -0.578964  0.186127  0.706783 -1.626278  0.263554   \n",
      "\n",
      "          I         K         L  ...         N         P         Q         R  \\\n",
      "A -1.059804 -0.801010 -0.594429  ... -1.561873 -0.203781 -0.651754 -1.129922   \n",
      "C -1.728069 -2.906861 -0.156717  ... -3.018256 -1.102185 -1.383664 -2.523867   \n",
      "D -1.963469 -0.651320 -1.462360  ...  0.666838  0.261231 -0.214431 -1.200960   \n",
      "E -1.489948  0.614567 -0.483697  ... -0.499280  0.740665  1.346277 -0.334129   \n",
      "F -0.687422 -0.882305  0.994004  ... -1.614805 -1.034732 -0.690975 -0.296230   \n",
      "G -1.284775 -2.143753 -0.355214  ... -1.317648 -0.117639 -0.235325 -2.784282   \n",
      "H -0.604315 -0.453616  0.252700  ...  0.870345 -1.335110 -0.529885  0.107510   \n",
      "I  2.211428 -2.136662 -0.171934  ... -1.384473 -1.067786 -0.840203 -1.905360   \n",
      "K -2.136662  2.322445 -0.658294  ... -1.469292  0.710033  0.898341  1.880003   \n",
      "L -0.171934 -0.658294  1.808525  ... -1.281876 -1.167259 -0.127957 -1.313574   \n",
      "M -0.376309 -0.745742  0.301050  ... -2.088867 -1.946739  1.105969 -0.316784   \n",
      "N -1.384473 -1.469292 -1.281876  ...  3.597228  0.214428 -1.080731 -0.590895   \n",
      "P -1.067786  0.710033 -1.167259  ...  0.214428  3.215542 -0.398640 -0.734729   \n",
      "Q -0.840203  0.898341 -0.127957  ... -1.080731 -0.398640  1.965792  0.527820   \n",
      "R -1.905360  1.880003 -1.313574  ... -0.590895 -0.734729  0.527820  3.047993   \n",
      "S -1.501602 -0.055710 -0.387531  ...  0.411842  1.241326 -0.246285 -0.796141   \n",
      "T -0.173167 -0.898501 -0.511171  ... -0.114444 -0.314408 -0.820902 -0.338424   \n",
      "V  1.404428 -1.677418 -0.224404  ... -0.717124 -1.343036 -0.564839 -1.786796   \n",
      "W -1.652308  1.184422  0.445612  ... -2.377826 -3.001747  1.762142 -0.109145   \n",
      "X  0.101726 -0.533906 -0.370081  ...  1.978618 -0.866506 -0.480975 -2.705570   \n",
      "Y -0.456140 -0.708949 -0.592516  ... -1.224965  0.108276 -0.575981 -0.567517   \n",
      "\n",
      "          S         T         V         W         X         Y  \n",
      "A  0.117930 -0.789495 -0.203496 -1.520441 -1.095636  0.526569  \n",
      "C -0.482971 -0.232331 -0.285159 -1.912249  1.695082  2.294489  \n",
      "D  0.120005  0.845076 -1.807160  0.124950 -0.012243 -0.578964  \n",
      "E  0.276111  0.231850 -1.206075  0.726274  0.457701  0.186127  \n",
      "F -0.760121 -0.583558 -0.117441 -0.633497  1.293198  0.706783  \n",
      "G -0.706370 -1.459239 -0.958344 -0.275369 -1.620427 -1.626278  \n",
      "H  0.776197  0.459329 -0.640502  0.331677  0.447154  0.263554  \n",
      "I -1.501602 -0.173167  1.404428 -1.652308  0.101726 -0.456140  \n",
      "K -0.055710 -0.898501 -1.677418  1.184422 -0.533906 -0.708949  \n",
      "L -0.387531 -0.511171 -0.224404  0.445612 -0.370081 -0.592516  \n",
      "M -0.038027 -0.659229 -0.152652  0.787221 -1.773285  0.119951  \n",
      "N  0.411842 -0.114444 -0.717124 -2.377826  1.978618 -1.224965  \n",
      "P  1.241326 -0.314408 -1.343036 -3.001747 -0.866506  0.108276  \n",
      "Q -0.246285 -0.820902 -0.564839  1.762142 -0.480975 -0.575981  \n",
      "R -0.796141 -0.338424 -1.786796 -0.109145 -2.705570 -0.567517  \n",
      "S  2.211084 -0.023854 -1.338425 -2.258699 -1.146780  0.905056  \n",
      "T -0.023854  3.051185 -0.551458  1.747818  0.423873 -0.377616  \n",
      "V -1.338425 -0.551458  1.645247 -0.263761  0.556956 -0.524076  \n",
      "W -2.258699  1.747818 -0.263761  3.031168  0.333058  0.048081  \n",
      "X -1.146780  0.423873  0.556956  0.333058  2.301048  0.614330  \n",
      "Y  0.905056 -0.377616 -0.524076  0.048081  0.614330  2.366375  \n",
      "\n",
      "[21 rows x 21 columns]\n"
     ]
    }
   ],
   "source": [
    "#print Matrix\n",
    "print(\"matrice de substitution sur les données du TD :\")\n",
    "print(S_toy,\"\\n\")\n",
    "print(\"matrice de substitution sur les données du block.dat:\")\n",
    "print(S)"
   ]
  },
  {
   "cell_type": "code",
   "execution_count": null,
   "metadata": {},
   "outputs": [],
   "source": []
  }
 ],
 "metadata": {
  "kernelspec": {
   "display_name": "Python 3",
   "language": "python",
   "name": "python3"
  },
  "language_info": {
   "codemirror_mode": {
    "name": "ipython",
    "version": 3
   },
   "file_extension": ".py",
   "mimetype": "text/x-python",
   "name": "python",
   "nbconvert_exporter": "python",
   "pygments_lexer": "ipython3",
   "version": "3.7.5"
  }
 },
 "nbformat": 4,
 "nbformat_minor": 1
}
